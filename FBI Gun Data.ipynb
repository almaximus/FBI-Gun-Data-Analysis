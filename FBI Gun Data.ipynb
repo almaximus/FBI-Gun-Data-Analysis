{
 "cells": [
  {
   "cell_type": "markdown",
   "metadata": {},
   "source": [
    "# FBI Gun Data Analysis\n",
    "\n",
    "## Table of Contents\n",
    "<ul>\n",
    "<li><a href=\"#intro\">Introduction</a></li>\n",
    "<li><a href=\"#wrangling\">Data Wrangling</a></li>\n",
    "<li><a href=\"#eda\">Exploratory Data Analysis</a></li>\n",
    "<li><a href=\"#conclusions\">Conclusions</a></li>\n",
    "</ul>"
   ]
  },
  {
   "cell_type": "markdown",
   "metadata": {},
   "source": [
    "<a id='intro'></a>\n",
    "## Introduction\n",
    "\n",
    ">In this project I will be analyzing the backgroun check applications data from National Instant Criminal Background Check System (NICS) which is used for conducting background checks of a prospective firearm buyers and for other puproses related to firearms handover.\n",
    "I will be analyzing if the number of applications for background check is increasing or decreasing and what factors impact the number of applications the most.\n",
    "In my opinion, the number of the applications is impacted by gun laws and laws related to self-defense (\"Stand your ground\" and \"Duty to retreat doctrines\") in a particular state and by income level."
   ]
  },
  {
   "cell_type": "markdown",
   "metadata": {},
   "source": [
    "### Questions that will be addressed in this analysis:\n",
    "\n",
    "\n",
    ">**1. How the number of applications for the background check has changed over years?**\n",
    "\n",
    ">**2. Which state has the highest number of applictions?**\n",
    "\n",
    ">**3. Do gun laws in a particular state impact the number of applications?**\n",
    "\n",
    ">**4. Does the level of income per capita in a particular state impacts the number of applications?**"
   ]
  },
  {
   "cell_type": "markdown",
   "metadata": {},
   "source": [
    "### Links that were used in this analysis:\n",
    "\n",
    "\n",
    "<n><li><a href=\"https://github.com/BuzzFeedNews/nics-firearm-background-checks/blob/master/README.md\">Additional information about NICS dataset</a></li></n>\n",
    "\n",
    "<n><li><a href=\"https://www.fbi.gov/file-repository/nics_firearm_checks_-_month_year_by_state_type.pdf/view\">Original FBI Dataset</a></li></n>\n",
    "\n",
    "<n><li><a href=\"https://www.atf.gov/file/110076/download\">Additional information about Federal Firearms License</a></li></n>\n",
    "\n",
    "\n",
    "<n><li><a href=\"https://www2.census.gov/programs-surveys/popest/technical-documentation/methodology/2010-2019/natstcopr-methv2.pdf\">Information about Methodology of population estimates</a></li></n>\n",
    "\n",
    "<n><li><a href=\"https://en.wikipedia.org/wiki/Gun_laws_in_the_United_States_by_state\">Information about gun laws in the United States</a></li></n>\n",
    "\n",
    "<n><li><a href=\"https://en.wikipedia.org/wiki/Stand-your-ground_law\">Information about Stand-Your-Ground doctine in the United States</a></li></n>\n",
    "\n",
    "<n><li><a href=\"https://www.census.gov/quickfacts/fact/note/US/INC910218#:~:text=Per%20capita%20income%20is%20the,those%20living%20in%20group%20quarters.&text=For%20the%20complete%20definition%2C%20go,Months%2C%20Per%20Capita%20Income.%22\">Information about Per Capita Income</a></li></n>\n",
    "\n",
    "**Resources used for improving the code:**\n",
    "\n",
    "https://stackoverflow.com/\n",
    "\n",
    "https://pythonspot.com/\n",
    "\n",
    "https://towardsdatascience.com/"
   ]
  },
  {
   "cell_type": "markdown",
   "metadata": {},
   "source": [
    "<a id='wrangling'></a>\n",
    "## Data Wrangling"
   ]
  },
  {
   "cell_type": "markdown",
   "metadata": {},
   "source": [
    ">**Importing the necessary modules and magic commands.**"
   ]
  },
  {
   "cell_type": "markdown",
   "metadata": {},
   "source": [
    "### Data Reading"
   ]
  },
  {
   "cell_type": "code",
   "execution_count": 37,
   "metadata": {},
   "outputs": [],
   "source": [
    "import numpy as np\n",
    "import pandas as pd\n",
    "import matplotlib.pyplot as plt\n",
    "import seaborn as sns\n",
    "%matplotlib inline"
   ]
  },
  {
   "cell_type": "markdown",
   "metadata": {},
   "source": [
    ">**I'll have a quick look ohe data and determine which columns and rows can be used in the analysis and which ones can be dropped.**"
   ]
  },
  {
   "cell_type": "code",
   "execution_count": 38,
   "metadata": {
    "scrolled": true
   },
   "outputs": [
    {
     "data": {
      "text/html": [
       "<div>\n",
       "<style scoped>\n",
       "    .dataframe tbody tr th:only-of-type {\n",
       "        vertical-align: middle;\n",
       "    }\n",
       "\n",
       "    .dataframe tbody tr th {\n",
       "        vertical-align: top;\n",
       "    }\n",
       "\n",
       "    .dataframe thead th {\n",
       "        text-align: right;\n",
       "    }\n",
       "</style>\n",
       "<table border=\"1\" class=\"dataframe\">\n",
       "  <thead>\n",
       "    <tr style=\"text-align: right;\">\n",
       "      <th></th>\n",
       "      <th>month</th>\n",
       "      <th>state</th>\n",
       "      <th>permit</th>\n",
       "      <th>permit_recheck</th>\n",
       "      <th>handgun</th>\n",
       "      <th>long_gun</th>\n",
       "      <th>other</th>\n",
       "      <th>multiple</th>\n",
       "      <th>admin</th>\n",
       "      <th>prepawn_handgun</th>\n",
       "      <th>...</th>\n",
       "      <th>returned_other</th>\n",
       "      <th>rentals_handgun</th>\n",
       "      <th>rentals_long_gun</th>\n",
       "      <th>private_sale_handgun</th>\n",
       "      <th>private_sale_long_gun</th>\n",
       "      <th>private_sale_other</th>\n",
       "      <th>return_to_seller_handgun</th>\n",
       "      <th>return_to_seller_long_gun</th>\n",
       "      <th>return_to_seller_other</th>\n",
       "      <th>totals</th>\n",
       "    </tr>\n",
       "  </thead>\n",
       "  <tbody>\n",
       "    <tr>\n",
       "      <th>0</th>\n",
       "      <td>2017-09</td>\n",
       "      <td>Alabama</td>\n",
       "      <td>16717.00</td>\n",
       "      <td>0.00</td>\n",
       "      <td>5734.00</td>\n",
       "      <td>6320.00</td>\n",
       "      <td>221.00</td>\n",
       "      <td>317</td>\n",
       "      <td>0.00</td>\n",
       "      <td>15.00</td>\n",
       "      <td>...</td>\n",
       "      <td>0.00</td>\n",
       "      <td>0.00</td>\n",
       "      <td>0.00</td>\n",
       "      <td>9.00</td>\n",
       "      <td>16.00</td>\n",
       "      <td>3.00</td>\n",
       "      <td>0.00</td>\n",
       "      <td>0.00</td>\n",
       "      <td>3.00</td>\n",
       "      <td>32019</td>\n",
       "    </tr>\n",
       "    <tr>\n",
       "      <th>1</th>\n",
       "      <td>2017-09</td>\n",
       "      <td>Alaska</td>\n",
       "      <td>209.00</td>\n",
       "      <td>2.00</td>\n",
       "      <td>2320.00</td>\n",
       "      <td>2930.00</td>\n",
       "      <td>219.00</td>\n",
       "      <td>160</td>\n",
       "      <td>0.00</td>\n",
       "      <td>5.00</td>\n",
       "      <td>...</td>\n",
       "      <td>0.00</td>\n",
       "      <td>0.00</td>\n",
       "      <td>0.00</td>\n",
       "      <td>17.00</td>\n",
       "      <td>24.00</td>\n",
       "      <td>1.00</td>\n",
       "      <td>0.00</td>\n",
       "      <td>0.00</td>\n",
       "      <td>0.00</td>\n",
       "      <td>6303</td>\n",
       "    </tr>\n",
       "    <tr>\n",
       "      <th>2</th>\n",
       "      <td>2017-09</td>\n",
       "      <td>Arizona</td>\n",
       "      <td>5069.00</td>\n",
       "      <td>382.00</td>\n",
       "      <td>11063.00</td>\n",
       "      <td>7946.00</td>\n",
       "      <td>920.00</td>\n",
       "      <td>631</td>\n",
       "      <td>0.00</td>\n",
       "      <td>13.00</td>\n",
       "      <td>...</td>\n",
       "      <td>0.00</td>\n",
       "      <td>0.00</td>\n",
       "      <td>0.00</td>\n",
       "      <td>38.00</td>\n",
       "      <td>12.00</td>\n",
       "      <td>2.00</td>\n",
       "      <td>0.00</td>\n",
       "      <td>0.00</td>\n",
       "      <td>0.00</td>\n",
       "      <td>28394</td>\n",
       "    </tr>\n",
       "    <tr>\n",
       "      <th>3</th>\n",
       "      <td>2017-09</td>\n",
       "      <td>Arkansas</td>\n",
       "      <td>2935.00</td>\n",
       "      <td>632.00</td>\n",
       "      <td>4347.00</td>\n",
       "      <td>6063.00</td>\n",
       "      <td>165.00</td>\n",
       "      <td>366</td>\n",
       "      <td>51.00</td>\n",
       "      <td>12.00</td>\n",
       "      <td>...</td>\n",
       "      <td>0.00</td>\n",
       "      <td>0.00</td>\n",
       "      <td>0.00</td>\n",
       "      <td>13.00</td>\n",
       "      <td>23.00</td>\n",
       "      <td>0.00</td>\n",
       "      <td>0.00</td>\n",
       "      <td>2.00</td>\n",
       "      <td>1.00</td>\n",
       "      <td>17747</td>\n",
       "    </tr>\n",
       "    <tr>\n",
       "      <th>4</th>\n",
       "      <td>2017-09</td>\n",
       "      <td>California</td>\n",
       "      <td>57839.00</td>\n",
       "      <td>0.00</td>\n",
       "      <td>37165.00</td>\n",
       "      <td>24581.00</td>\n",
       "      <td>2984.00</td>\n",
       "      <td>0</td>\n",
       "      <td>0.00</td>\n",
       "      <td>0.00</td>\n",
       "      <td>...</td>\n",
       "      <td>0.00</td>\n",
       "      <td>0.00</td>\n",
       "      <td>0.00</td>\n",
       "      <td>0.00</td>\n",
       "      <td>0.00</td>\n",
       "      <td>0.00</td>\n",
       "      <td>0.00</td>\n",
       "      <td>0.00</td>\n",
       "      <td>0.00</td>\n",
       "      <td>123506</td>\n",
       "    </tr>\n",
       "  </tbody>\n",
       "</table>\n",
       "<p>5 rows × 27 columns</p>\n",
       "</div>"
      ],
      "text/plain": [
       "     month       state   permit  permit_recheck  handgun  long_gun   other  \\\n",
       "0  2017-09     Alabama 16717.00            0.00  5734.00   6320.00  221.00   \n",
       "1  2017-09      Alaska   209.00            2.00  2320.00   2930.00  219.00   \n",
       "2  2017-09     Arizona  5069.00          382.00 11063.00   7946.00  920.00   \n",
       "3  2017-09    Arkansas  2935.00          632.00  4347.00   6063.00  165.00   \n",
       "4  2017-09  California 57839.00            0.00 37165.00  24581.00 2984.00   \n",
       "\n",
       "   multiple  admin  prepawn_handgun  ...  returned_other  rentals_handgun  \\\n",
       "0       317   0.00            15.00  ...            0.00             0.00   \n",
       "1       160   0.00             5.00  ...            0.00             0.00   \n",
       "2       631   0.00            13.00  ...            0.00             0.00   \n",
       "3       366  51.00            12.00  ...            0.00             0.00   \n",
       "4         0   0.00             0.00  ...            0.00             0.00   \n",
       "\n",
       "   rentals_long_gun  private_sale_handgun  private_sale_long_gun  \\\n",
       "0              0.00                  9.00                  16.00   \n",
       "1              0.00                 17.00                  24.00   \n",
       "2              0.00                 38.00                  12.00   \n",
       "3              0.00                 13.00                  23.00   \n",
       "4              0.00                  0.00                   0.00   \n",
       "\n",
       "   private_sale_other  return_to_seller_handgun  return_to_seller_long_gun  \\\n",
       "0                3.00                      0.00                       0.00   \n",
       "1                1.00                      0.00                       0.00   \n",
       "2                2.00                      0.00                       0.00   \n",
       "3                0.00                      0.00                       2.00   \n",
       "4                0.00                      0.00                       0.00   \n",
       "\n",
       "   return_to_seller_other  totals  \n",
       "0                    3.00   32019  \n",
       "1                    0.00    6303  \n",
       "2                    0.00   28394  \n",
       "3                    1.00   17747  \n",
       "4                    0.00  123506  \n",
       "\n",
       "[5 rows x 27 columns]"
      ]
     },
     "execution_count": 38,
     "metadata": {},
     "output_type": "execute_result"
    }
   ],
   "source": [
    "df = pd.read_excel('~/Desktop/Udacity/Project 2/Data/gun_data.xlsx')\n",
    "df.head(5)"
   ]
  },
  {
   "cell_type": "markdown",
   "metadata": {},
   "source": [
    ">**Getting the basic number of rows, columns, data types and number of non-null values of the gun data.**"
   ]
  },
  {
   "cell_type": "code",
   "execution_count": 39,
   "metadata": {
    "scrolled": true
   },
   "outputs": [
    {
     "data": {
      "text/plain": [
       "(12485, 27)"
      ]
     },
     "execution_count": 39,
     "metadata": {},
     "output_type": "execute_result"
    }
   ],
   "source": [
    "df.shape"
   ]
  },
  {
   "cell_type": "code",
   "execution_count": 40,
   "metadata": {},
   "outputs": [
    {
     "name": "stdout",
     "output_type": "stream",
     "text": [
      "<class 'pandas.core.frame.DataFrame'>\n",
      "RangeIndex: 12485 entries, 0 to 12484\n",
      "Data columns (total 27 columns):\n",
      " #   Column                     Non-Null Count  Dtype  \n",
      "---  ------                     --------------  -----  \n",
      " 0   month                      12485 non-null  object \n",
      " 1   state                      12485 non-null  object \n",
      " 2   permit                     12461 non-null  float64\n",
      " 3   permit_recheck             1100 non-null   float64\n",
      " 4   handgun                    12465 non-null  float64\n",
      " 5   long_gun                   12466 non-null  float64\n",
      " 6   other                      5500 non-null   float64\n",
      " 7   multiple                   12485 non-null  int64  \n",
      " 8   admin                      12462 non-null  float64\n",
      " 9   prepawn_handgun            10542 non-null  float64\n",
      " 10  prepawn_long_gun           10540 non-null  float64\n",
      " 11  prepawn_other              5115 non-null   float64\n",
      " 12  redemption_handgun         10545 non-null  float64\n",
      " 13  redemption_long_gun        10544 non-null  float64\n",
      " 14  redemption_other           5115 non-null   float64\n",
      " 15  returned_handgun           2200 non-null   float64\n",
      " 16  returned_long_gun          2145 non-null   float64\n",
      " 17  returned_other             1815 non-null   float64\n",
      " 18  rentals_handgun            990 non-null    float64\n",
      " 19  rentals_long_gun           825 non-null    float64\n",
      " 20  private_sale_handgun       2750 non-null   float64\n",
      " 21  private_sale_long_gun      2750 non-null   float64\n",
      " 22  private_sale_other         2750 non-null   float64\n",
      " 23  return_to_seller_handgun   2475 non-null   float64\n",
      " 24  return_to_seller_long_gun  2750 non-null   float64\n",
      " 25  return_to_seller_other     2255 non-null   float64\n",
      " 26  totals                     12485 non-null  int64  \n",
      "dtypes: float64(23), int64(2), object(2)\n",
      "memory usage: 2.6+ MB\n"
     ]
    }
   ],
   "source": [
    "df.info()"
   ]
  },
  {
   "cell_type": "code",
   "execution_count": 41,
   "metadata": {
    "scrolled": true
   },
   "outputs": [
    {
     "data": {
      "text/plain": [
       "154595"
      ]
     },
     "execution_count": 41,
     "metadata": {},
     "output_type": "execute_result"
    }
   ],
   "source": [
    "df.isnull().sum().sum()"
   ]
  },
  {
   "cell_type": "markdown",
   "metadata": {},
   "source": [
    ">**Creating a function to be able to obtain a list of unique values for each column. Applying the function to the gun data**"
   ]
  },
  {
   "cell_type": "code",
   "execution_count": 42,
   "metadata": {},
   "outputs": [],
   "source": [
    "def get_unique(dframe):\n",
    "#this function takes a dataframe name as the argument and prints the list of unique values for each column in the\n",
    "#specified dataframe.\n",
    "    for i in dframe.columns:\n",
    "        x=pd.unique(dframe[i])\n",
    "        print(i.upper() + \": \",x)"
   ]
  },
  {
   "cell_type": "code",
   "execution_count": 43,
   "metadata": {},
   "outputs": [
    {
     "name": "stdout",
     "output_type": "stream",
     "text": [
      "MONTH:  ['2017-09' '2017-08' '2017-07' '2017-06' '2017-05' '2017-04' '2017-03'\n",
      " '2017-02' '2017-01' '2016-12' '2016-11' '2016-10' '2016-09' '2016-08'\n",
      " '2016-07' '2016-06' '2016-05' '2016-04' '2016-03' '2016-02' '2016-01'\n",
      " '2015-12' '2015-11' '2015-10' '2015-09' '2015-08' '2015-07' '2015-06'\n",
      " '2015-05' '2015-04' '2015-03' '2015-02' '2015-01' '2014-12' '2014-11'\n",
      " '2014-10' '2014-09' '2014-08' '2014-07' '2014-06' '2014-05' '2014-04'\n",
      " '2014-03' '2014-02' '2014-01' '2013-12' '2013-11' '2013-10' '2013-09'\n",
      " '2013-08' '2013-07' '2013-06' '2013-05' '2013-04' '2013-03' '2013-02'\n",
      " '2013-01' '2012-12' '2012-11' '2012-10' '2012-09' '2012-08' '2012-07'\n",
      " '2012-06' '2012-05' '2012-04' '2012-03' '2012-02' '2012-01' '2011-12'\n",
      " '2011-11' '2011-10' '2011-09' '2011-08' '2011-07' '2011-06' '2011-05'\n",
      " '2011-04' '2011-03' '2011-02' '2011-01' '2010-12' '2010-11' '2010-10'\n",
      " '2010-09' '2010-08' '2010-07' '2010-06' '2010-05' '2010-04' '2010-03'\n",
      " '2010-02' '2010-01' '2009-12' '2009-11' '2009-10' '2009-09' '2009-08'\n",
      " '2009-07' '2009-06' '2009-05' '2009-04' '2009-03' '2009-02' '2009-01'\n",
      " '2008-12' '2008-11' '2008-10' '2008-09' '2008-08' '2008-07' '2008-06'\n",
      " '2008-05' '2008-04' '2008-03' '2008-02' '2008-01' '2007-12' '2007-11'\n",
      " '2007-10' '2007-09' '2007-08' '2007-07' '2007-06' '2007-05' '2007-04'\n",
      " '2007-03' '2007-02' '2007-01' '2006-12' '2006-11' '2006-10' '2006-09'\n",
      " '2006-08' '2006-07' '2006-06' '2006-05' '2006-04' '2006-03' '2006-02'\n",
      " '2006-01' '2005-12' '2005-11' '2005-10' '2005-09' '2005-08' '2005-07'\n",
      " '2005-06' '2005-05' '2005-04' '2005-03' '2005-02' '2005-01' '2004-12'\n",
      " '2004-11' '2004-10' '2004-09' '2004-08' '2004-07' '2004-06' '2004-05'\n",
      " '2004-04' '2004-03' '2004-02' '2004-01' '2003-12' '2003-11' '2003-10'\n",
      " '2003-09' '2003-08' '2003-07' '2003-06' '2003-05' '2003-04' '2003-03'\n",
      " '2003-02' '2003-01' '2002-12' '2002-11' '2002-10' '2002-09' '2002-08'\n",
      " '2002-07' '2002-06' '2002-05' '2002-04' '2002-03' '2002-02' '2002-01'\n",
      " '2001-12' '2001-11' '2001-10' '2001-09' '2001-08' '2001-07' '2001-06'\n",
      " '2001-05' '2001-04' '2001-03' '2001-02' '2001-01' '2000-12' '2000-11'\n",
      " '2000-10' '2000-09' '2000-08' '2000-07' '2000-06' '2000-05' '2000-04'\n",
      " '2000-03' '2000-02' '2000-01' '1999-12' '1999-11' '1999-10' '1999-09'\n",
      " '1999-08' '1999-07' '1999-06' '1999-05' '1999-04' '1999-03' '1999-02'\n",
      " '1999-01' '1998-12' '1998-11']\n",
      "STATE:  ['Alabama' 'Alaska' 'Arizona' 'Arkansas' 'California' 'Colorado'\n",
      " 'Connecticut' 'Delaware' 'District of Columbia' 'Florida' 'Georgia'\n",
      " 'Guam' 'Hawaii' 'Idaho' 'Illinois' 'Indiana' 'Iowa' 'Kansas' 'Kentucky'\n",
      " 'Louisiana' 'Maine' 'Mariana Islands' 'Maryland' 'Massachusetts'\n",
      " 'Michigan' 'Minnesota' 'Mississippi' 'Missouri' 'Montana' 'Nebraska'\n",
      " 'Nevada' 'New Hampshire' 'New Jersey' 'New Mexico' 'New York'\n",
      " 'North Carolina' 'North Dakota' 'Ohio' 'Oklahoma' 'Oregon' 'Pennsylvania'\n",
      " 'Puerto Rico' 'Rhode Island' 'South Carolina' 'South Dakota' 'Tennessee'\n",
      " 'Texas' 'Utah' 'Vermont' 'Virgin Islands' 'Virginia' 'Washington'\n",
      " 'West Virginia' 'Wisconsin' 'Wyoming']\n",
      "PERMIT:  [16717.   209.  5069. ...   668.   434.   579.]\n",
      "PERMIT_RECHECK:  [0.00000e+00 2.00000e+00 3.82000e+02 6.32000e+02 6.73000e+02 7.14320e+04\n",
      " 1.21700e+03 3.00000e+00 1.90000e+01 1.13000e+02 1.16400e+03 4.90000e+02\n",
      " 1.10000e+01 3.49000e+02 2.50000e+01 4.40000e+01 4.00000e+00 1.30000e+01\n",
      " 3.26000e+02 9.57000e+02 4.20000e+02 1.00000e+00 7.79490e+04 1.06800e+03\n",
      " 2.00000e+01 6.00000e+00 1.24000e+02 1.60000e+03 5.65000e+02 2.07700e+03\n",
      " 5.10000e+01 1.50000e+01 5.00000e+00 1.26000e+02 5.71000e+02 2.74000e+02\n",
      " 6.52710e+04 1.84600e+03 1.40000e+01 2.21000e+02 1.05300e+03 8.52000e+02\n",
      " 4.30000e+01 6.64000e+02 2.90000e+01 5.80000e+01 9.00000e+00 8.90000e+01\n",
      " 1.57000e+02 7.78000e+02 6.73310e+04 8.56000e+02 1.00000e+01 1.08200e+03\n",
      " 3.47000e+02 4.20000e+01 5.78000e+02 3.90000e+01 4.90000e+01 1.60000e+01\n",
      " 3.13000e+02 1.36000e+02 6.66000e+02 7.46190e+04 1.26800e+03 1.80000e+01\n",
      " 3.70000e+01 1.62200e+03 6.60000e+01 8.00000e+00 5.25000e+02 5.60000e+01\n",
      " 3.40000e+02 1.27000e+02 7.77000e+02 8.34270e+04 7.24000e+02 1.52300e+03\n",
      " 5.90000e+01 9.87000e+02 5.40000e+01 3.50000e+01 9.20000e+01 7.40000e+02\n",
      " 1.16681e+05 7.40000e+01 1.63500e+03 1.18000e+02 5.99000e+02 2.30000e+01\n",
      " 4.70000e+01 3.20000e+01 8.74760e+04 1.34000e+03 1.05000e+02 1.22000e+02\n",
      " 8.67000e+02 7.77920e+04 8.51000e+02 5.30000e+01 1.55700e+03 7.30000e+01\n",
      " 1.21000e+02 6.92000e+02 7.26320e+04 2.72000e+02 2.70000e+01 1.12600e+03\n",
      " 1.34000e+02 1.38000e+02 9.83000e+02 3.10000e+01 8.66800e+04 9.80000e+01\n",
      " 2.10000e+01 3.40000e+01 7.20000e+02 1.62000e+02 1.02000e+02 6.50000e+01\n",
      " 1.08800e+03 9.89700e+04 3.07000e+03 4.80000e+01 6.20000e+01 1.60000e+02\n",
      " 8.60000e+01 6.96000e+02 7.72230e+04 3.65900e+03 1.41000e+02 1.20000e+01\n",
      " 2.10000e+02 1.03000e+02 8.40000e+02 7.48670e+04 3.95300e+03 1.14000e+02\n",
      " 1.94600e+03 3.30000e+01 3.08000e+02 6.77000e+02 8.96900e+03 3.75300e+03\n",
      " 5.50000e+01 1.19330e+04 6.67000e+02 3.99000e+02 3.88200e+03 7.10000e+01\n",
      " 1.49230e+04 5.00000e+01 1.01600e+03 3.31000e+02 1.92600e+03 1.12000e+02\n",
      " 1.08760e+04 9.07000e+02 4.08000e+02 4.00000e+01 1.76500e+04 1.62800e+03\n",
      " 5.64000e+02 5.36900e+03 7.00000e+01 3.58000e+02 6.90000e+01 9.30000e+01\n",
      "         nan]\n",
      "HANDGUN:  [ 5734.  2320. 11063. ...   125.   259.  1384.]\n",
      "LONG_GUN:  [6320. 2930. 7946. ...  279.  695.  286.]\n",
      "OTHER:  [221. 219. 920. ... 471. 317.  nan]\n",
      "MULTIPLE:  [ 317  160  631 ... 1126 1277 2047]\n",
      "ADMIN:  [0.0000e+00 5.1000e+01 1.0000e+00 7.9000e+01 3.0000e+00 2.0000e+00\n",
      " 1.7900e+02 1.1000e+01 3.4000e+01 1.3600e+02 1.8800e+02 4.0000e+00\n",
      " 7.0000e+00 1.7200e+02 6.0000e+00 4.4000e+01 3.6200e+02 2.0000e+01\n",
      " 1.9400e+02 1.2000e+01 1.0000e+01 2.6000e+01 2.2600e+02 1.7000e+01\n",
      " 9.0000e+00 2.0300e+02 5.2000e+01 2.4900e+02 8.0000e+00 2.4000e+01\n",
      " 2.4200e+02 5.0000e+00 8.0000e+01 1.8200e+02 3.1000e+01 1.2300e+02\n",
      " 1.4000e+01 2.6400e+02 5.9000e+01 1.0400e+02 2.3500e+02 2.5000e+01\n",
      " 1.5000e+01 3.6000e+01 1.6000e+02 3.7000e+01 2.2000e+01 3.5000e+01\n",
      " 1.9600e+02 4.5000e+01 2.0500e+02 2.8000e+01 1.6800e+02 1.2000e+02\n",
      " 1.4500e+02 4.6000e+01 1.0800e+02 1.8000e+01 4.0000e+01 1.3000e+01\n",
      " 2.3000e+01 3.2000e+01 1.5200e+02 4.8000e+01 9.4000e+01 1.5400e+02\n",
      " 7.3000e+01 6.3000e+01 1.0900e+02 8.5000e+01 5.7000e+01 1.2100e+02\n",
      " 1.0250e+03 5.8000e+01 1.6300e+02 2.1130e+03 4.3000e+01 1.7300e+02\n",
      " 9.6000e+01 3.0000e+01 1.9300e+02 1.6000e+01 6.5000e+01 1.8500e+02\n",
      " 2.7000e+01 1.7000e+02 1.7700e+02 5.0000e+01 2.3900e+02 2.9000e+01\n",
      " 3.0100e+02 4.1000e+01 7.4000e+01 2.1800e+02 2.0800e+02 4.4000e+02\n",
      " 3.3000e+01 1.8700e+02 6.7000e+01 1.1700e+02 2.3000e+02 7.1000e+01\n",
      " 1.6500e+02 7.7000e+01 2.1000e+02 2.0900e+02 3.9000e+01 1.1900e+02\n",
      " 2.4800e+02 7.6000e+01 1.6200e+02 5.6000e+01 6.6000e+01 1.4200e+02\n",
      " 1.3200e+02 9.1000e+01 5.3000e+01 2.3100e+02 4.8200e+02 4.2400e+02\n",
      " 4.5400e+02 8.3000e+01 3.6400e+02 3.1200e+02 1.9000e+01 5.5800e+02\n",
      " 6.0700e+02 3.4200e+02 3.2000e+02 2.1300e+02 4.7000e+01 1.2600e+02\n",
      " 1.2900e+02 1.0500e+02 1.7500e+02 3.0600e+02 1.7800e+02 2.3600e+02\n",
      " 2.4100e+02 3.7400e+02 1.5000e+02 3.5900e+02 1.1490e+03 2.7900e+02\n",
      " 7.6800e+02 2.2300e+02 1.2290e+03 8.2900e+02 9.7000e+02 4.4700e+02\n",
      " 8.1400e+02 2.1000e+01 3.3000e+02 9.8800e+02 6.5300e+02 9.3400e+02\n",
      " 8.6600e+02 9.0800e+02 5.2900e+02 6.5200e+02 7.4700e+02 6.3100e+02\n",
      " 3.1000e+02 3.3800e+02 4.6900e+02 2.0700e+02 4.5500e+02 3.8000e+02\n",
      " 5.5300e+02 4.8800e+02 4.7500e+02 5.8500e+02 3.7900e+02 4.0500e+02\n",
      " 5.2000e+02 6.9000e+02 5.3400e+02 5.3900e+02 4.3600e+02 4.8600e+02\n",
      " 5.4200e+02 8.9700e+02 4.9500e+02 7.5000e+01 4.2500e+02 4.0200e+02\n",
      " 5.0400e+02 6.5100e+02 8.1600e+02 7.1300e+02 4.9000e+01 8.0500e+02\n",
      " 4.0600e+02 6.0600e+02 4.7700e+02 7.4300e+02 5.3000e+02 5.6300e+02\n",
      " 3.5200e+02 5.1400e+02 4.3200e+02 5.5600e+02 5.9700e+02 5.0700e+02\n",
      " 2.0230e+03 4.9980e+03 4.3800e+02 5.9950e+03 6.5040e+03 3.8800e+02\n",
      " 5.1060e+03 4.3100e+02 3.6700e+02 2.9300e+02 2.7500e+02 2.5700e+02\n",
      " 6.8000e+01 2.2500e+02 7.0000e+01 2.5800e+02 9.5000e+01 2.6600e+02\n",
      " 1.1400e+02 2.8700e+02 9.8000e+01 3.3400e+02 2.2000e+02 2.8083e+04\n",
      " 1.0300e+02 2.5000e+02 4.0800e+02 9.3000e+01 3.5200e+03 9.0000e+01\n",
      " 4.8220e+03 9.2000e+01 2.8800e+02 8.2000e+01 2.6100e+02 3.1400e+02\n",
      " 2.1500e+02        nan 2.5400e+02 3.2200e+02 1.1300e+02 2.2800e+02\n",
      " 2.8000e+02 1.4000e+02 3.0800e+02 3.8000e+01 2.8300e+02 1.3400e+02\n",
      " 2.7100e+02 1.5120e+03 1.0600e+02 3.9140e+03 2.0400e+02 2.7470e+03\n",
      " 3.0830e+03 1.8300e+02 6.7070e+03 2.7420e+03 3.6690e+03 6.0000e+01\n",
      " 2.6000e+03 3.9500e+02 7.8000e+01 3.9590e+03 1.7020e+03 3.5800e+02\n",
      " 6.1000e+01 3.6360e+03 1.2800e+02 2.5300e+02 3.0920e+03 1.5500e+02\n",
      " 2.4700e+02 3.0850e+03 2.6800e+02 8.8000e+01 2.1850e+03 5.3200e+02\n",
      " 1.8310e+03 3.1500e+02 2.0040e+03 1.7600e+02 3.3600e+02 1.4840e+03\n",
      " 2.5900e+02 2.7700e+02 1.7400e+02 1.0890e+03 2.0200e+02 1.1080e+03\n",
      " 3.0700e+02 4.0760e+03 1.6600e+02 2.8500e+02 6.0570e+03 3.7000e+02\n",
      " 2.0000e+02 4.0700e+02 6.6240e+03 3.9700e+02 2.8200e+02 5.1100e+03\n",
      " 5.7500e+02 1.6100e+02 4.7250e+03 1.5100e+02 3.8040e+03 6.1500e+02\n",
      " 5.4000e+01 2.7300e+02 3.8750e+03 7.4500e+02 3.6020e+03 7.7000e+02\n",
      " 1.9700e+02 3.4970e+03 6.1900e+02 4.9910e+03 8.6800e+02 4.2000e+01\n",
      " 1.0100e+02 5.9620e+03 6.9700e+02 2.1100e+02 4.8150e+03 6.8600e+02\n",
      " 1.1500e+02 8.7470e+03 4.2100e+02 1.8900e+02 6.1980e+03 7.1500e+02\n",
      " 2.2700e+02 6.0440e+03 7.0000e+02 1.3500e+02 4.8990e+03 5.1000e+02\n",
      " 4.5870e+03 4.8500e+02 3.8720e+03 1.1800e+02 3.9300e+03 4.3300e+02\n",
      " 1.1600e+02 2.7200e+02 4.0670e+03 3.1600e+02 6.2000e+01 4.3150e+03\n",
      " 2.6300e+02 1.2830e+03 6.2000e+02 5.7610e+03 2.4600e+02 6.3500e+02\n",
      " 6.6550e+03 2.2400e+02 8.6000e+01 4.9860e+03 8.1800e+02 9.5980e+03\n",
      " 2.8400e+02 8.4600e+02 7.1280e+03 2.6200e+02 1.4300e+02 9.0000e+02\n",
      " 9.6670e+03 1.5900e+02 1.9200e+02 5.9300e+02 7.6180e+03 6.9000e+01\n",
      " 8.8400e+02 6.1940e+03 1.1920e+03 4.8650e+03 8.7600e+02 4.4530e+03\n",
      " 3.8900e+02 8.4000e+01 9.5200e+02 4.2500e+03 9.7200e+02 1.9800e+02\n",
      " 6.4000e+01 1.2380e+03 4.3410e+03 9.3600e+02 1.0900e+03 6.7490e+03\n",
      " 8.9800e+02 7.0260e+03 6.1400e+02 1.3000e+02 3.7600e+02 1.1460e+03\n",
      " 6.3310e+03 8.8200e+02 5.2700e+02 1.1400e+03 1.2013e+04 6.5400e+02\n",
      " 4.8000e+02 9.0600e+02 8.7890e+03 7.7900e+02 1.9000e+02 6.2400e+02\n",
      " 1.1710e+03 9.1730e+03 7.6100e+02 2.1700e+02 5.5400e+02 1.0130e+03\n",
      " 8.1670e+03 7.8400e+02 2.1200e+02 5.5500e+02 1.5210e+03 7.3340e+03\n",
      " 5.3300e+02 4.7000e+02 1.0850e+03 5.8090e+03 8.1300e+02 1.1910e+03\n",
      " 5.6510e+03 9.5000e+02 2.9900e+02 6.9200e+02 1.8170e+03 5.2210e+03\n",
      " 7.1000e+02 2.2100e+02 1.3900e+02 1.1580e+03 5.4600e+03 1.1690e+03\n",
      " 1.4490e+03 8.9670e+03 2.7600e+02 1.6810e+03 1.0920e+04 1.0180e+03\n",
      " 1.8910e+03 9.0440e+03 5.5000e+01 3.2770e+03 2.0631e+04 7.7400e+02\n",
      " 2.1600e+02 2.3320e+03 1.2156e+04 7.3700e+02 2.6900e+02 2.7710e+03\n",
      " 1.2920e+04 5.8700e+02 1.2620e+03 9.8840e+03 6.7700e+02 2.3200e+02\n",
      " 1.1880e+03 8.7060e+03 8.3900e+02 1.5040e+03 7.0510e+03 1.0060e+03\n",
      " 3.8600e+02 9.1600e+02 6.7000e+03 3.3900e+02 3.7100e+02 9.5300e+02\n",
      " 6.6200e+03 4.0900e+02 3.0000e+02 1.0450e+03 7.2450e+03 8.9300e+02\n",
      " 3.7500e+02 8.5570e+03 3.0400e+02 1.7100e+02 1.4100e+02 1.3800e+02\n",
      " 1.2950e+03 9.3020e+03 1.2700e+02 1.2400e+02 5.4240e+03 3.1700e+02\n",
      " 1.1640e+03 3.5600e+02]\n",
      "PREPAWN_HANDGUN:  [ 15.   5.  13.  12.   0.  18.  20.   3.  16.   6.   1.  33.   4.  11.\n",
      "   9.  17.  22.  59.  10.   2.  30.   7.   8.  24.  19.  31.  35.  29.\n",
      "  27.  25.  32.  14.  28.  49.  44.  41.  34.  37.  50.  36.  26.  39.\n",
      "  21.  53.  23.  47.  42.  43.  38.  40.  45.  51.  54.  64.  48.  46.\n",
      "  57.  83.  61.  55.  52.  71.  56.  78.  60.  66.  58.  65.  76.  70.\n",
      "  68.  69.  nan  98.  74.  72.  93. 127.  62. 101.  85. 164. 118.  84.\n",
      "  86. 105.  67. 102.  99.  87. 124.]\n",
      "PREPAWN_LONG_GUN:  [ 21.   2.   6.  13.   0.   1.   7.  14.  17.  15.   4.   5.  23.   3.\n",
      "  12.   8.  19.  44.  11.  10.  20.  18.   9.  16.  27.  26.  24.  22.\n",
      "  36.  35.  30.  29.  31.  33.  28.  32.  38.  25.  34.  43.  49.  41.\n",
      "  59.  39.  37.  40.  47.  46.  48.  58.  42.  51.  54.  45.  50.  62.\n",
      "  64.  69.  63.  81.  91.  55.  84.  70.  68.  74.  76.  66.  52.  56.\n",
      "  73.  79.  53.  77. 113.  61.  60.  67.  57.  65.  98.  92. 104.  71.\n",
      "  72.  86.  94.  nan 118.  83.  90.  85.  88. 124.  82.  75.  80.  78.\n",
      " 105. 103.  87.  99.  95. 107. 102. 133. 117. 101.  97. 115. 109. 126.\n",
      " 114. 125. 123. 122. 110. 140. 111. 152. 112. 106. 174. 132. 136.  89.\n",
      " 168. 145.  96. 188. 119. 205. 134. 269.]\n",
      "PREPAWN_OTHER:  [ 2.  0.  1.  4.  3. 13. 49.  5.  6. 10.  9.  7. 32. 15.  8. 11. nan]\n",
      "REDEMPTION_HANDGUN:  [1378.  200. 1474. ... 1312. 1163. 2895.]\n",
      "REDEMPTION_LONG_GUN:  [1262.  154.  748. ... 2865. 7099. 3277.]\n",
      "REDEMPTION_OTHER:  [ 1.  2.  3.  4.  5.  0.  6.  8.  9.  7. 42. 18. 26. 11. 33. 10. 13. 38.\n",
      " 15. 35. 12. 29. 14. 47. 55. 23. 32. 17. 59. 79. 19. 44. 20. 62. 71. 41.\n",
      " 16. 22. 54. 39. 30. 36. 56. 21. 27. 31. 24. nan]\n",
      "RETURNED_HANDGUN:  [  0.  28.  82. 202. 264.   2.  27.  22.  25.  10.   1.  57.  84.  14.\n",
      " 157.   5.  63.  44.  12.  18. 113. 492.   3.  47.  48. 125.   9. 416.\n",
      "  40.  31.  95. 283. 354.  32.  11.  15.  88.  17. 198.  16.  50.  85.\n",
      " 533.  56.  86. 162.   7. 479.  33.  81. 218. 302.   4.  34.  20.  24.\n",
      "  68. 131.  64.  43.  21. 109. 525.  37.  38.  74. 102. 383.  36.  97.\n",
      " 231. 316.   8.  53.  99.  19. 154.  13.  62.  49. 497.  55.  76. 150.\n",
      " 482.  98. 211. 356.  23.  26.  41. 174.  72. 504.  39.  65. 443. 177.\n",
      " 269.  35.  30. 172.  79.  51.  46. 459.  52.  61. 145.   6. 438. 117.\n",
      " 326. 149. 127. 586. 155. 511.  73. 185. 262. 146.  45. 553.  54. 204.\n",
      " 392. 114. 217. 238. 133. 159. 106. 603. 439.  80. 232.  29. 130.  75.\n",
      " 475. 187. 417. 200. 236.  78. 100.  70.  42. 510.  71. 134. 397. 220.\n",
      " 205.  96. 462. 115. 427.  89. 190. 136. 429. 160. 111. 254. 103. 163.\n",
      " 572.  59. 291. 422. 191. 421.  67. 118. 367. 181. 158. 419. 143. 404.\n",
      " 161.  91. 165. 441. 132. 379.  87. 201.  83. 141. 391. 107. 506. 451.\n",
      " 164.  60. 148. 330. 176.  94. 365. 402. 167. 370. 144.  69. 446. 140.\n",
      " 101.  58. 474. 203. 337. 116. 431. 193. 398. 110.  77. 369. 108. 405.\n",
      " 384. 138. 112. 395. 415. 139. 401. 169. 423. 335. 345. 323. 119.  nan]\n",
      "RETURNED_LONG_GUN:  [  0.  30.   5.  46.  28.   1.   7.  11.  26.  13.  12.  17.   3.  43.\n",
      "  40.  92.   2.   4.  47.  85.  18.  23.  64.  53.   9.  14.  29.   6.\n",
      "  42. 109.   8.  45. 104.  16.  49.  48.  19.  51.  86.  25. 105.  10.\n",
      "  33.  38. 102. 112.  52.  41.  36.  91.  87. 114.  37.  89.  61. 162.\n",
      "  15. 116.  54. 115.  35.  24.  20. 125.  65.  93.  21. 140. 103.  22.\n",
      " 113.  69.  79.  32. 146.  27.  31.  39.  59. 133. 128. 111. 129. 168.\n",
      "  95.  97.  99. 143.  56. 122. 119. 135. 124.  50. 130.  70.  34. 121.\n",
      "  67. 147.  58. 159. 152.  57. 150.  44. 106.  66.  80.  74. 142. 120.\n",
      " 117.  nan]\n",
      "RETURNED_OTHER:  [ 0.  1.  2.  5. 16.  9.  3. 31.  8. 10.  4. 19.  6. 35.  7. 63. 30. 15.\n",
      " 42. 12. 50. 11. 24. 37. 18. 36. 56. 39. 48. 64. 20. 29. 23. 21. nan]\n",
      "RENTALS_HANDGUN:  [ 0.  3. 12.  5.  2.  1. 10.  6. nan  4.]\n",
      "RENTALS_LONG_GUN:  [ 0.  5.  4.  2.  1. 12.  6.  3. nan]\n",
      "PRIVATE_SALE_HANDGUN:  [9.000e+00 1.700e+01 3.800e+01 1.300e+01 0.000e+00 5.500e+01 1.100e+01\n",
      " 7.000e+00 7.500e+01 1.000e+00 1.600e+01 2.100e+01 2.800e+01 1.000e+01\n",
      " 8.000e+00 3.480e+02 5.800e+01 5.900e+01 1.500e+01 3.000e+00 1.210e+02\n",
      " 7.010e+02 1.400e+01 1.900e+01 6.000e+01 1.800e+01 4.700e+01 4.000e+00\n",
      " 2.200e+01 4.400e+01 7.300e+01 3.800e+02 2.700e+01 5.200e+01 8.300e+01\n",
      " 7.600e+02 2.500e+01 1.200e+01 3.100e+01 5.700e+01 5.000e+00 4.800e+01\n",
      " 2.600e+01 2.000e+01 6.600e+01 3.560e+02 3.700e+01 6.700e+01 7.080e+02\n",
      " 2.400e+01 2.000e+00 6.000e+00 7.000e+01 3.990e+02 4.000e+01 3.300e+01\n",
      " 7.630e+02 3.900e+01 3.200e+01 6.500e+01 3.000e+01 5.600e+01 7.200e+01\n",
      " 4.430e+02 3.600e+01 3.400e+01 7.220e+02 7.800e+01 4.280e+02 6.200e+01\n",
      " 8.450e+02 2.300e+01 1.020e+02 7.400e+01 9.000e+01 8.100e+01 5.280e+02\n",
      " 1.090e+02 1.017e+03 3.500e+01 7.100e+01 4.860e+02 5.100e+01 2.900e+01\n",
      " 7.940e+02 5.300e+01 4.380e+02 7.180e+02 3.780e+02 6.370e+02 3.090e+02\n",
      " 6.310e+02 6.720e+02 3.220e+02 5.470e+02 1.960e+02 5.030e+02 4.500e+01\n",
      " 2.650e+02 6.100e+01 2.840e+02 4.880e+02 4.300e+01 2.940e+02 4.750e+02\n",
      " 8.200e+01 3.200e+02 5.380e+02 9.700e+01 6.400e+01 3.660e+02 5.590e+02\n",
      " 1.010e+02 7.700e+01 3.330e+02 5.780e+02 8.900e+01 4.200e+01 4.100e+01\n",
      " 3.040e+02 5.000e+01 5.550e+02 1.000e+02 3.340e+02 4.970e+02 2.430e+02\n",
      " 4.440e+02 5.400e+01 2.890e+02 4.160e+02 2.250e+02 2.000e+02 2.390e+02\n",
      " 2.020e+02 1.830e+02 2.070e+02 2.130e+02 1.740e+02 2.040e+02 2.490e+02\n",
      " 1.970e+02 1.890e+02 1.320e+02 1.530e+02 1.670e+02 1.480e+02 1.230e+02\n",
      " 1.360e+02 1.310e+02 1.660e+02 1.060e+02 9.300e+01       nan]\n",
      "PRIVATE_SALE_LONG_GUN:  [ 16.  24.  12.  23.   0.  34.   9.   7.  14.  57.  19.  43.   8.  26.\n",
      "  33.  40.  66.  21.  10.   4.   5. 328.  17.  36.  37.  87.   6. 590.\n",
      "  18.  20.  11.  30.  53.  22.  94.   3. 280.  28.  48.  63.   1. 628.\n",
      "  32.  27.   2.  39.  25.  13.  54. 187.  41.  45. 502.  31.  15.  29.\n",
      "  51. 273.  44. 574. 247. 500.  35.  61. 306. 605.  46.  50.  73. 323.\n",
      " 777.  55. 304.  56. 620.  42. 254. 542.  38. 285. 521.  47. 264. 546.\n",
      " 245. 585. 249. 405. 200. 444. 149.  49. 424. 174. 382. 161. 357.  52.\n",
      " 201. 446. 203. 482. 211. 422. 265. 458. 220. 408. 340. 202. 383. 191.\n",
      " 300. 138. 205. 119. 146. 114. 134. 133. 151. 135. 136. 121. 118. 128.\n",
      " 127. 116.  93.  70.  82.  95.  97.  90.  65.  86.  nan]\n",
      "PRIVATE_SALE_OTHER:  [ 3.  1.  2.  0.  6. 20.  4. 19. 13. 42.  7.  5. 25. 11. 12. 29. 16.  9.\n",
      " 36. 10. 14. 18. 33.  8. 22. 24. 32. 30. 58. 15. 45. 43. 21. 44. 34. 38.\n",
      " 59. 23. 31. 37. 28. 71. 41. nan]\n",
      "RETURN_TO_SELLER_HANDGUN:  [ 0.  1.  3.  4.  2.  7.  5.  6.  9.  8. 15. 10. 11. 21. 14. 13. 28. nan]\n",
      "RETURN_TO_SELLER_LONG_GUN:  [ 0.  2.  1.  4.  3.  5. 13.  9. 15.  7.  8. 12. 10. 11.  6. 17. 16. nan]\n",
      "RETURN_TO_SELLER_OTHER:  [ 3.  0.  1.  2.  4. nan]\n",
      "TOTALS:  [32019  6303 28394 ...   361   408   241]\n"
     ]
    }
   ],
   "source": [
    "get_unique(df)"
   ]
  },
  {
   "cell_type": "markdown",
   "metadata": {},
   "source": [
    ">**The gun data consists of month and state fields, application type fields and the totals column containing the sum of applications of all types.**\n",
    "\n",
    ">**The data type of application type fields seems to be incorrect as the number of applications is of discrete data type and should be integer.**\n",
    "\n",
    ">**The gun data also contails a lot of null values that will be handled later in the analysis.**"
   ]
  },
  {
   "cell_type": "markdown",
   "metadata": {},
   "source": [
    ">**Reading the census data.**"
   ]
  },
  {
   "cell_type": "code",
   "execution_count": 44,
   "metadata": {},
   "outputs": [
    {
     "data": {
      "text/html": [
       "<div>\n",
       "<style scoped>\n",
       "    .dataframe tbody tr th:only-of-type {\n",
       "        vertical-align: middle;\n",
       "    }\n",
       "\n",
       "    .dataframe tbody tr th {\n",
       "        vertical-align: top;\n",
       "    }\n",
       "\n",
       "    .dataframe thead th {\n",
       "        text-align: right;\n",
       "    }\n",
       "</style>\n",
       "<table border=\"1\" class=\"dataframe\">\n",
       "  <thead>\n",
       "    <tr style=\"text-align: right;\">\n",
       "      <th></th>\n",
       "      <th>Fact</th>\n",
       "      <th>Fact Note</th>\n",
       "      <th>Alabama</th>\n",
       "      <th>Alaska</th>\n",
       "      <th>Arizona</th>\n",
       "      <th>Arkansas</th>\n",
       "      <th>California</th>\n",
       "      <th>Colorado</th>\n",
       "      <th>Connecticut</th>\n",
       "      <th>Delaware</th>\n",
       "      <th>...</th>\n",
       "      <th>South Dakota</th>\n",
       "      <th>Tennessee</th>\n",
       "      <th>Texas</th>\n",
       "      <th>Utah</th>\n",
       "      <th>Vermont</th>\n",
       "      <th>Virginia</th>\n",
       "      <th>Washington</th>\n",
       "      <th>West Virginia</th>\n",
       "      <th>Wisconsin</th>\n",
       "      <th>Wyoming</th>\n",
       "    </tr>\n",
       "  </thead>\n",
       "  <tbody>\n",
       "    <tr>\n",
       "      <th>0</th>\n",
       "      <td>Population estimates, July 1, 2016,  (V2016)</td>\n",
       "      <td>NaN</td>\n",
       "      <td>4,863,300</td>\n",
       "      <td>741,894</td>\n",
       "      <td>6,931,071</td>\n",
       "      <td>2,988,248</td>\n",
       "      <td>39,250,017</td>\n",
       "      <td>5,540,545</td>\n",
       "      <td>3,576,452</td>\n",
       "      <td>952,065</td>\n",
       "      <td>...</td>\n",
       "      <td>865454</td>\n",
       "      <td>6651194</td>\n",
       "      <td>27,862,596</td>\n",
       "      <td>3,051,217</td>\n",
       "      <td>624,594</td>\n",
       "      <td>8,411,808</td>\n",
       "      <td>7,288,000</td>\n",
       "      <td>1,831,102</td>\n",
       "      <td>5,778,708</td>\n",
       "      <td>585,501</td>\n",
       "    </tr>\n",
       "    <tr>\n",
       "      <th>1</th>\n",
       "      <td>Population estimates base, April 1, 2010,  (V2...</td>\n",
       "      <td>NaN</td>\n",
       "      <td>4,780,131</td>\n",
       "      <td>710,249</td>\n",
       "      <td>6,392,301</td>\n",
       "      <td>2,916,025</td>\n",
       "      <td>37,254,522</td>\n",
       "      <td>5,029,324</td>\n",
       "      <td>3,574,114</td>\n",
       "      <td>897,936</td>\n",
       "      <td>...</td>\n",
       "      <td>814195</td>\n",
       "      <td>6346298</td>\n",
       "      <td>25,146,100</td>\n",
       "      <td>2,763,888</td>\n",
       "      <td>625,741</td>\n",
       "      <td>8,001,041</td>\n",
       "      <td>6,724,545</td>\n",
       "      <td>1,853,011</td>\n",
       "      <td>5,687,289</td>\n",
       "      <td>563,767</td>\n",
       "    </tr>\n",
       "    <tr>\n",
       "      <th>2</th>\n",
       "      <td>Population, percent change - April 1, 2010 (es...</td>\n",
       "      <td>NaN</td>\n",
       "      <td>1.70%</td>\n",
       "      <td>4.50%</td>\n",
       "      <td>8.40%</td>\n",
       "      <td>2.50%</td>\n",
       "      <td>5.40%</td>\n",
       "      <td>10.20%</td>\n",
       "      <td>0.10%</td>\n",
       "      <td>6.00%</td>\n",
       "      <td>...</td>\n",
       "      <td>0.063</td>\n",
       "      <td>0.048</td>\n",
       "      <td>10.80%</td>\n",
       "      <td>10.40%</td>\n",
       "      <td>-0.20%</td>\n",
       "      <td>5.10%</td>\n",
       "      <td>8.40%</td>\n",
       "      <td>-1.20%</td>\n",
       "      <td>1.60%</td>\n",
       "      <td>3.90%</td>\n",
       "    </tr>\n",
       "    <tr>\n",
       "      <th>3</th>\n",
       "      <td>Population, Census, April 1, 2010</td>\n",
       "      <td>NaN</td>\n",
       "      <td>4,779,736</td>\n",
       "      <td>710,231</td>\n",
       "      <td>6,392,017</td>\n",
       "      <td>2,915,918</td>\n",
       "      <td>37,253,956</td>\n",
       "      <td>5,029,196</td>\n",
       "      <td>3,574,097</td>\n",
       "      <td>897,934</td>\n",
       "      <td>...</td>\n",
       "      <td>814180</td>\n",
       "      <td>6346105</td>\n",
       "      <td>25,145,561</td>\n",
       "      <td>2,763,885</td>\n",
       "      <td>625,741</td>\n",
       "      <td>8,001,024</td>\n",
       "      <td>6,724,540</td>\n",
       "      <td>1,852,994</td>\n",
       "      <td>5,686,986</td>\n",
       "      <td>563,626</td>\n",
       "    </tr>\n",
       "    <tr>\n",
       "      <th>4</th>\n",
       "      <td>Persons under 5 years, percent, July 1, 2016, ...</td>\n",
       "      <td>NaN</td>\n",
       "      <td>6.00%</td>\n",
       "      <td>7.30%</td>\n",
       "      <td>6.30%</td>\n",
       "      <td>6.40%</td>\n",
       "      <td>6.30%</td>\n",
       "      <td>6.10%</td>\n",
       "      <td>5.20%</td>\n",
       "      <td>5.80%</td>\n",
       "      <td>...</td>\n",
       "      <td>0.071</td>\n",
       "      <td>0.061</td>\n",
       "      <td>7.20%</td>\n",
       "      <td>8.30%</td>\n",
       "      <td>4.90%</td>\n",
       "      <td>6.10%</td>\n",
       "      <td>6.20%</td>\n",
       "      <td>5.50%</td>\n",
       "      <td>5.80%</td>\n",
       "      <td>6.50%</td>\n",
       "    </tr>\n",
       "  </tbody>\n",
       "</table>\n",
       "<p>5 rows × 52 columns</p>\n",
       "</div>"
      ],
      "text/plain": [
       "                                                Fact Fact Note    Alabama  \\\n",
       "0       Population estimates, July 1, 2016,  (V2016)       NaN  4,863,300   \n",
       "1  Population estimates base, April 1, 2010,  (V2...       NaN  4,780,131   \n",
       "2  Population, percent change - April 1, 2010 (es...       NaN      1.70%   \n",
       "3                  Population, Census, April 1, 2010       NaN  4,779,736   \n",
       "4  Persons under 5 years, percent, July 1, 2016, ...       NaN      6.00%   \n",
       "\n",
       "    Alaska    Arizona   Arkansas  California   Colorado Connecticut Delaware  \\\n",
       "0  741,894  6,931,071  2,988,248  39,250,017  5,540,545   3,576,452  952,065   \n",
       "1  710,249  6,392,301  2,916,025  37,254,522  5,029,324   3,574,114  897,936   \n",
       "2    4.50%      8.40%      2.50%       5.40%     10.20%       0.10%    6.00%   \n",
       "3  710,231  6,392,017  2,915,918  37,253,956  5,029,196   3,574,097  897,934   \n",
       "4    7.30%      6.30%      6.40%       6.30%      6.10%       5.20%    5.80%   \n",
       "\n",
       "   ... South Dakota Tennessee       Texas       Utah  Vermont   Virginia  \\\n",
       "0  ...       865454   6651194  27,862,596  3,051,217  624,594  8,411,808   \n",
       "1  ...       814195   6346298  25,146,100  2,763,888  625,741  8,001,041   \n",
       "2  ...        0.063     0.048      10.80%     10.40%   -0.20%      5.10%   \n",
       "3  ...       814180   6346105  25,145,561  2,763,885  625,741  8,001,024   \n",
       "4  ...        0.071     0.061       7.20%      8.30%    4.90%      6.10%   \n",
       "\n",
       "  Washington West Virginia  Wisconsin  Wyoming  \n",
       "0  7,288,000     1,831,102  5,778,708  585,501  \n",
       "1  6,724,545     1,853,011  5,687,289  563,767  \n",
       "2      8.40%        -1.20%      1.60%    3.90%  \n",
       "3  6,724,540     1,852,994  5,686,986  563,626  \n",
       "4      6.20%         5.50%      5.80%    6.50%  \n",
       "\n",
       "[5 rows x 52 columns]"
      ]
     },
     "execution_count": 44,
     "metadata": {},
     "output_type": "execute_result"
    }
   ],
   "source": [
    "df2 = pd.read_csv('~/Desktop/Udacity/Project 2/Data/U.S. Census Data.csv')\n",
    "df2.head(5)"
   ]
  },
  {
   "cell_type": "markdown",
   "metadata": {},
   "source": [
    ">**The census data needs to be transposed first since so that it can be merged with the gun data.**"
   ]
  },
  {
   "cell_type": "code",
   "execution_count": 45,
   "metadata": {},
   "outputs": [
    {
     "data": {
      "text/html": [
       "<div>\n",
       "<style scoped>\n",
       "    .dataframe tbody tr th:only-of-type {\n",
       "        vertical-align: middle;\n",
       "    }\n",
       "\n",
       "    .dataframe tbody tr th {\n",
       "        vertical-align: top;\n",
       "    }\n",
       "\n",
       "    .dataframe thead th {\n",
       "        text-align: right;\n",
       "    }\n",
       "</style>\n",
       "<table border=\"1\" class=\"dataframe\">\n",
       "  <thead>\n",
       "    <tr style=\"text-align: right;\">\n",
       "      <th></th>\n",
       "      <th>0</th>\n",
       "      <th>1</th>\n",
       "      <th>2</th>\n",
       "      <th>3</th>\n",
       "      <th>4</th>\n",
       "      <th>5</th>\n",
       "      <th>6</th>\n",
       "      <th>7</th>\n",
       "      <th>8</th>\n",
       "      <th>9</th>\n",
       "      <th>...</th>\n",
       "      <th>75</th>\n",
       "      <th>76</th>\n",
       "      <th>77</th>\n",
       "      <th>78</th>\n",
       "      <th>79</th>\n",
       "      <th>80</th>\n",
       "      <th>81</th>\n",
       "      <th>82</th>\n",
       "      <th>83</th>\n",
       "      <th>84</th>\n",
       "    </tr>\n",
       "  </thead>\n",
       "  <tbody>\n",
       "    <tr>\n",
       "      <th>Fact</th>\n",
       "      <td>Population estimates, July 1, 2016,  (V2016)</td>\n",
       "      <td>Population estimates base, April 1, 2010,  (V2...</td>\n",
       "      <td>Population, percent change - April 1, 2010 (es...</td>\n",
       "      <td>Population, Census, April 1, 2010</td>\n",
       "      <td>Persons under 5 years, percent, July 1, 2016, ...</td>\n",
       "      <td>Persons under 5 years, percent, April 1, 2010</td>\n",
       "      <td>Persons under 18 years, percent, July 1, 2016,...</td>\n",
       "      <td>Persons under 18 years, percent, April 1, 2010</td>\n",
       "      <td>Persons 65 years and over, percent,  July 1, 2...</td>\n",
       "      <td>Persons 65 years and over, percent, April 1, 2010</td>\n",
       "      <td>...</td>\n",
       "      <td>NaN</td>\n",
       "      <td>Value Flags</td>\n",
       "      <td>-</td>\n",
       "      <td>D</td>\n",
       "      <td>F</td>\n",
       "      <td>FN</td>\n",
       "      <td>NaN</td>\n",
       "      <td>S</td>\n",
       "      <td>X</td>\n",
       "      <td>Z</td>\n",
       "    </tr>\n",
       "    <tr>\n",
       "      <th>Fact Note</th>\n",
       "      <td>NaN</td>\n",
       "      <td>NaN</td>\n",
       "      <td>NaN</td>\n",
       "      <td>NaN</td>\n",
       "      <td>NaN</td>\n",
       "      <td>NaN</td>\n",
       "      <td>NaN</td>\n",
       "      <td>NaN</td>\n",
       "      <td>NaN</td>\n",
       "      <td>NaN</td>\n",
       "      <td>...</td>\n",
       "      <td>NaN</td>\n",
       "      <td>NaN</td>\n",
       "      <td>Either no or too few sample observations were ...</td>\n",
       "      <td>Suppressed to avoid disclosure of confidential...</td>\n",
       "      <td>Fewer than 25 firms</td>\n",
       "      <td>Footnote on this item in place of data</td>\n",
       "      <td>Not available</td>\n",
       "      <td>Suppressed; does not meet publication standards</td>\n",
       "      <td>Not applicable</td>\n",
       "      <td>Value greater than zero but less than half uni...</td>\n",
       "    </tr>\n",
       "    <tr>\n",
       "      <th>Alabama</th>\n",
       "      <td>4,863,300</td>\n",
       "      <td>4,780,131</td>\n",
       "      <td>1.70%</td>\n",
       "      <td>4,779,736</td>\n",
       "      <td>6.00%</td>\n",
       "      <td>6.40%</td>\n",
       "      <td>22.60%</td>\n",
       "      <td>23.70%</td>\n",
       "      <td>16.10%</td>\n",
       "      <td>13.80%</td>\n",
       "      <td>...</td>\n",
       "      <td>NaN</td>\n",
       "      <td>NaN</td>\n",
       "      <td>NaN</td>\n",
       "      <td>NaN</td>\n",
       "      <td>NaN</td>\n",
       "      <td>NaN</td>\n",
       "      <td>NaN</td>\n",
       "      <td>NaN</td>\n",
       "      <td>NaN</td>\n",
       "      <td>NaN</td>\n",
       "    </tr>\n",
       "    <tr>\n",
       "      <th>Alaska</th>\n",
       "      <td>741,894</td>\n",
       "      <td>710,249</td>\n",
       "      <td>4.50%</td>\n",
       "      <td>710,231</td>\n",
       "      <td>7.30%</td>\n",
       "      <td>7.60%</td>\n",
       "      <td>25.20%</td>\n",
       "      <td>26.40%</td>\n",
       "      <td>10.40%</td>\n",
       "      <td>7.70%</td>\n",
       "      <td>...</td>\n",
       "      <td>NaN</td>\n",
       "      <td>NaN</td>\n",
       "      <td>NaN</td>\n",
       "      <td>NaN</td>\n",
       "      <td>NaN</td>\n",
       "      <td>NaN</td>\n",
       "      <td>NaN</td>\n",
       "      <td>NaN</td>\n",
       "      <td>NaN</td>\n",
       "      <td>NaN</td>\n",
       "    </tr>\n",
       "    <tr>\n",
       "      <th>Arizona</th>\n",
       "      <td>6,931,071</td>\n",
       "      <td>6,392,301</td>\n",
       "      <td>8.40%</td>\n",
       "      <td>6,392,017</td>\n",
       "      <td>6.30%</td>\n",
       "      <td>7.10%</td>\n",
       "      <td>23.50%</td>\n",
       "      <td>25.50%</td>\n",
       "      <td>16.90%</td>\n",
       "      <td>13.80%</td>\n",
       "      <td>...</td>\n",
       "      <td>NaN</td>\n",
       "      <td>NaN</td>\n",
       "      <td>NaN</td>\n",
       "      <td>NaN</td>\n",
       "      <td>NaN</td>\n",
       "      <td>NaN</td>\n",
       "      <td>NaN</td>\n",
       "      <td>NaN</td>\n",
       "      <td>NaN</td>\n",
       "      <td>NaN</td>\n",
       "    </tr>\n",
       "  </tbody>\n",
       "</table>\n",
       "<p>5 rows × 85 columns</p>\n",
       "</div>"
      ],
      "text/plain": [
       "                                                     0   \\\n",
       "Fact       Population estimates, July 1, 2016,  (V2016)   \n",
       "Fact Note                                           NaN   \n",
       "Alabama                                       4,863,300   \n",
       "Alaska                                          741,894   \n",
       "Arizona                                       6,931,071   \n",
       "\n",
       "                                                          1   \\\n",
       "Fact       Population estimates base, April 1, 2010,  (V2...   \n",
       "Fact Note                                                NaN   \n",
       "Alabama                                            4,780,131   \n",
       "Alaska                                               710,249   \n",
       "Arizona                                            6,392,301   \n",
       "\n",
       "                                                          2   \\\n",
       "Fact       Population, percent change - April 1, 2010 (es...   \n",
       "Fact Note                                                NaN   \n",
       "Alabama                                                1.70%   \n",
       "Alaska                                                 4.50%   \n",
       "Arizona                                                8.40%   \n",
       "\n",
       "                                          3   \\\n",
       "Fact       Population, Census, April 1, 2010   \n",
       "Fact Note                                NaN   \n",
       "Alabama                            4,779,736   \n",
       "Alaska                               710,231   \n",
       "Arizona                            6,392,017   \n",
       "\n",
       "                                                          4   \\\n",
       "Fact       Persons under 5 years, percent, July 1, 2016, ...   \n",
       "Fact Note                                                NaN   \n",
       "Alabama                                                6.00%   \n",
       "Alaska                                                 7.30%   \n",
       "Arizona                                                6.30%   \n",
       "\n",
       "                                                      5   \\\n",
       "Fact       Persons under 5 years, percent, April 1, 2010   \n",
       "Fact Note                                            NaN   \n",
       "Alabama                                            6.40%   \n",
       "Alaska                                             7.60%   \n",
       "Arizona                                            7.10%   \n",
       "\n",
       "                                                          6   \\\n",
       "Fact       Persons under 18 years, percent, July 1, 2016,...   \n",
       "Fact Note                                                NaN   \n",
       "Alabama                                               22.60%   \n",
       "Alaska                                                25.20%   \n",
       "Arizona                                               23.50%   \n",
       "\n",
       "                                                       7   \\\n",
       "Fact       Persons under 18 years, percent, April 1, 2010   \n",
       "Fact Note                                             NaN   \n",
       "Alabama                                            23.70%   \n",
       "Alaska                                             26.40%   \n",
       "Arizona                                            25.50%   \n",
       "\n",
       "                                                          8   \\\n",
       "Fact       Persons 65 years and over, percent,  July 1, 2...   \n",
       "Fact Note                                                NaN   \n",
       "Alabama                                               16.10%   \n",
       "Alaska                                                10.40%   \n",
       "Arizona                                               16.90%   \n",
       "\n",
       "                                                          9   ...   75  \\\n",
       "Fact       Persons 65 years and over, percent, April 1, 2010  ...  NaN   \n",
       "Fact Note                                                NaN  ...  NaN   \n",
       "Alabama                                               13.80%  ...  NaN   \n",
       "Alaska                                                 7.70%  ...  NaN   \n",
       "Arizona                                               13.80%  ...  NaN   \n",
       "\n",
       "                    76                                                 77  \\\n",
       "Fact       Value Flags                                                  -   \n",
       "Fact Note          NaN  Either no or too few sample observations were ...   \n",
       "Alabama            NaN                                                NaN   \n",
       "Alaska             NaN                                                NaN   \n",
       "Arizona            NaN                                                NaN   \n",
       "\n",
       "                                                          78  \\\n",
       "Fact                                                       D   \n",
       "Fact Note  Suppressed to avoid disclosure of confidential...   \n",
       "Alabama                                                  NaN   \n",
       "Alaska                                                   NaN   \n",
       "Arizona                                                  NaN   \n",
       "\n",
       "                            79                                      80  \\\n",
       "Fact                         F                                      FN   \n",
       "Fact Note  Fewer than 25 firms  Footnote on this item in place of data   \n",
       "Alabama                    NaN                                     NaN   \n",
       "Alaska                     NaN                                     NaN   \n",
       "Arizona                    NaN                                     NaN   \n",
       "\n",
       "                      81                                               82  \\\n",
       "Fact                 NaN                                                S   \n",
       "Fact Note  Not available  Suppressed; does not meet publication standards   \n",
       "Alabama              NaN                                              NaN   \n",
       "Alaska               NaN                                              NaN   \n",
       "Arizona              NaN                                              NaN   \n",
       "\n",
       "                       83                                                 84  \n",
       "Fact                    X                                                  Z  \n",
       "Fact Note  Not applicable  Value greater than zero but less than half uni...  \n",
       "Alabama               NaN                                                NaN  \n",
       "Alaska                NaN                                                NaN  \n",
       "Arizona               NaN                                                NaN  \n",
       "\n",
       "[5 rows x 85 columns]"
      ]
     },
     "execution_count": 45,
     "metadata": {},
     "output_type": "execute_result"
    }
   ],
   "source": [
    "df2 = df2.T\n",
    "df2.head(5)"
   ]
  },
  {
   "cell_type": "markdown",
   "metadata": {},
   "source": [
    ">**Placing the first row as the header.**"
   ]
  },
  {
   "cell_type": "code",
   "execution_count": 46,
   "metadata": {},
   "outputs": [
    {
     "data": {
      "text/html": [
       "<div>\n",
       "<style scoped>\n",
       "    .dataframe tbody tr th:only-of-type {\n",
       "        vertical-align: middle;\n",
       "    }\n",
       "\n",
       "    .dataframe tbody tr th {\n",
       "        vertical-align: top;\n",
       "    }\n",
       "\n",
       "    .dataframe thead th {\n",
       "        text-align: right;\n",
       "    }\n",
       "</style>\n",
       "<table border=\"1\" class=\"dataframe\">\n",
       "  <thead>\n",
       "    <tr style=\"text-align: right;\">\n",
       "      <th>Fact</th>\n",
       "      <th>Population estimates, July 1, 2016,  (V2016)</th>\n",
       "      <th>Population estimates base, April 1, 2010,  (V2016)</th>\n",
       "      <th>Population, percent change - April 1, 2010 (estimates base) to July 1, 2016,  (V2016)</th>\n",
       "      <th>Population, Census, April 1, 2010</th>\n",
       "      <th>Persons under 5 years, percent, July 1, 2016,  (V2016)</th>\n",
       "      <th>Persons under 5 years, percent, April 1, 2010</th>\n",
       "      <th>Persons under 18 years, percent, July 1, 2016,  (V2016)</th>\n",
       "      <th>Persons under 18 years, percent, April 1, 2010</th>\n",
       "      <th>Persons 65 years and over, percent,  July 1, 2016,  (V2016)</th>\n",
       "      <th>Persons 65 years and over, percent, April 1, 2010</th>\n",
       "      <th>...</th>\n",
       "      <th>NaN</th>\n",
       "      <th>Value Flags</th>\n",
       "      <th>-</th>\n",
       "      <th>D</th>\n",
       "      <th>F</th>\n",
       "      <th>FN</th>\n",
       "      <th>NaN</th>\n",
       "      <th>S</th>\n",
       "      <th>X</th>\n",
       "      <th>Z</th>\n",
       "    </tr>\n",
       "  </thead>\n",
       "  <tbody>\n",
       "    <tr>\n",
       "      <th>Fact Note</th>\n",
       "      <td>NaN</td>\n",
       "      <td>NaN</td>\n",
       "      <td>NaN</td>\n",
       "      <td>NaN</td>\n",
       "      <td>NaN</td>\n",
       "      <td>NaN</td>\n",
       "      <td>NaN</td>\n",
       "      <td>NaN</td>\n",
       "      <td>NaN</td>\n",
       "      <td>NaN</td>\n",
       "      <td>...</td>\n",
       "      <td>NaN</td>\n",
       "      <td>NaN</td>\n",
       "      <td>Either no or too few sample observations were ...</td>\n",
       "      <td>Suppressed to avoid disclosure of confidential...</td>\n",
       "      <td>Fewer than 25 firms</td>\n",
       "      <td>Footnote on this item in place of data</td>\n",
       "      <td>Not available</td>\n",
       "      <td>Suppressed; does not meet publication standards</td>\n",
       "      <td>Not applicable</td>\n",
       "      <td>Value greater than zero but less than half uni...</td>\n",
       "    </tr>\n",
       "    <tr>\n",
       "      <th>Alabama</th>\n",
       "      <td>4,863,300</td>\n",
       "      <td>4,780,131</td>\n",
       "      <td>1.70%</td>\n",
       "      <td>4,779,736</td>\n",
       "      <td>6.00%</td>\n",
       "      <td>6.40%</td>\n",
       "      <td>22.60%</td>\n",
       "      <td>23.70%</td>\n",
       "      <td>16.10%</td>\n",
       "      <td>13.80%</td>\n",
       "      <td>...</td>\n",
       "      <td>NaN</td>\n",
       "      <td>NaN</td>\n",
       "      <td>NaN</td>\n",
       "      <td>NaN</td>\n",
       "      <td>NaN</td>\n",
       "      <td>NaN</td>\n",
       "      <td>NaN</td>\n",
       "      <td>NaN</td>\n",
       "      <td>NaN</td>\n",
       "      <td>NaN</td>\n",
       "    </tr>\n",
       "    <tr>\n",
       "      <th>Alaska</th>\n",
       "      <td>741,894</td>\n",
       "      <td>710,249</td>\n",
       "      <td>4.50%</td>\n",
       "      <td>710,231</td>\n",
       "      <td>7.30%</td>\n",
       "      <td>7.60%</td>\n",
       "      <td>25.20%</td>\n",
       "      <td>26.40%</td>\n",
       "      <td>10.40%</td>\n",
       "      <td>7.70%</td>\n",
       "      <td>...</td>\n",
       "      <td>NaN</td>\n",
       "      <td>NaN</td>\n",
       "      <td>NaN</td>\n",
       "      <td>NaN</td>\n",
       "      <td>NaN</td>\n",
       "      <td>NaN</td>\n",
       "      <td>NaN</td>\n",
       "      <td>NaN</td>\n",
       "      <td>NaN</td>\n",
       "      <td>NaN</td>\n",
       "    </tr>\n",
       "    <tr>\n",
       "      <th>Arizona</th>\n",
       "      <td>6,931,071</td>\n",
       "      <td>6,392,301</td>\n",
       "      <td>8.40%</td>\n",
       "      <td>6,392,017</td>\n",
       "      <td>6.30%</td>\n",
       "      <td>7.10%</td>\n",
       "      <td>23.50%</td>\n",
       "      <td>25.50%</td>\n",
       "      <td>16.90%</td>\n",
       "      <td>13.80%</td>\n",
       "      <td>...</td>\n",
       "      <td>NaN</td>\n",
       "      <td>NaN</td>\n",
       "      <td>NaN</td>\n",
       "      <td>NaN</td>\n",
       "      <td>NaN</td>\n",
       "      <td>NaN</td>\n",
       "      <td>NaN</td>\n",
       "      <td>NaN</td>\n",
       "      <td>NaN</td>\n",
       "      <td>NaN</td>\n",
       "    </tr>\n",
       "    <tr>\n",
       "      <th>Arkansas</th>\n",
       "      <td>2,988,248</td>\n",
       "      <td>2,916,025</td>\n",
       "      <td>2.50%</td>\n",
       "      <td>2,915,918</td>\n",
       "      <td>6.40%</td>\n",
       "      <td>6.80%</td>\n",
       "      <td>23.60%</td>\n",
       "      <td>24.40%</td>\n",
       "      <td>16.30%</td>\n",
       "      <td>14.40%</td>\n",
       "      <td>...</td>\n",
       "      <td>NaN</td>\n",
       "      <td>NaN</td>\n",
       "      <td>NaN</td>\n",
       "      <td>NaN</td>\n",
       "      <td>NaN</td>\n",
       "      <td>NaN</td>\n",
       "      <td>NaN</td>\n",
       "      <td>NaN</td>\n",
       "      <td>NaN</td>\n",
       "      <td>NaN</td>\n",
       "    </tr>\n",
       "  </tbody>\n",
       "</table>\n",
       "<p>5 rows × 85 columns</p>\n",
       "</div>"
      ],
      "text/plain": [
       "Fact      Population estimates, July 1, 2016,  (V2016)  \\\n",
       "Fact Note                                          NaN   \n",
       "Alabama                                      4,863,300   \n",
       "Alaska                                         741,894   \n",
       "Arizona                                      6,931,071   \n",
       "Arkansas                                     2,988,248   \n",
       "\n",
       "Fact      Population estimates base, April 1, 2010,  (V2016)  \\\n",
       "Fact Note                                                NaN   \n",
       "Alabama                                            4,780,131   \n",
       "Alaska                                               710,249   \n",
       "Arizona                                            6,392,301   \n",
       "Arkansas                                           2,916,025   \n",
       "\n",
       "Fact      Population, percent change - April 1, 2010 (estimates base) to July 1, 2016,  (V2016)  \\\n",
       "Fact Note                                                NaN                                      \n",
       "Alabama                                                1.70%                                      \n",
       "Alaska                                                 4.50%                                      \n",
       "Arizona                                                8.40%                                      \n",
       "Arkansas                                               2.50%                                      \n",
       "\n",
       "Fact      Population, Census, April 1, 2010  \\\n",
       "Fact Note                               NaN   \n",
       "Alabama                           4,779,736   \n",
       "Alaska                              710,231   \n",
       "Arizona                           6,392,017   \n",
       "Arkansas                          2,915,918   \n",
       "\n",
       "Fact      Persons under 5 years, percent, July 1, 2016,  (V2016)  \\\n",
       "Fact Note                                                NaN       \n",
       "Alabama                                                6.00%       \n",
       "Alaska                                                 7.30%       \n",
       "Arizona                                                6.30%       \n",
       "Arkansas                                               6.40%       \n",
       "\n",
       "Fact      Persons under 5 years, percent, April 1, 2010  \\\n",
       "Fact Note                                           NaN   \n",
       "Alabama                                           6.40%   \n",
       "Alaska                                            7.60%   \n",
       "Arizona                                           7.10%   \n",
       "Arkansas                                          6.80%   \n",
       "\n",
       "Fact      Persons under 18 years, percent, July 1, 2016,  (V2016)  \\\n",
       "Fact Note                                                NaN        \n",
       "Alabama                                               22.60%        \n",
       "Alaska                                                25.20%        \n",
       "Arizona                                               23.50%        \n",
       "Arkansas                                              23.60%        \n",
       "\n",
       "Fact      Persons under 18 years, percent, April 1, 2010  \\\n",
       "Fact Note                                            NaN   \n",
       "Alabama                                           23.70%   \n",
       "Alaska                                            26.40%   \n",
       "Arizona                                           25.50%   \n",
       "Arkansas                                          24.40%   \n",
       "\n",
       "Fact      Persons 65 years and over, percent,  July 1, 2016,  (V2016)  \\\n",
       "Fact Note                                                NaN            \n",
       "Alabama                                               16.10%            \n",
       "Alaska                                                10.40%            \n",
       "Arizona                                               16.90%            \n",
       "Arkansas                                              16.30%            \n",
       "\n",
       "Fact      Persons 65 years and over, percent, April 1, 2010  ...  NaN  \\\n",
       "Fact Note                                               NaN  ...  NaN   \n",
       "Alabama                                              13.80%  ...  NaN   \n",
       "Alaska                                                7.70%  ...  NaN   \n",
       "Arizona                                              13.80%  ...  NaN   \n",
       "Arkansas                                             14.40%  ...  NaN   \n",
       "\n",
       "Fact      Value Flags                                                  -  \\\n",
       "Fact Note         NaN  Either no or too few sample observations were ...   \n",
       "Alabama           NaN                                                NaN   \n",
       "Alaska            NaN                                                NaN   \n",
       "Arizona           NaN                                                NaN   \n",
       "Arkansas          NaN                                                NaN   \n",
       "\n",
       "Fact                                                       D  \\\n",
       "Fact Note  Suppressed to avoid disclosure of confidential...   \n",
       "Alabama                                                  NaN   \n",
       "Alaska                                                   NaN   \n",
       "Arizona                                                  NaN   \n",
       "Arkansas                                                 NaN   \n",
       "\n",
       "Fact                         F                                      FN  \\\n",
       "Fact Note  Fewer than 25 firms  Footnote on this item in place of data   \n",
       "Alabama                    NaN                                     NaN   \n",
       "Alaska                     NaN                                     NaN   \n",
       "Arizona                    NaN                                     NaN   \n",
       "Arkansas                   NaN                                     NaN   \n",
       "\n",
       "Fact                 NaN                                                S  \\\n",
       "Fact Note  Not available  Suppressed; does not meet publication standards   \n",
       "Alabama              NaN                                              NaN   \n",
       "Alaska               NaN                                              NaN   \n",
       "Arizona              NaN                                              NaN   \n",
       "Arkansas             NaN                                              NaN   \n",
       "\n",
       "Fact                    X                                                  Z  \n",
       "Fact Note  Not applicable  Value greater than zero but less than half uni...  \n",
       "Alabama               NaN                                                NaN  \n",
       "Alaska                NaN                                                NaN  \n",
       "Arizona               NaN                                                NaN  \n",
       "Arkansas              NaN                                                NaN  \n",
       "\n",
       "[5 rows x 85 columns]"
      ]
     },
     "execution_count": 46,
     "metadata": {},
     "output_type": "execute_result"
    }
   ],
   "source": [
    "new_header = df2.iloc[0]\n",
    "df2 = df2[1:]\n",
    "df2.columns = new_header\n",
    "df2.head(5)"
   ]
  },
  {
   "cell_type": "markdown",
   "metadata": {},
   "source": [
    ">**Getting the basic number of rows, columns, data types and number of non-null values of the census data.**"
   ]
  },
  {
   "cell_type": "code",
   "execution_count": 47,
   "metadata": {},
   "outputs": [
    {
     "data": {
      "text/plain": [
       "(51, 85)"
      ]
     },
     "execution_count": 47,
     "metadata": {},
     "output_type": "execute_result"
    }
   ],
   "source": [
    "df2.shape"
   ]
  },
  {
   "cell_type": "code",
   "execution_count": 48,
   "metadata": {},
   "outputs": [
    {
     "name": "stdout",
     "output_type": "stream",
     "text": [
      "<class 'pandas.core.frame.DataFrame'>\n",
      "Index: 51 entries, Fact Note to Wyoming\n",
      "Data columns (total 85 columns):\n",
      " #   Column                                                                                  Non-Null Count  Dtype \n",
      "---  ------                                                                                  --------------  ----- \n",
      " 0   Population estimates, July 1, 2016,  (V2016)                                            50 non-null     object\n",
      " 1   Population estimates base, April 1, 2010,  (V2016)                                      50 non-null     object\n",
      " 2   Population, percent change - April 1, 2010 (estimates base) to July 1, 2016,  (V2016)   50 non-null     object\n",
      " 3   Population, Census, April 1, 2010                                                       50 non-null     object\n",
      " 4   Persons under 5 years, percent, July 1, 2016,  (V2016)                                  50 non-null     object\n",
      " 5   Persons under 5 years, percent, April 1, 2010                                           50 non-null     object\n",
      " 6   Persons under 18 years, percent, July 1, 2016,  (V2016)                                 50 non-null     object\n",
      " 7   Persons under 18 years, percent, April 1, 2010                                          50 non-null     object\n",
      " 8   Persons 65 years and over, percent,  July 1, 2016,  (V2016)                             50 non-null     object\n",
      " 9   Persons 65 years and over, percent, April 1, 2010                                       50 non-null     object\n",
      " 10  Female persons, percent,  July 1, 2016,  (V2016)                                        50 non-null     object\n",
      " 11  Female persons, percent, April 1, 2010                                                  50 non-null     object\n",
      " 12  White alone, percent, July 1, 2016,  (V2016)                                            51 non-null     object\n",
      " 13  Black or African American alone, percent, July 1, 2016,  (V2016)                        51 non-null     object\n",
      " 14  American Indian and Alaska Native alone, percent, July 1, 2016,  (V2016)                51 non-null     object\n",
      " 15  Asian alone, percent, July 1, 2016,  (V2016)                                            51 non-null     object\n",
      " 16  Native Hawaiian and Other Pacific Islander alone, percent, July 1, 2016,  (V2016)       51 non-null     object\n",
      " 17  Two or More Races, percent, July 1, 2016,  (V2016)                                      50 non-null     object\n",
      " 18  Hispanic or Latino, percent, July 1, 2016,  (V2016)                                     51 non-null     object\n",
      " 19  White alone, not Hispanic or Latino, percent, July 1, 2016,  (V2016)                    50 non-null     object\n",
      " 20  Veterans, 2011-2015                                                                     50 non-null     object\n",
      " 21  Foreign born persons, percent, 2011-2015                                                50 non-null     object\n",
      " 22  Housing units,  July 1, 2016,  (V2016)                                                  50 non-null     object\n",
      " 23  Housing units, April 1, 2010                                                            50 non-null     object\n",
      " 24  Owner-occupied housing unit rate, 2011-2015                                             50 non-null     object\n",
      " 25  Median value of owner-occupied housing units, 2011-2015                                 50 non-null     object\n",
      " 26  Median selected monthly owner costs -with a mortgage, 2011-2015                         50 non-null     object\n",
      " 27  Median selected monthly owner costs -without a mortgage, 2011-2015                      50 non-null     object\n",
      " 28  Median gross rent, 2011-2015                                                            50 non-null     object\n",
      " 29  Building permits, 2016                                                                  50 non-null     object\n",
      " 30  Households, 2011-2015                                                                   50 non-null     object\n",
      " 31  Persons per household, 2011-2015                                                        50 non-null     object\n",
      " 32  Living in same house 1 year ago, percent of persons age 1 year+, 2011-2015              50 non-null     object\n",
      " 33  Language other than English spoken at home, percent of persons age 5 years+, 2011-2015  50 non-null     object\n",
      " 34  High school graduate or higher, percent of persons age 25 years+, 2011-2015             50 non-null     object\n",
      " 35  Bachelor's degree or higher, percent of persons age 25 years+, 2011-2015                50 non-null     object\n",
      " 36  With a disability, under age 65 years, percent, 2011-2015                               50 non-null     object\n",
      " 37  Persons  without health insurance, under age 65 years, percent                          50 non-null     object\n",
      " 38  In civilian labor force, total, percent of population age 16 years+, 2011-2015          50 non-null     object\n",
      " 39  In civilian labor force, female, percent of population age 16 years+, 2011-2015         50 non-null     object\n",
      " 40  Total accommodation and food services sales, 2012 ($1,000)                              51 non-null     object\n",
      " 41  Total health care and social assistance receipts/revenue, 2012 ($1,000)                 51 non-null     object\n",
      " 42  Total manufacturers shipments, 2012 ($1,000)                                            51 non-null     object\n",
      " 43  Total merchant wholesaler sales, 2012 ($1,000)                                          51 non-null     object\n",
      " 44  Total retail sales, 2012 ($1,000)                                                       51 non-null     object\n",
      " 45  Total retail sales per capita, 2012                                                     51 non-null     object\n",
      " 46  Mean travel time to work (minutes), workers age 16 years+, 2011-2015                    50 non-null     object\n",
      " 47  Median household income (in 2015 dollars), 2011-2015                                    50 non-null     object\n",
      " 48  Per capita income in past 12 months (in 2015 dollars), 2011-2015                        50 non-null     object\n",
      " 49  Persons in poverty, percent                                                             50 non-null     object\n",
      " 50  Total employer establishments, 2015                                                     51 non-null     object\n",
      " 51  Total employment, 2015                                                                  51 non-null     object\n",
      " 52  Total annual payroll, 2015 ($1,000)                                                     51 non-null     object\n",
      " 53  Total employment, percent change, 2014-2015                                             51 non-null     object\n",
      " 54  Total nonemployer establishments, 2015                                                  50 non-null     object\n",
      " 55  All firms, 2012                                                                         50 non-null     object\n",
      " 56  Men-owned firms, 2012                                                                   50 non-null     object\n",
      " 57  Women-owned firms, 2012                                                                 50 non-null     object\n",
      " 58  Minority-owned firms, 2012                                                              50 non-null     object\n",
      " 59  Nonminority-owned firms, 2012                                                           50 non-null     object\n",
      " 60  Veteran-owned firms, 2012                                                               50 non-null     object\n",
      " 61  Nonveteran-owned firms, 2012                                                            50 non-null     object\n",
      " 62  Population per square mile, 2010                                                        50 non-null     object\n",
      " 63  Land area in square miles, 2010                                                         50 non-null     object\n",
      " 64  FIPS Code                                                                               50 non-null     object\n",
      " 65  nan                                                                                     0 non-null      object\n",
      " 66  NOTE: FIPS Code values are enclosed in quotes to ensure leading zeros remain intact.    0 non-null      object\n",
      " 67  nan                                                                                     0 non-null      object\n",
      " 68  Value Notes                                                                             0 non-null      object\n",
      " 69  1                                                                                       1 non-null      object\n",
      " 70  nan                                                                                     0 non-null      object\n",
      " 71  Fact Notes                                                                              0 non-null      object\n",
      " 72  (a)                                                                                     1 non-null      object\n",
      " 73  (b)                                                                                     1 non-null      object\n",
      " 74  (c)                                                                                     1 non-null      object\n",
      " 75  nan                                                                                     0 non-null      object\n",
      " 76  Value Flags                                                                             0 non-null      object\n",
      " 77  -                                                                                       1 non-null      object\n",
      " 78  D                                                                                       1 non-null      object\n",
      " 79  F                                                                                       1 non-null      object\n",
      " 80  FN                                                                                      1 non-null      object\n",
      " 81  nan                                                                                     1 non-null      object\n",
      " 82  S                                                                                       1 non-null      object\n",
      " 83  X                                                                                       1 non-null      object\n",
      " 84  Z                                                                                       1 non-null      object\n",
      "dtypes: object(85)\n",
      "memory usage: 34.3+ KB\n"
     ]
    }
   ],
   "source": [
    "df2.info()"
   ]
  },
  {
   "cell_type": "code",
   "execution_count": 49,
   "metadata": {},
   "outputs": [
    {
     "data": {
      "text/plain": [
       "1057"
      ]
     },
     "execution_count": 49,
     "metadata": {},
     "output_type": "execute_result"
    }
   ],
   "source": [
    "df2.isnull().sum().sum()"
   ]
  },
  {
   "cell_type": "markdown",
   "metadata": {},
   "source": [
    ">**Creating a list of unique values for each column of the census data.**"
   ]
  },
  {
   "cell_type": "code",
   "execution_count": 50,
   "metadata": {},
   "outputs": [
    {
     "name": "stdout",
     "output_type": "stream",
     "text": [
      "POPULATION ESTIMATES, JULY 1, 2016,  (V2016):  [nan '4,863,300' '741,894' '6,931,071' '2,988,248' '39,250,017'\n",
      " '5,540,545' '3,576,452' '952,065' '20,612,439' '10,310,371' '1,428,557'\n",
      " '1,683,140' '12,801,539' '6,633,053' '3,134,693' '2,907,289' '4,436,974'\n",
      " '4,681,666' '1,331,479' '6,016,447' '6,811,779' '9,928,300' '5,519,952'\n",
      " '2,988,726' '6,093,000' '1,042,520' '1,907,116' '2,940,058' '1,334,795'\n",
      " '8,944,469' '2081015' '19745289' '10146788' '757952' '11614373' '3923561'\n",
      " '4093465' '12784227' '1056426' '4961119' '865454' '6651194' '27,862,596'\n",
      " '3,051,217' '624,594' '8,411,808' '7,288,000' '1,831,102' '5,778,708'\n",
      " '585,501']\n",
      "POPULATION ESTIMATES BASE, APRIL 1, 2010,  (V2016):  [nan '4,780,131' '710,249' '6,392,301' '2,916,025' '37,254,522'\n",
      " '5,029,324' '3,574,114' '897,936' '18,804,592' '9,688,680' '1,360,301'\n",
      " '1,567,650' '12,831,574' '6,484,136' '3,046,869' '2,853,129' '4,339,344'\n",
      " '4,533,479' '1,328,364' '5,773,786' '6,547,813' '9,884,129' '5,303,924'\n",
      " '2,968,103' '5,988,928' '989,414' '1,826,334' '2,700,691' '1,316,461'\n",
      " '8,791,953' '2059198' '19378110' '9535688' '672591' '11536727' '3751615'\n",
      " '3831072' '12702857' '1052940' '4625410' '814195' '6346298' '25,146,100'\n",
      " '2,763,888' '625,741' '8,001,041' '6,724,545' '1,853,011' '5,687,289'\n",
      " '563,767']\n",
      "POPULATION, PERCENT CHANGE - APRIL 1, 2010 (ESTIMATES BASE) TO JULY 1, 2016,  (V2016):  [nan '1.70%' '4.50%' '8.40%' '2.50%' '5.40%' '10.20%' '0.10%' '6.00%'\n",
      " '9.60%' '6.40%' '5.00%' '7.40%' '-0.20%' '2.30%' '2.90%' '1.90%' '2.20%'\n",
      " '3.30%' '0.20%' '4.20%' '4.00%' '0.40%' '4.10%' '0.70%' '4.40%' '8.90%'\n",
      " '1.40%' '0.011' '0.019' '0.064' '0.127' '0.007' '0.046' '0.068' '0.006'\n",
      " '0.003' '0.073' '0.063' '0.048' '10.80%' '10.40%' '5.10%' '-1.20%'\n",
      " '1.60%' '3.90%']\n",
      "POPULATION, CENSUS, APRIL 1, 2010:  [nan '4,779,736' '710,231' '6,392,017' '2,915,918' '37,253,956'\n",
      " '5,029,196' '3,574,097' '897,934' '18,801,310' '9,687,653' '1,360,301'\n",
      " '1,567,582' '12,830,632' '6,483,802' '3,046,355' '2,853,118' '4,339,367'\n",
      " '4,533,372' '1,328,361' '5,773,552' '6,547,629' '9,883,640' '5,303,925'\n",
      " '2,967,297' '5,988,927' '989,415' '1,826,341' '2,700,551' '1,316,470'\n",
      " '8,791,894' '2059179' '19378102' '9535483' '672591' '11536504' '3751351'\n",
      " '3831074' '12702379' '1052567' '4625364' '814180' '6346105' '25,145,561'\n",
      " '2,763,885' '625,741' '8,001,024' '6,724,540' '1,852,994' '5,686,986'\n",
      " '563,626']\n",
      "PERSONS UNDER 5 YEARS, PERCENT, JULY 1, 2016,  (V2016):  [nan '6.00%' '7.30%' '6.30%' '6.40%' '6.10%' '5.20%' '5.80%' '5.50%'\n",
      " '6.80%' '6.70%' '6.20%' '6.60%' '4.90%' '5.30%' '7.00%' '4.80%' '0.062'\n",
      " '0.059' '0.06' '0.073' '0.068' '0.058' '0.056' '0.052' '0.071' '0.061'\n",
      " '7.20%' '8.30%' '6.50%']\n",
      "PERSONS UNDER 5 YEARS, PERCENT, APRIL 1, 2010:  [nan '6.40%' '7.60%' '7.10%' '6.80%' '5.70%' '6.20%' '7.80%' '6.50%'\n",
      " '6.70%' '6.60%' '7.20%' '6.90%' '5.20%' '6.30%' '5.60%' '6.00%' '5.30%'\n",
      " '0.07' '0.06' '0.066' '0.062' '0.057' '0.055' '0.065' '0.073' '0.064'\n",
      " '7.70%' '9.50%' '5.10%']\n",
      "PERSONS UNDER 18 YEARS, PERCENT, JULY 1, 2016,  (V2016):  [nan '22.60%' '25.20%' '23.50%' '23.60%' '23.20%' '22.80%' '21.10%'\n",
      " '21.50%' '20.10%' '24.40%' '21.60%' '26.00%' '22.90%' '23.80%' '23.30%'\n",
      " '24.60%' '19.10%' '22.40%' '20.20%' '22.10%' '24.10%' '21.80%' '24.80%'\n",
      " '23.00%' '19.50%' '22.20%' '0.236' '0.212' '0.227' '0.233' '0.225'\n",
      " '0.245' '0.209' '0.197' '0.221' '0.246' '0.226' '26.20%' '30.20%'\n",
      " '19.00%' '20.50%' '22.30%' '23.70%']\n",
      "PERSONS UNDER 18 YEARS, PERCENT, APRIL 1, 2010:  [nan '23.70%' '26.40%' '25.50%' '24.40%' '25.00%' '22.90%' '21.30%'\n",
      " '25.70%' '22.30%' '27.40%' '24.80%' '23.90%' '23.60%' '24.70%' '20.70%'\n",
      " '23.40%' '21.70%' '24.20%' '23.80%' '22.60%' '25.10%' '24.60%' '21.80%'\n",
      " '23.50%' '0.252' '0.223' '0.239' '0.237' '0.248' '0.226' '0.22' '0.213'\n",
      " '0.234' '0.249' '0.236' '27.30%' '31.50%' '23.20%' '20.90%' '24.00%']\n",
      "PERSONS 65 YEARS AND OVER, PERCENT,  JULY 1, 2016,  (V2016):  [nan '16.10%' '10.40%' '16.90%' '16.30%' '13.60%' '13.40%' '17.50%'\n",
      " '19.90%' '13.10%' '17.10%' '15.10%' '14.60%' '14.90%' '16.40%' '15.00%'\n",
      " '15.60%' '14.40%' '19.40%' '15.80%' '16.20%' '17.70%' '17.00%' '15.30%'\n",
      " '0.165' '0.154' '0.155' '0.145' '0.162' '0.15' '0.168' '0.174' '0.167'\n",
      " '0.16' '0.157' '12.00%' '10.50%' '18.10%' '14.80%' '18.80%']\n",
      "PERSONS 65 YEARS AND OVER, PERCENT, APRIL 1, 2010:  [nan '13.80%' '7.70%' '14.40%' '11.40%' '10.90%' '14.20%' '17.30%'\n",
      " '10.70%' '14.30%' '12.40%' '12.50%' '13.00%' '14.90%' '13.20%' '13.30%'\n",
      " '12.30%' '15.90%' '12.90%' '12.80%' '14.00%' '14.80%' '13.50%' '12.00%'\n",
      " '0.132' '0.135' '0.129' '0.145' '0.141' '0.139' '0.154' '0.144' '0.137'\n",
      " '0.143' '0.134' '10.30%' '9.00%' '14.60%' '12.20%' '16.00%' '13.70%']\n",
      "FEMALE PERSONS, PERCENT,  JULY 1, 2016,  (V2016):  [nan '51.60%' '47.70%' '50.30%' '50.90%' '49.70%' '51.20%' '51.10%'\n",
      " '51.30%' '49.80%' '49.90%' '50.70%' '50.20%' '51.00%' '51.50%' '50.80%'\n",
      " '50.50%' '0.505' '0.514' '0.487' '0.51' '0.515' '0.496' '0.512' '50.40%'\n",
      " '50.60%' '50.00%' '48.90%']\n",
      "FEMALE PERSONS, PERCENT, APRIL 1, 2010:  [nan '51.50%' '48.00%' '50.30%' '50.90%' '49.90%' '51.30%' '51.60%'\n",
      " '51.10%' '51.20%' '51.00%' '50.80%' '50.50%' '50.40%' '51.40%' '49.80%'\n",
      " '49.50%' '50.70%' '0.506' '0.516' '0.513' '0.495' '0.512' '0.505' '0.517'\n",
      " '0.514' '0.5' '50.20%' '49.00%']\n",
      "WHITE ALONE, PERCENT, JULY 1, 2016,  (V2016):  ['(a)' '69.30%' '66.10%' '83.30%' '79.40%' '72.70%' '87.50%' '80.60%'\n",
      " '70.10%' '77.60%' '61.20%' '25.80%' '93.30%' '77.20%' '85.60%' '91.40%'\n",
      " '86.60%' '88.00%' '63.20%' '94.80%' '59.30%' '81.80%' '79.60%' '85.00%'\n",
      " '83.20%' '89.20%' '88.90%' '75.10%' '93.80%' '72.40%' '0.826' '0.699'\n",
      " '0.71' '0.879' '0.825' '0.746' '0.874' '0.824' '0.844' '0.685' '0.852'\n",
      " '0.787' '91.10%' '94.60%' '70.00%' '80.00%' '93.60%' '92.80%']\n",
      "BLACK OR AFRICAN AMERICAN ALONE, PERCENT, JULY 1, 2016,  (V2016):  ['(a)' '26.80%' '3.80%' '4.90%' '15.70%' '6.50%' '4.50%' '11.80%' '22.60%'\n",
      " '16.80%' '32.00%' '2.20%' '0.80%' '14.70%' '9.70%' '3.70%' '6.20%'\n",
      " '8.30%' '32.60%' '1.50%' '30.70%' '8.60%' '14.20%' '37.70%' '0.60%'\n",
      " '5.00%' '9.60%' '15.00%' '0.025' '0.177' '0.222' '0.029' '0.128' '0.078'\n",
      " '0.021' '0.118' '0.081' '0.275' '0.02' '0.171' '12.60%' '1.40%' '1.30%'\n",
      " '19.80%' '4.10%' '3.60%' '6.60%']\n",
      "AMERICAN INDIAN AND ALASKA NATIVE ALONE, PERCENT, JULY 1, 2016,  (V2016):  ['(a)' '0.70%' '15.20%' '5.40%' '1.00%' '1.70%' '1.60%' '0.50%' '0.60%'\n",
      " '0.40%' '1.80%' '1.20%' '0.30%' '0.80%' '1.30%' '6.60%' '1.40%' '0.106'\n",
      " '0.01' '0.016' '0.055' '0.003' '0.092' '0.018' '0.004' '0.005' '0.09'\n",
      " '1.90%' '0.20%' '1.10%' '2.70%']\n",
      "ASIAN ALONE, PERCENT, JULY 1, 2016,  (V2016):  ['(a)' '1.40%' '6.30%' '3.40%' '1.60%' '14.80%' '3.30%' '4.70%' '4.00%'\n",
      " '2.90%' '4.10%' '37.70%' '1.50%' '5.50%' '2.20%' '2.50%' '3.00%' '1.80%'\n",
      " '1.20%' '6.60%' '6.70%' '3.10%' '4.90%' '1.10%' '2.00%' '0.80%' '8.70%'\n",
      " '2.70%' '9.80%' '0.017' '0.089' '0.029' '0.015' '0.022' '0.045' '0.035'\n",
      " '0.036' '0.016' '0.018' '4.80%' '8.60%' '2.80%' '1.00%']\n",
      "NATIVE HAWAIIAN AND OTHER PACIFIC ISLANDER ALONE, PERCENT, JULY 1, 2016,  (V2016):  ['(a)' '0.10%' '1.30%' '0.30%' '0.50%' '0.20%' '10.20%' 'Z' '0.80%'\n",
      " '0.002' '0.001' '0.004' '1.00%']\n",
      "TWO OR MORE RACES, PERCENT, JULY 1, 2016,  (V2016):  [nan '1.60%' '7.30%' '2.80%' '2.00%' '3.80%' '3.00%' '2.30%' '2.60%'\n",
      " '2.10%' '23.70%' '2.40%' '1.90%' '1.80%' '2.90%' '1.70%' '1.20%' '2.20%'\n",
      " '2.70%' '4.20%' '0.025' '0.022' '0.021' '0.061' '0.038' '0.019' '0.027'\n",
      " '0.018' '0.023' '2.50%' '4.60%']\n",
      "HISPANIC OR LATINO, PERCENT, JULY 1, 2016,  (V2016):  ['(b)' '4.20%' '7.00%' '30.90%' '7.30%' '38.90%' '21.30%' '15.70%' '9.20%'\n",
      " '24.90%' '9.40%' '10.40%' '12.30%' '17.00%' '6.80%' '5.80%' '11.60%'\n",
      " '3.50%' '5.00%' '1.60%' '9.80%' '11.50%' '5.20%' '3.10%' '4.10%' '3.60%'\n",
      " '10.70%' '28.50%' '20.00%' '0.485' '0.19' '0.092' '0.036' '0.037' '0.103'\n",
      " '0.128' '0.07' '0.149' '0.055' '0.052' '39.10%' '13.80%' '1.90%' '9.10%'\n",
      " '12.40%' '1.50%' '6.70%' '10.00%']\n",
      "WHITE ALONE, NOT HISPANIC OR LATINO, PERCENT, JULY 1, 2016,  (V2016):  [nan '65.80%' '61.20%' '55.50%' '72.90%' '37.70%' '68.60%' '67.70%'\n",
      " '62.90%' '54.90%' '53.40%' '22.10%' '82.40%' '61.70%' '79.60%' '86.20%'\n",
      " '76.30%' '85.00%' '59.00%' '93.50%' '51.50%' '73.00%' '75.40%' '80.60%'\n",
      " '56.90%' '79.70%' '86.50%' '49.90%' '90.80%' '55.80%' '0.381' '0.558'\n",
      " '0.635' '0.85' '0.795' '0.662' '0.764' '0.77' '0.733' '0.639' '0.825'\n",
      " '0.742' '42.60%' '78.80%' '93.10%' '62.40%' '69.50%' '92.30%' '81.70%'\n",
      " '84.10%']\n",
      "VETERANS, 2011-2015:  [nan '363,170' '69,323' '505,794' '220,953' '1,777,410' '391,725'\n",
      " '199,331' '71,213' '1,507,738' '670,617' '110,238' '119,711' '668,933'\n",
      " '426,493' '211,066' '198,396' '297,312' '281,989' '119,058' '403,900'\n",
      " '355,083' '626,722' '342,388' '184,774' '451,342' '90,000' '132,918'\n",
      " '220,332' '106,827' '393,277' '164157' '828586' '696119' '51179' '806531'\n",
      " '295847' '306723' '870770' '66076' '378959' '63742' '462414' '1,539,655'\n",
      " '134,332' '44,708' '706,539' '564,864' '150,021' '381,940' '48,505']\n",
      "FOREIGN BORN PERSONS, PERCENT, 2011-2015:  [nan '3.50%' '7.40%' '13.50%' '4.70%' '27.00%' '9.80%' '13.90%' '8.70%'\n",
      " '19.70%' '17.70%' '6.10%' '14.00%' '4.80%' '6.90%' '3.40%' '4.00%'\n",
      " '14.50%' '15.50%' '6.30%' '7.70%' '2.30%' '3.90%' '2.10%' '6.60%'\n",
      " '19.20%' '5.70%' '21.70%' '0.098' '0.225' '0.077' '0.032' '0.041' '0.058'\n",
      " '0.099' '0.063' '0.133' '0.048' '0.03' '16.60%' '8.40%' '4.30%' '11.70%'\n",
      " '13.40%' '1.50%' '3.60%']\n",
      "HOUSING UNITS,  JULY 1, 2016,  (V2016):  [nan '2,230,185' '310,658' '2,961,003' '1,354,762' '14,060,525'\n",
      " '2,339,118' '1,499,116' '426,149' '9,301,642' '4,218,776' '537,114'\n",
      " '700,825' '5,326,970' '2,854,546' '1,380,162' '1,259,864' '1,965,556'\n",
      " '2,036,975' '730,705' '2,447,127' '2,858,026' '4,560,055' '2,409,935'\n",
      " '1,307,441' '2,760,084' '497,756' '827,156' '1,221,698' '625,307'\n",
      " '3,604,409' '917568' '8231687' '4540498' '368624' '5164361' '1721045'\n",
      " '1732786' '5612002' '462589' '2236153' '383838' '2919671' '10,753,629'\n",
      " '1,054,164' '329,525' '3,491,054' '3,025,685' '886,640' '2,668,444'\n",
      " '270,600']\n",
      "HOUSING UNITS, APRIL 1, 2010:  [nan '2,171,853' '306,967' '2,844,526' '1,316,299' '13,680,081'\n",
      " '2,212,898' '1,487,891' '405,885' '8,989,580' '4,088,801' '519,508'\n",
      " '667,796' '5,296,715' '2,795,541' '1,336,417' '1,233,215' '1,927,164'\n",
      " '1,964,981' '721,830' '2,378,814' '2,808,254' '4,532,233' '2,347,201'\n",
      " '1,274,719' '2,712,729' '482,825' '796,793' '1,173,814' '614,754'\n",
      " '3,553,562' '901388' '8108103' '4327528' '317498' '5127508' '1664378'\n",
      " '1675562' '5567315' '463388' '2137683' '363438' '2812133' '9,977,436'\n",
      " '979,709' '322,539' '3,364,939' '2,885,677' '881,917' '2,624,358'\n",
      " '261,868']\n",
      "OWNER-OCCUPIED HOUSING UNIT RATE, 2011-2015:  [nan '68.70%' '63.40%' '62.80%' '66.10%' '54.30%' '64.30%' '67.00%'\n",
      " '71.20%' '65.30%' '63.30%' '56.90%' '68.90%' '66.40%' '69.00%' '71.50%'\n",
      " '66.70%' '67.20%' '65.80%' '66.80%' '62.10%' '71.00%' '71.70%' '68.40%'\n",
      " '66.20%' '55.10%' '64.50%' '0.681' '0.536' '0.651' '0.641' '0.663'\n",
      " '0.661' '0.613' '0.692' '0.601' '0.686' '0.668' '62.20%' '69.50%'\n",
      " '62.50%' '72.50%' '67.30%' '69.10%']\n",
      "MEDIAN VALUE OF OWNER-OCCUPIED HOUSING UNITS, 2011-2015:  [nan '$125,500 ' '$250,000 ' '$167,500 ' '$111,400 ' '$385,500 '\n",
      " '$247,800 ' '$270,500 ' '$231,500 ' '$159,000 ' '$148,100 ' '$515,300 '\n",
      " '$162,900 ' '$173,800 ' '$124,200 ' '$129,200 ' '$132,000 ' '$123,200 '\n",
      " '$144,100 ' '$286,900 ' '$333,100 ' '$122,400 ' '$186,200 ' '$103,100 '\n",
      " '$138,400 ' '$193,500 ' '$133,200 ' '$173,700 ' '$237,300 ' '$315,900 '\n",
      " '160300' '283400' '154900' '153800' '129900' '117900' '237300' '166000'\n",
      " '238000' '139900' '140500' '142100' '$136,000 ' '$215,900 ' '$217,500 '\n",
      " '$245,000 ' '$259,500 ' '$103,800 ' '$165,800 ' '$194,800 ']\n",
      "MEDIAN SELECTED MONTHLY OWNER COSTS -WITH A MORTGAGE, 2011-2015:  [nan '$1,139 ' '$1,827 ' '$1,343 ' '$1,019 ' '$2,155 ' '$1,577 ' '$2,067 '\n",
      " '$1,537 ' '$1,435 ' '$1,346 ' '$2,270 ' '$1,189 ' '$1,636 ' '$1,102 '\n",
      " '$1,171 ' '$1,282 ' '$1,112 ' '$1,200 ' '$1,336 ' '$1,951 ' '$2,063 '\n",
      " '$1,257 ' '$1,490 ' '$1,077 ' '$1,210 ' '$1,294 ' '$1,270 ' '$1,442 '\n",
      " '$1,870 ' '$2,386 ' '1227' '2022' '1248' '1243' '1246' '1147' '1557'\n",
      " '1425' '1815' '1183' '1210' '1181' '$1,432 ' '$1,428 ' '$1,535 '\n",
      " '$1,711 ' '$1,731 ' '$966 ' '$1,402 ' '$1,348 ']\n",
      "MEDIAN SELECTED MONTHLY OWNER COSTS -WITHOUT A MORTGAGE, 2011-2015:  [nan '$345 ' '$554 ' '$380 ' '$327 ' '$500 ' '$419 ' '$833 ' '$445 '\n",
      " '$463 ' '$392 ' '$505 ' '$340 ' '$574 ' '$378 ' '$434 ' '$455 ' '$339 '\n",
      " '$317 ' '$477 ' '$582 ' '$717 ' '$461 ' '$479 ' '$341 ' '$402 ' '$387 '\n",
      " '$471 ' '$410 ' '$747 ' '$973 ' '327' '709' '373' '423' '444' '370' '469'\n",
      " '498' '682' '347' '433' '359' '$460 ' '$388 ' '$641 ' '$433 ' '$511 '\n",
      " '$293 ' '$532 ' '$386 ']\n",
      "MEDIAN GROSS RENT, 2011-2015:  [nan '$717 ' '$1,146 ' '$913 ' '$677 ' '$1,255 ' '$1,002 ' '$1,075 '\n",
      " '$1,018 ' '$879 ' '$1,438 ' '$743 ' '$907 ' '$745 ' '$697 ' '$757 '\n",
      " '$675 ' '$788 ' '$777 ' '$1,230 ' '$1,102 ' '$783 ' '$848 ' '$746 '\n",
      " '$711 ' '$726 ' '$973 ' '$1,000 ' '$1,192 ' '777' '1132' '797' '709'\n",
      " '730' '727' '907' '840' '925' '790' '655' '764' '$882 ' '$887 ' '$895 '\n",
      " '$1,116 ' '$1,014 ' '$643 ' '$776 ' '$789 ']\n",
      "BUILDING PERMITS, 2016:  [nan '15,001' '1,503' '35,578' '9,474' '102,350' '38,974' '5,504' '5,804'\n",
      " '116,240' '51,675' '3,369' '12,165' '22,603' '18,713' '14,317' '9,807'\n",
      " '12,714' '14,503' '4,010' '17,044' '16,288' '20,408' '21,449' '6,886'\n",
      " '18,997' '4,781' '8,078' '17,952' '3,796' '26,793' '4863' '33711' '60550'\n",
      " '3981' '22816' '12092' '19586' '23303' '1226' '32165' '5686' '36157'\n",
      " '165,853' '22,662' '1,771' '31,132' '44,077' '2,544' '19,274' '1,727']\n",
      "HOUSEHOLDS, 2011-2015:  [nan '1,848,325' '250,969' '2,412,212' '1,138,025' '12,717,801'\n",
      " '2,024,468' '1,352,583' '344,022' '7,300,494' '3,574,362' '450,572'\n",
      " '589,320' '4,786,388' '2,501,937' '1,236,409' '1,113,472' '1,708,499'\n",
      " '1,727,919' '553,284' '2,166,389' '2,549,721' '3,841,148' '2,124,745'\n",
      " '1,096,593' '2,364,688' '409,394' '736,613' '1,016,709' '520,251'\n",
      " '3,189,486' '763603' '7262279' '3775581' '299638' '4585084' '1455321'\n",
      " '1533430' '4958859' '410602' '1815094' '330858' '2504556' '9,149,196'\n",
      " '906,292' '257,167' '3,062,783' '2,668,912' '740,890' '2,299,107'\n",
      " '226,865']\n",
      "PERSONS PER HOUSEHOLD, 2011-2015:  [nan '2.55' '2.81' '2.69' '2.53' '2.96' '2.57' '2.62' '2.63' '2.73' '3.02'\n",
      " '2.42' '2.5' '2.6' '2.34' '2.67' '2.52' '2.49' '2.64' '2.48' '2.41'\n",
      " '2.47' '2.72' '2.54' '2.32' '2.46' '2.51' '2.56' '2.45' '2.84' '3.15'\n",
      " '2.43']\n",
      "LIVING IN SAME HOUSE 1 YEAR AGO, PERCENT OF PERSONS AGE 1 YEAR+, 2011-2015:  [nan '85.30%' '80.90%' '81.30%' '83.90%' '85.20%' '80.80%' '87.80%'\n",
      " '86.60%' '83.80%' '84.00%' '85.10%' '82.40%' '86.80%' '85.00%' '84.80%'\n",
      " '83.50%' '84.70%' '86.30%' '85.90%' '87.10%' '85.50%' '86.10%' '83.60%'\n",
      " '83.70%' '78.80%' '86.50%' '90.20%' '0.857' '0.891' '0.847' '0.822'\n",
      " '0.853' '0.826' '0.819' '0.88' '0.866' '0.834' '83.30%' '82.90%' '84.40%'\n",
      " '82.50%' '88.20%' '85.80%' '81.90%']\n",
      "LANGUAGE OTHER THAN ENGLISH SPOKEN AT HOME, PERCENT OF PERSONS AGE 5 YEARS+, 2011-2015:  [nan '5.20%' '16.20%' '26.90%' '7.20%' '43.90%' '16.90%' '21.90%' '12.90%'\n",
      " '28.10%' '13.60%' '25.20%' '10.60%' '22.70%' '8.30%' '7.40%' '11.30%'\n",
      " '5.10%' '8.50%' '6.60%' '17.20%' '22.50%' '9.20%' '11.00%' '3.90%'\n",
      " '6.00%' '4.10%' '10.80%' '30.00%' '7.90%' '30.50%' '0.357' '0.304'\n",
      " '0.112' '0.056' '0.067' '0.098' '0.151' '0.106' '0.214' '0.069' '0.065'\n",
      " '35.00%' '14.70%' '5.40%' '15.40%' '18.90%' '2.50%' '8.70%' '7.10%']\n",
      "HIGH SCHOOL GRADUATE OR HIGHER, PERCENT OF PERSONS AGE 25 YEARS+, 2011-2015:  [nan '84.30%' '92.10%' '86.00%' '84.80%' '81.80%' '90.70%' '89.90%'\n",
      " '88.40%' '86.90%' '85.40%' '91.00%' '89.50%' '87.90%' '87.80%' '91.50%'\n",
      " '90.20%' '84.20%' '83.40%' '91.60%' '89.40%' '89.80%' '89.60%' '92.40%'\n",
      " '82.30%' '92.80%' '85.10%' '92.30%' '88.60%' '0.842' '0.856' '0.858'\n",
      " '0.917' '0.891' '0.869' '0.898' '0.892' '0.862' '0.909' '0.855' '81.90%'\n",
      " '91.20%' '91.80%' '88.30%' '90.40%' '85.00%']\n",
      "BACHELOR'S DEGREE OR HIGHER, PERCENT OF PERSONS AGE 25 YEARS+, 2011-2015:  [nan '23.50%' '28.00%' '27.50%' '21.10%' '31.40%' '38.10%' '37.60%'\n",
      " '30.00%' '27.30%' '28.80%' '30.80%' '25.90%' '32.30%' '24.10%' '26.70%'\n",
      " '31.00%' '22.30%' '22.50%' '29.00%' '37.90%' '40.50%' '26.90%' '33.70%'\n",
      " '20.70%' '27.10%' '29.50%' '29.30%' '23.00%' '34.90%' '36.80%' '0.263'\n",
      " '0.342' '0.284' '0.277' '0.261' '0.241' '0.308' '0.286' '0.319' '0.258'\n",
      " '0.27' '0.249' '27.60%' '31.10%' '36.00%' '36.30%' '32.90%' '19.20%'\n",
      " '27.80%' '25.70%']\n",
      "WITH A DISABILITY, UNDER AGE 65 YEARS, PERCENT, 2011-2015:  [nan '11.80%' '8.10%' '8.20%' '12.30%' '6.80%' '7.20%' '7.10%' '8.50%'\n",
      " '8.80%' '6.50%' '9.00%' '9.70%' '7.90%' '8.60%' '12.90%' '11.00%'\n",
      " '11.90%' '10.30%' '10.40%' '9.10%' '7.30%' '6.60%' '0.101' '0.074'\n",
      " '0.096' '0.068' '0.099' '0.113' '0.102' '0.095' '0.089' '0.103' '0.084'\n",
      " '0.112' '10.00%' '7.70%' '8.90%' '14.40%']\n",
      "PERSONS  WITHOUT HEALTH INSURANCE, UNDER AGE 65 YEARS, PERCENT:  [nan '10.70%' '15.50%' '11.90%' '9.30%' '8.30%' '8.60%' '5.70%' '6.60%'\n",
      " '15.30%' '14.80%' '4.20%' '11.80%' '7.40%' '9.40%' '5.00%' '10.10%'\n",
      " '6.00%' '9.90%' '7.00%' '2.90%' '6.30%' '4.80%' '13.90%' '10.50%' '9.80%'\n",
      " '13.10%' '7.10%' '9.20%' '0.108' '0.07' '0.122' '0.081' '0.066' '0.161'\n",
      " '0.073' '0.067' '0.051' '0.119' '0.103' '0.106' '18.60%' '9.70%' '4.50%'\n",
      " '6.90%' '6.50%' '6.20%' '13.40%']\n",
      "IN CIVILIAN LABOR FORCE, TOTAL, PERCENT OF POPULATION AGE 16 YEARS+, 2011-2015:  [nan '58.00%' '67.70%' '59.30%' '58.50%' '63.10%' '67.60%' '67.20%'\n",
      " '58.80%' '62.30%' '61.50%' '62.60%' '65.60%' '63.90%' '66.30%' '59.10%'\n",
      " '60.40%' '63.40%' '67.90%' '67.50%' '61.20%' '70.00%' '57.50%' '63.20%'\n",
      " '63.60%' '69.90%' '64.00%' '68.20%' '65.90%' '0.591' '0.633' '0.618'\n",
      " '0.693' '0.611' '0.621' '0.628' '0.655' '0.601' '0.686' '0.61' '64.30%'\n",
      " '66.60%' '64.70%' '63.50%' '53.90%' '67.10%']\n",
      "IN CIVILIAN LABOR FORCE, FEMALE, PERCENT OF POPULATION AGE 16 YEARS+, 2011-2015:  [nan '53.00%' '65.00%' '54.50%' '53.30%' '57.20%' '62.60%' '62.80%'\n",
      " '59.40%' '54.70%' '57.90%' '58.80%' '56.80%' '60.70%' '59.00%' '63.30%'\n",
      " '61.60%' '54.90%' '56.00%' '59.90%' '64.10%' '63.40%' '57.10%' '66.20%'\n",
      " '53.70%' '59.30%' '59.50%' '65.20%' '63.80%' '60.60%' '0.549' '0.587'\n",
      " '0.577' '0.65' '0.59' '0.557' '0.576' '0.583' '0.616' '0.562' '0.646'\n",
      " '0.563' '57.70%' '63.60%' '60.80%' '58.50%' '49.20%' '63.50%' '62.70%']\n",
      "TOTAL ACCOMMODATION AND FOOD SERVICES SALES, 2012 ($1,000):  ['(c)' '7,576,462' '2,221,335' '13,996,635' '4,307,264' '90,830,372'\n",
      " '13,617,654' '9,542,068' '2,148,437' '49,817,925' '18,976,611'\n",
      " '9,536,706' '2,680,225' '27,937,381' '13,076,602' '5,468,687' '4,873,411'\n",
      " '7,500,115' '11,697,949' '2,901,347' '12,516,782' '17,508,975'\n",
      " '17,962,356' '11,722,627' '6,999,175' '12,430,310' '2,420,455'\n",
      " '3,094,498' '27,481,505' '2,942,278' '19,673,558' '4349672' '49285508'\n",
      " '18622258' '2045123' '20652777' '7121153' '8466788' '23504192' '2481314'\n",
      " '9763818' '1873699' '12499013' '54,480,811' '4,789,281' '1,564,272'\n",
      " '17,795,901' '14,297,278' '4,036,333' '10,303,256' '1,644,844']\n",
      "TOTAL HEALTH CARE AND SOCIAL ASSISTANCE RECEIPTS/REVENUE, 2012 ($1,000):  ['(c)' '26,039,632' '6,375,483' '37,055,881' '15,792,628' '248,953,592'\n",
      " '29,488,161' '29,573,119' '7,003,251' '124,061,425' '51,800,643'\n",
      " '8,136,947' '7,895,614' '83,431,778' '42,493,117' '18,583,828'\n",
      " '18,248,370' '26,264,745' '27,951,792' '10,297,043' '40,821,901'\n",
      " '63,583,090' '63,018,786' '40,403,572' '16,630,587' '40,089,316'\n",
      " '6,469,475' '12,869,418' '13,928,514' '9,616,460' '60,375,232' '11236630'\n",
      " '155666053' '55227505' '5418355' '80915693' '22795438' '24956816'\n",
      " '96329248' '8223005' '22941292' '6211731' '42383683' '145,035,130'\n",
      " '14,521,857' '4,457,996' '47,705,003' '43,966,889' '12,259,395'\n",
      " '40,680,625' '3,291,478']\n",
      "TOTAL MANUFACTURERS SHIPMENTS, 2012 ($1,000):  ['(c)' '124,809,759' 'D' '51,243,473' '62,712,925' '512,303,164'\n",
      " '50,447,098' '55,160,095' '22,597,384' '96,924,106' '155,836,792'\n",
      " '20,201,432' '281,037,755' '242,763,842' '116,668,830' '86,076,260'\n",
      " '129,284,438' '271,191,050' '16,044,543' '39,532,989' '81,927,799'\n",
      " '238,892,383' '123,076,309' '66,441,608' '111,535,362' '11,535,236'\n",
      " '57,499,177' '14,719,141' '18,895,624' '108,854,971' '29102352'\n",
      " '148879931' '202344646' '14427360' '313629976' '74295394' '51349948'\n",
      " '231396178' '11262158' '99160840' '16882647' '139960482' '702,603,073'\n",
      " '50,046,429' '9,315,494' '96,389,872' '131,530,601' '24,553,072'\n",
      " '177,728,926' '10,783,794']\n",
      "TOTAL MERCHANT WHOLESALER SALES, 2012 ($1,000):  ['(c)' '57,746,565' '5,216,303' '69,437,272' '31,256,110' '666,652,186'\n",
      " '77,034,971' '161,962,244' '5,628,914' '252,626,608' '143,645,290'\n",
      " '9,607,982' '17,906,012' '295,456,992' '81,173,422' '62,318,301'\n",
      " '60,226,324' '71,745,899' '68,012,838' '12,961,262' '60,734,191'\n",
      " '123,904,370' '115,704,903' '104,485,117' '28,302,952' '91,916,351'\n",
      " '12,645,824' '42,618,995' '19,841,701' '18,029,179' '288,467,844'\n",
      " '10720363' '341734970' '105275586' '28150837' '155426023' '71892946'\n",
      " '48325261' '191170147' '22310389' '45520900' '20411059' '111718421'\n",
      " '691,242,607' '30,927,885' '6,450,076' '86,613,641' '83,313,366'\n",
      " '14,295,437' '77,066,883' '5,597,891']\n",
      "TOTAL RETAIL SALES, 2012 ($1,000):  ['(c)' '58,564,965' '10,474,275' '84,716,542' '36,815,256' '481,800,461'\n",
      " '67,815,200' '51,632,467' '14,456,001' '273,867,145' '119,801,495'\n",
      " '18,901,745' '20,444,278' '166,634,514' '85,857,962' '44,905,624'\n",
      " '38,276,461' '54,869,978' '61,396,364' '21,521,714' '76,379,707'\n",
      " '92,915,380' '119,302,046' '78,898,182' '37,053,190' '90,546,581'\n",
      " '15,623,573' '30,470,717' '38,234,170' '26,018,201' '133,665,728'\n",
      " '25179274' '251167736' '120691007' '15519816' '153553997' '50256231'\n",
      " '49481054' '178794945' '12063865' '58093824' '13791827' '91641605'\n",
      " '356,116,376' '38,024,486' '9,933,751' '110,002,385' '118,924,049'\n",
      " '22,637,923' '78,201,822' '9,446,043']\n",
      "TOTAL RETAIL SALES PER CAPITA, 2012:  ['(c)' '$12,145 ' '$14,320 ' '$12,927 ' '$12,483 ' '$12,665 ' '$13,073 '\n",
      " '$14,381 ' '$15,763 ' '$14,177 ' '$12,077 ' '$13,576 ' '$12,812 '\n",
      " '$12,942 ' '$13,133 ' '$14,607 ' '$13,263 ' '$12,526 ' '$13,342 '\n",
      " '$16,192 ' '$12,980 ' '$13,980 ' '$12,071 ' '$14,667 ' '$12,413 '\n",
      " '$15,036 ' '$15,544 ' '$16,422 ' '$13,858 ' '$19,700 ' '$15,079 ' '12073'\n",
      " '12834' '12376' '22183' '13301' '13174' '12690' '14008' '11486' '12298'\n",
      " '16550' '14194' '$13,666 ' '$13,317 ' '$15,868 ' '$13,438 ' '$17,243 '\n",
      " '$12,201 ' '$13,656 ' '$16,388 ']\n",
      "MEAN TRAVEL TIME TO WORK (MINUTES), WORKERS AGE 16 YEARS+, 2011-2015:  [nan '24.4' '19' '24.8' '21.6' '28' '25.4' '25.5' '26.4' '27.4' '26.8'\n",
      " '20.2' '28.4' '23.3' '18.9' '19.1' '23' '25.1' '23.6' '32.3' '28.7'\n",
      " '24.2' '23.1' '24.1' '23.2' '18.1' '18.3' '23.9' '26.9' '31' '17.2'\n",
      " '21.3' '22.9' '26.3' '16.9' '24.5' '25.6' '22.5' '27.9' '21.9']\n",
      "MEDIAN HOUSEHOLD INCOME (IN 2015 DOLLARS), 2011-2015:  [nan '$43,623 ' '$72,515 ' '$50,255 ' '$41,371 ' '$61,818 ' '$60,629 '\n",
      " '$70,331 ' '$60,509 ' '$47,507 ' '$49,620 ' '$69,515 ' '$47,583 '\n",
      " '$57,574 ' '$49,255 ' '$53,183 ' '$52,205 ' '$43,740 ' '$45,047 '\n",
      " '$49,331 ' '$74,551 ' '$68,563 ' '$49,576 ' '$61,492 ' '$39,665 '\n",
      " '$48,173 ' '$47,169 ' '$52,997 ' '$51,847 ' '$66,779 ' '$72,093 ' '44963'\n",
      " '59269' '46868' '57181' '49429' '46879' '51243' '53599' '56852' '45483'\n",
      " '50957' '45219' '$53,207 ' '$60,727 ' '$55,176 ' '$65,015 ' '$61,062 '\n",
      " '$41,751 ' '$53,357 ' '$58,840 ']\n",
      "PER CAPITA INCOME IN PAST 12 MONTHS (IN 2015 DOLLARS), 2011-2015:  [nan '$24,091 ' '$33,413 ' '$25,848 ' '$22,798 ' '$30,318 ' '$32,217 '\n",
      " '$38,803 ' '$30,554 ' '$26,829 ' '$25,737 ' '$29,822 ' '$23,399 '\n",
      " '$30,494 ' '$25,346 ' '$27,950 ' '$27,706 ' '$24,063 ' '$24,981 '\n",
      " '$27,655 ' '$36,897 ' '$36,895 ' '$26,607 ' '$32,157 ' '$21,057 '\n",
      " '$26,259 ' '$26,381 ' '$27,882 ' '$26,541 ' '$34,362 ' '$36,582 ' '24012'\n",
      " '33236' '25920' '32035' '26953' '25032' '27684' '29291' '31118' '24604'\n",
      " '26747' '25227' '$26,999 ' '$24,686 ' '$29,894 ' '$34,152 ' '$31,762 '\n",
      " '$23,450 ' '$28,340 ' '$29,803 ']\n",
      "PERSONS IN POVERTY, PERCENT:  [nan '17.10%' '9.90%' '16.40%' '17.20%' '14.30%' '11.00%' '9.80%' '11.70%'\n",
      " '14.70%' '16.00%' '9.30%' '14.40%' '13.00%' '14.10%' '11.80%' '12.10%'\n",
      " '18.50%' '20.20%' '12.50%' '9.70%' '10.40%' '15.00%' '20.80%' '14.00%'\n",
      " '13.30%' '11.40%' '13.80%' '7.30%' '0.198' '0.147' '0.154' '0.107'\n",
      " '0.146' '0.163' '0.133' '0.129' '0.128' '0.153' '0.158' '15.60%' '10.20%'\n",
      " '11.90%' '11.30%' '17.90%']\n",
      "TOTAL EMPLOYER ESTABLISHMENTS, 2015:  ['Includes data not distributed by county.' '98,540' '20,907' '136,352'\n",
      " '65,175' '908,120' '161,737' '89,232' '24,852' '532,830' '224,593'\n",
      " '31,915' '44,757' '318,266' '145,116' '80,952' '74,526' '91,845'\n",
      " '105,575' '40,801' '137,204' '175,225' '219,627' '148,666' '58,662'\n",
      " '158,191' '37,270' '53,719' '63,383' '37,669' '230,961' '43793' '540298'\n",
      " '223209' '24848' '251668' '93093' '112393' '299695' '28387' '103973'\n",
      " '26511' '133344' '569,091' '75,463' '21,121' '197,384' '182,913' '36,993'\n",
      " '139,500' '21,040']\n",
      "TOTAL EMPLOYMENT, 2015:  ['Includes data not distributed by county.' '1,634,391' '267,999'\n",
      " '2,295,186' '1,003,113' '14,325,377' '2,253,795' '1,503,102' '397,385'\n",
      " '7,777,990' '3,692,490' '523,677' '546,524' '5,427,549' '2,660,503'\n",
      " '1,338,418' '1,189,876' '1,579,477' '1,724,973' '500,549' '2,239,817'\n",
      " '3,167,329' '3,725,280' '2,612,314' '926,391' '2,442,316' '375,041'\n",
      " '870,279' '1,129,965' '576,424' '3,558,619' '626284' '7998994' '3670284'\n",
      " '365893' '4719985' '1370988' '1498727' '5306896' '425748' '1662251'\n",
      " '353540' '2507205' '10,239,710' '1,203,954' '266,363' '3,198,718'\n",
      " '2,602,408' '565,435' '2,503,532' '219,881']\n",
      "TOTAL ANNUAL PAYROLL, 2015 ($1,000):  ['Includes data not distributed by county.' '67,370,353' '15,643,303'\n",
      " '102,671,393' '39,451,191' '856,954,246' '117,539,555' '92,555,072'\n",
      " '21,305,227' '337,074,525' '174,839,354' '22,068,393' '21,119,617'\n",
      " '289,183,546' '113,315,432' '55,079,743' '51,259,676' '63,741,066'\n",
      " '76,684,760' '20,413,159' '118,496,858' '198,026,611' '174,873,962'\n",
      " '133,092,716' '33,948,151' '109,135,528' '14,227,065' '36,967,924'\n",
      " '46,595,673' '28,076,320' '209,072,015' '25145307' '513083321'\n",
      " '164936258' '17184756' '213161303' '59124620' '71006598' '257626942'\n",
      " '19704826' '66120263' '13812997' '110481280' '521,095,797' '51,453,266'\n",
      " '10,615,093' '165,788,897' '149,258,789' '22,159,084' '112,406,494'\n",
      " '10,094,010']\n",
      "TOTAL EMPLOYMENT, PERCENT CHANGE, 2014-2015:  ['Includes data not distributed by county.' '1.90%' '0.40%' '2.40%'\n",
      " '1.10%' '3.50%' '3.30%' '1.20%' '1.50%' '4.50%' '4.00%' '0.90%' '3.00%'\n",
      " '2.20%' '1.70%' '1.00%' '2.90%' '1.60%' '2.60%' '3.20%' '1.80%' '3.10%'\n",
      " '2.30%' '3.70%' '0.039' '0.018' '0.031' '0.014' '0.008' '0.038' '0.01'\n",
      " '0.028' '0.016' '0.022' '4.90%' '2.00%' '-1.70%' 'FN']\n",
      "TOTAL NONEMPLOYER ESTABLISHMENTS, 2015:  [nan '322,025' '55,521' '451,951' '198,380' '3,206,958' '480,847'\n",
      " '272,809' '60,734' '2,040,339' '870,897' '104,707' '122,221' '968,330'\n",
      " '403,546' '207,167' '195,777' '280,835' '358,223' '113,012' '475,518'\n",
      " '514,298' '700,254' '397,378' '211,955' '402,091' '86,969' '131,518'\n",
      " '205,980' '104,437' '670,765' '121279' '1685636' '722639' '53263'\n",
      " '763418' '276218' '278839' '811890' '76747' '329431' '64006' '495703'\n",
      " '2,205,149' '216,280' '60,312' '576,446' '444,135' '88,136' '341,935'\n",
      " '48,140']\n",
      "ALL FIRMS, 2012:  [nan '374,153' '68,032' '499,926' '231,959' '3,548,449' '547,352'\n",
      " '326,693' '73,418' '2,100,187' '929,864' '118,454' '146,642' '1,135,017'\n",
      " '479,059' '259,121' '239,118' '331,546' '414,291' '139,570' '531,953'\n",
      " '607,664' '834,087' '489,494' '235,454' '491,606' '112,419' '164,089'\n",
      " '227,156' '131,638' '792,088' '151363' '2008988' '805985' '68270'\n",
      " '904814' '327229' '339305' '975453' '94642' '367726' '81314' '550453'\n",
      " '2,356,748' '251,419' '75,827' '653,193' '541,522' '114,435' '432,980'\n",
      " '62,427']\n",
      "MEN-OWNED FIRMS, 2012:  [nan '203,604' '35,402' '245,243' '123,158' '1,852,580' '284,554'\n",
      " '187,845' '38,328' '1,084,885' '480,578' '60,409' '70,438' '609,648'\n",
      " '253,533' '135,382' '125,169' '184,154' '215,111' '79,243' '276,630'\n",
      " '357,158' '446,128' '268,710' '125,079' '257,948' '55,913' '83,696'\n",
      " '114,057' '76,716' '464,592' '71132' '1139910' '435677' '37016' '510078'\n",
      " '174395' '165691' '579400' '54651' '202446' '42418' '302249' '1,251,696'\n",
      " '132,163' '41,270' '353,012' '262,650' '63,112' '236,252' '30,039']\n",
      "WOMEN-OWNED FIRMS, 2012:  [nan '137,630' '22,141' '182,425' '75,962' '1,320,085' '194,508' '106,678'\n",
      " '23,964' '807,817' '376,506' '44,453' '45,121' '417,500' '162,798'\n",
      " '82,345' '77,194' '106,011' '151,114' '42,067' '209,119' '199,210'\n",
      " '306,986' '157,821' '89,159' '162,616' '35,449' '51,936' '82,508'\n",
      " '38,525' '252,944' '59044' '725709' '287058' '20316' '306824' '105168'\n",
      " '123015' '304803' '30484' '131856' '23722' '195694' '866,678' '76,269'\n",
      " '23,417' '236,290' '187,677' '39,065' '133,859' '19,344']\n",
      "MINORITY-OWNED FIRMS, 2012:  [nan '92,219' '13,688' '135,313' '35,982' '1,619,857' '85,849' '56,113'\n",
      " '14,440' '926,112' '371,588' '74,208' '10,592' '311,684' '61,252'\n",
      " '14,707' '26,127' '27,258' '126,100' '4,339' '203,394' '89,967' '158,946'\n",
      " '47,302' '74,824' '61,035' '5,578' '14,571' '71,864' '6,111' '237,242'\n",
      " '60622' '709021' '183380' '3190' '122653' '64875' '41456' '131512'\n",
      " '14737' '83233' '4101' '105234' '1,070,392' '24,423' '2,354' '185,043'\n",
      " '92,807' '5,777' '40,507' '4,077']\n",
      "NONMINORITY-OWNED FIRMS, 2012:  [nan '272,651' '51,147' '344,981' '189,029' '1,819,107' '442,365'\n",
      " '259,614' '54,782' '1,121,749' '538,893' '38,510' '130,973' '795,129'\n",
      " '405,090' '236,561' '204,562' '296,155' '277,676' '131,322' '314,902'\n",
      " '499,959' '657,237' '428,716' '155,094' '415,972' '102,746' '144,122'\n",
      " '144,944' '121,297' '533,808' '83857' '1248304' '603182' '62271' '759569'\n",
      " '249027' '285028' '818858' '77042' '276269' '74228' '434025' '1,224,845'\n",
      " '218,826' '70,491' '450,109' '426,697' '104,785' '379,934' '55,397']\n",
      "VETERAN-OWNED FIRMS, 2012:  [nan '41,943' '7,953' '46,780' '25,915' '252,377' '51,722' '31,056'\n",
      " '7,206' '185,756' '96,787' '11,148' '12,804' '89,110' '45,174' '25,889'\n",
      " '21,610' '33,208' '42,211' '15,689' '50,976' '58,339' '71,861' '45,582'\n",
      " '26,789' '49,217' '11,486' '16,693' '23,049' '16,119' '57,996' '14096'\n",
      " '137532' '86571' '6584' '91316' '36273' '30918' '97969' '9904' '47987'\n",
      " '8604' '59379' '213,590' '18,754' '8,237' '76,434' '49,331' '12,912'\n",
      " '39,830' '6,470']\n",
      "NONVETERAN-OWNED FIRMS, 2012:  [nan '316,984' '56,091' '427,582' '192,988' '3,176,341' '469,524'\n",
      " '281,182' '60,318' '1,846,686' '800,585' '101,334' '124,314' '1,006,885'\n",
      " '412,543' '217,779' '203,401' '282,704' '354,460' '115,839' '462,232'\n",
      " '525,667' '733,517' '419,628' '198,566' '415,542' '93,393' '137,254'\n",
      " '191,293' '108,817' '707,975' '128693' '1811544' '684743' '56904'\n",
      " '776193' '273491' '288790' '837792' '79837' '303137' '66219' '469392'\n",
      " '2,057,218' '219,807' '63,317' '548,439' '461,401' '94,960' '370,755'\n",
      " '51,353']\n",
      "POPULATION PER SQUARE MILE, 2010:  [nan '94.4' '1.2' '56.3' '56' '239.1' '48.5' '738.1' '460.8' '350.6'\n",
      " '168.4' '211.8' '19' '231.1' '181' '54.5' '34.9' '109.9' '104.9' '43.1'\n",
      " '594.8' '839.4' '174.8' '66.6' '63.2' '87.1' '6.8' '23.8' '24.6' '147'\n",
      " '1,195.50' '17' '411.2' '196.1' '9.7' '282.3' '54.7' '39.9' '283.9'\n",
      " '1018.1' '153.9' '10.7' '96.3' '33.6' '67.9' '202.6' '101.2' '77.1' '105'\n",
      " '5.8']\n",
      "LAND AREA IN SQUARE MILES, 2010:  [nan '50,645.33' '570,640.95' '113,594.08' '52,035.48' '155,779.22'\n",
      " '103,641.89' '4,842.36' '1,948.54' '53,624.76' '57,513.49' '6,422.63'\n",
      " '82,643.12' '55,518.93' '35,826.11' '55,857.13' '81,758.72' '39,486.34'\n",
      " '43,203.90' '30,842.92' '9,707.24' '7,800.06' '56,538.90' '79,626.74'\n",
      " '46,923.27' '68,741.52' '145,545.80' '76,824.17' '109,781.18' '8,952.65'\n",
      " '7,354.22' '121298.15' '47126.4' '48617.91' '69000.8' '40860.69'\n",
      " '68594.92' '95988.01' '44742.7' '1033.81' '30060.7' '75811' '41234.9'\n",
      " '261,231.71' '82,169.62' '9,216.66' '39,490.09' '66,455.52' '24,038.21'\n",
      " '54,157.80' '97,093.14']\n",
      "FIPS CODE:  [nan '\"01\"' '\"02\"' '\"04\"' '\"05\"' '\"06\"' '\"08\"' '\"09\"' '\"10\"' '\"12\"' '\"13\"'\n",
      " '\"15\"' '\"16\"' '\"17\"' '\"18\"' '\"19\"' '\"20\"' '\"21\"' '\"22\"' '\"23\"' '\"24\"'\n",
      " '\"25\"' '\"26\"' '\"27\"' '\"28\"' '\"29\"' '\"30\"' '\"31\"' '\"32\"' '\"33\"' '\"34\"'\n",
      " '\"35\"' '\"36\"' '\"37\"' '\"38\"' '\"39\"' '\"40\"' '\"41\"' '\"42\"' '\"44\"' '\"45\"'\n",
      " '\"46\"' '\"47\"' '\"48\"' '\"49\"' '\"50\"' '\"51\"' '\"53\"' '\"54\"' '\"55\"' '\"56\"']\n"
     ]
    },
    {
     "ename": "KeyError",
     "evalue": "nan",
     "output_type": "error",
     "traceback": [
      "\u001b[0;31m---------------------------------------------------------------------------\u001b[0m",
      "\u001b[0;31mKeyError\u001b[0m                                  Traceback (most recent call last)",
      "\u001b[0;32m~/anaconda3/lib/python3.7/site-packages/pandas/core/indexes/base.py\u001b[0m in \u001b[0;36mget_loc\u001b[0;34m(self, key, method, tolerance)\u001b[0m\n\u001b[1;32m   2645\u001b[0m             \u001b[0;32mtry\u001b[0m\u001b[0;34m:\u001b[0m\u001b[0;34m\u001b[0m\u001b[0;34m\u001b[0m\u001b[0m\n\u001b[0;32m-> 2646\u001b[0;31m                 \u001b[0;32mreturn\u001b[0m \u001b[0mself\u001b[0m\u001b[0;34m.\u001b[0m\u001b[0m_engine\u001b[0m\u001b[0;34m.\u001b[0m\u001b[0mget_loc\u001b[0m\u001b[0;34m(\u001b[0m\u001b[0mkey\u001b[0m\u001b[0;34m)\u001b[0m\u001b[0;34m\u001b[0m\u001b[0;34m\u001b[0m\u001b[0m\n\u001b[0m\u001b[1;32m   2647\u001b[0m             \u001b[0;32mexcept\u001b[0m \u001b[0mKeyError\u001b[0m\u001b[0;34m:\u001b[0m\u001b[0;34m\u001b[0m\u001b[0;34m\u001b[0m\u001b[0m\n",
      "\u001b[0;32mpandas/_libs/index.pyx\u001b[0m in \u001b[0;36mpandas._libs.index.IndexEngine.get_loc\u001b[0;34m()\u001b[0m\n",
      "\u001b[0;32mpandas/_libs/index.pyx\u001b[0m in \u001b[0;36mpandas._libs.index.IndexEngine.get_loc\u001b[0;34m()\u001b[0m\n",
      "\u001b[0;32mpandas/_libs/index.pyx\u001b[0m in \u001b[0;36mpandas._libs.index.IndexEngine._get_loc_duplicates\u001b[0;34m()\u001b[0m\n",
      "\u001b[0;32mpandas/_libs/index.pyx\u001b[0m in \u001b[0;36mpandas._libs.index.IndexEngine._maybe_get_bool_indexer\u001b[0;34m()\u001b[0m\n",
      "\u001b[0;31mKeyError\u001b[0m: nan",
      "\nDuring handling of the above exception, another exception occurred:\n",
      "\u001b[0;31mKeyError\u001b[0m                                  Traceback (most recent call last)",
      "\u001b[0;32m<ipython-input-50-a0c570f25223>\u001b[0m in \u001b[0;36m<module>\u001b[0;34m\u001b[0m\n\u001b[0;32m----> 1\u001b[0;31m \u001b[0mget_unique\u001b[0m\u001b[0;34m(\u001b[0m\u001b[0mdf2\u001b[0m\u001b[0;34m)\u001b[0m\u001b[0;34m\u001b[0m\u001b[0;34m\u001b[0m\u001b[0m\n\u001b[0m",
      "\u001b[0;32m<ipython-input-42-0b4c04947e52>\u001b[0m in \u001b[0;36mget_unique\u001b[0;34m(dframe)\u001b[0m\n\u001b[1;32m      3\u001b[0m \u001b[0;31m#specified dataframe.\u001b[0m\u001b[0;34m\u001b[0m\u001b[0;34m\u001b[0m\u001b[0;34m\u001b[0m\u001b[0m\n\u001b[1;32m      4\u001b[0m     \u001b[0;32mfor\u001b[0m \u001b[0mi\u001b[0m \u001b[0;32min\u001b[0m \u001b[0mdframe\u001b[0m\u001b[0;34m.\u001b[0m\u001b[0mcolumns\u001b[0m\u001b[0;34m:\u001b[0m\u001b[0;34m\u001b[0m\u001b[0;34m\u001b[0m\u001b[0m\n\u001b[0;32m----> 5\u001b[0;31m         \u001b[0mx\u001b[0m\u001b[0;34m=\u001b[0m\u001b[0mpd\u001b[0m\u001b[0;34m.\u001b[0m\u001b[0munique\u001b[0m\u001b[0;34m(\u001b[0m\u001b[0mdframe\u001b[0m\u001b[0;34m[\u001b[0m\u001b[0mi\u001b[0m\u001b[0;34m]\u001b[0m\u001b[0;34m)\u001b[0m\u001b[0;34m\u001b[0m\u001b[0;34m\u001b[0m\u001b[0m\n\u001b[0m\u001b[1;32m      6\u001b[0m         \u001b[0mprint\u001b[0m\u001b[0;34m(\u001b[0m\u001b[0mi\u001b[0m\u001b[0;34m.\u001b[0m\u001b[0mupper\u001b[0m\u001b[0;34m(\u001b[0m\u001b[0;34m)\u001b[0m \u001b[0;34m+\u001b[0m \u001b[0;34m\": \"\u001b[0m\u001b[0;34m,\u001b[0m\u001b[0mx\u001b[0m\u001b[0;34m)\u001b[0m\u001b[0;34m\u001b[0m\u001b[0;34m\u001b[0m\u001b[0m\n",
      "\u001b[0;32m~/anaconda3/lib/python3.7/site-packages/pandas/core/frame.py\u001b[0m in \u001b[0;36m__getitem__\u001b[0;34m(self, key)\u001b[0m\n\u001b[1;32m   2798\u001b[0m             \u001b[0;32mif\u001b[0m \u001b[0mself\u001b[0m\u001b[0;34m.\u001b[0m\u001b[0mcolumns\u001b[0m\u001b[0;34m.\u001b[0m\u001b[0mnlevels\u001b[0m \u001b[0;34m>\u001b[0m \u001b[0;36m1\u001b[0m\u001b[0;34m:\u001b[0m\u001b[0;34m\u001b[0m\u001b[0;34m\u001b[0m\u001b[0m\n\u001b[1;32m   2799\u001b[0m                 \u001b[0;32mreturn\u001b[0m \u001b[0mself\u001b[0m\u001b[0;34m.\u001b[0m\u001b[0m_getitem_multilevel\u001b[0m\u001b[0;34m(\u001b[0m\u001b[0mkey\u001b[0m\u001b[0;34m)\u001b[0m\u001b[0;34m\u001b[0m\u001b[0;34m\u001b[0m\u001b[0m\n\u001b[0;32m-> 2800\u001b[0;31m             \u001b[0mindexer\u001b[0m \u001b[0;34m=\u001b[0m \u001b[0mself\u001b[0m\u001b[0;34m.\u001b[0m\u001b[0mcolumns\u001b[0m\u001b[0;34m.\u001b[0m\u001b[0mget_loc\u001b[0m\u001b[0;34m(\u001b[0m\u001b[0mkey\u001b[0m\u001b[0;34m)\u001b[0m\u001b[0;34m\u001b[0m\u001b[0;34m\u001b[0m\u001b[0m\n\u001b[0m\u001b[1;32m   2801\u001b[0m             \u001b[0;32mif\u001b[0m \u001b[0mis_integer\u001b[0m\u001b[0;34m(\u001b[0m\u001b[0mindexer\u001b[0m\u001b[0;34m)\u001b[0m\u001b[0;34m:\u001b[0m\u001b[0;34m\u001b[0m\u001b[0;34m\u001b[0m\u001b[0m\n\u001b[1;32m   2802\u001b[0m                 \u001b[0mindexer\u001b[0m \u001b[0;34m=\u001b[0m \u001b[0;34m[\u001b[0m\u001b[0mindexer\u001b[0m\u001b[0;34m]\u001b[0m\u001b[0;34m\u001b[0m\u001b[0;34m\u001b[0m\u001b[0m\n",
      "\u001b[0;32m~/anaconda3/lib/python3.7/site-packages/pandas/core/indexes/base.py\u001b[0m in \u001b[0;36mget_loc\u001b[0;34m(self, key, method, tolerance)\u001b[0m\n\u001b[1;32m   2646\u001b[0m                 \u001b[0;32mreturn\u001b[0m \u001b[0mself\u001b[0m\u001b[0;34m.\u001b[0m\u001b[0m_engine\u001b[0m\u001b[0;34m.\u001b[0m\u001b[0mget_loc\u001b[0m\u001b[0;34m(\u001b[0m\u001b[0mkey\u001b[0m\u001b[0;34m)\u001b[0m\u001b[0;34m\u001b[0m\u001b[0;34m\u001b[0m\u001b[0m\n\u001b[1;32m   2647\u001b[0m             \u001b[0;32mexcept\u001b[0m \u001b[0mKeyError\u001b[0m\u001b[0;34m:\u001b[0m\u001b[0;34m\u001b[0m\u001b[0;34m\u001b[0m\u001b[0m\n\u001b[0;32m-> 2648\u001b[0;31m                 \u001b[0;32mreturn\u001b[0m \u001b[0mself\u001b[0m\u001b[0;34m.\u001b[0m\u001b[0m_engine\u001b[0m\u001b[0;34m.\u001b[0m\u001b[0mget_loc\u001b[0m\u001b[0;34m(\u001b[0m\u001b[0mself\u001b[0m\u001b[0;34m.\u001b[0m\u001b[0m_maybe_cast_indexer\u001b[0m\u001b[0;34m(\u001b[0m\u001b[0mkey\u001b[0m\u001b[0;34m)\u001b[0m\u001b[0;34m)\u001b[0m\u001b[0;34m\u001b[0m\u001b[0;34m\u001b[0m\u001b[0m\n\u001b[0m\u001b[1;32m   2649\u001b[0m         \u001b[0mindexer\u001b[0m \u001b[0;34m=\u001b[0m \u001b[0mself\u001b[0m\u001b[0;34m.\u001b[0m\u001b[0mget_indexer\u001b[0m\u001b[0;34m(\u001b[0m\u001b[0;34m[\u001b[0m\u001b[0mkey\u001b[0m\u001b[0;34m]\u001b[0m\u001b[0;34m,\u001b[0m \u001b[0mmethod\u001b[0m\u001b[0;34m=\u001b[0m\u001b[0mmethod\u001b[0m\u001b[0;34m,\u001b[0m \u001b[0mtolerance\u001b[0m\u001b[0;34m=\u001b[0m\u001b[0mtolerance\u001b[0m\u001b[0;34m)\u001b[0m\u001b[0;34m\u001b[0m\u001b[0;34m\u001b[0m\u001b[0m\n\u001b[1;32m   2650\u001b[0m         \u001b[0;32mif\u001b[0m \u001b[0mindexer\u001b[0m\u001b[0;34m.\u001b[0m\u001b[0mndim\u001b[0m \u001b[0;34m>\u001b[0m \u001b[0;36m1\u001b[0m \u001b[0;32mor\u001b[0m \u001b[0mindexer\u001b[0m\u001b[0;34m.\u001b[0m\u001b[0msize\u001b[0m \u001b[0;34m>\u001b[0m \u001b[0;36m1\u001b[0m\u001b[0;34m:\u001b[0m\u001b[0;34m\u001b[0m\u001b[0;34m\u001b[0m\u001b[0m\n",
      "\u001b[0;32mpandas/_libs/index.pyx\u001b[0m in \u001b[0;36mpandas._libs.index.IndexEngine.get_loc\u001b[0;34m()\u001b[0m\n",
      "\u001b[0;32mpandas/_libs/index.pyx\u001b[0m in \u001b[0;36mpandas._libs.index.IndexEngine.get_loc\u001b[0;34m()\u001b[0m\n",
      "\u001b[0;32mpandas/_libs/index.pyx\u001b[0m in \u001b[0;36mpandas._libs.index.IndexEngine._get_loc_duplicates\u001b[0;34m()\u001b[0m\n",
      "\u001b[0;32mpandas/_libs/index.pyx\u001b[0m in \u001b[0;36mpandas._libs.index.IndexEngine._maybe_get_bool_indexer\u001b[0;34m()\u001b[0m\n",
      "\u001b[0;31mKeyError\u001b[0m: nan"
     ]
    }
   ],
   "source": [
    "get_unique(df2)"
   ]
  },
  {
   "cell_type": "markdown",
   "metadata": {},
   "source": [
    ">**After transposing the census data it seems that it contains a lot of unnecessary and uninformative fields which will be dropped later in the analysis.**\n",
    "\n",
    ">**The columns are of string data type even though they store numbers which means they need to be converted.**\n",
    "\n",
    ">**There are also some null values in the data the data.**"
   ]
  },
  {
   "cell_type": "markdown",
   "metadata": {},
   "source": [
    "### Data Cleaning"
   ]
  },
  {
   "cell_type": "markdown",
   "metadata": {},
   "source": [
    ">**I'll start with dropping duplicates if there're any.**"
   ]
  },
  {
   "cell_type": "code",
   "execution_count": 51,
   "metadata": {
    "scrolled": true
   },
   "outputs": [],
   "source": [
    "df.drop_duplicates(inplace=True)"
   ]
  },
  {
   "cell_type": "code",
   "execution_count": 52,
   "metadata": {},
   "outputs": [],
   "source": [
    "df2.drop_duplicates(inplace=True)"
   ]
  },
  {
   "cell_type": "markdown",
   "metadata": {},
   "source": [
    ">**After rewiving the gun data I decided to drop 'permit', 'admin', 'prepawn','redemption','return' and 'rentals' columns.**\n",
    "\n",
    ">**The reason why I'm doing this is that the data in those columns is for background checks not related to gun purchase, e.g. concealed carry permit checks, background checks for using a gun as a pledge or a background check conducted before renting a gun.**"
   ]
  },
  {
   "cell_type": "code",
   "execution_count": 53,
   "metadata": {},
   "outputs": [],
   "source": [
    "def mass_drop(col_list,dframe):\n",
    "#this functions takes a list of columns to drop and a dataframe as the agruments and drops the specified colums.\n",
    "    for i in col_list:\n",
    "        dframe.drop(dframe.columns[dframe.columns.str.contains('^'+i)], axis =1, inplace = True)"
   ]
  },
  {
   "cell_type": "code",
   "execution_count": 54,
   "metadata": {
    "scrolled": false
   },
   "outputs": [
    {
     "name": "stdout",
     "output_type": "stream",
     "text": [
      "<class 'pandas.core.frame.DataFrame'>\n",
      "Int64Index: 12485 entries, 0 to 12484\n",
      "Data columns (total 10 columns):\n",
      " #   Column                 Non-Null Count  Dtype  \n",
      "---  ------                 --------------  -----  \n",
      " 0   month                  12485 non-null  object \n",
      " 1   state                  12485 non-null  object \n",
      " 2   handgun                12465 non-null  float64\n",
      " 3   long_gun               12466 non-null  float64\n",
      " 4   other                  5500 non-null   float64\n",
      " 5   multiple               12485 non-null  int64  \n",
      " 6   private_sale_handgun   2750 non-null   float64\n",
      " 7   private_sale_long_gun  2750 non-null   float64\n",
      " 8   private_sale_other     2750 non-null   float64\n",
      " 9   totals                 12485 non-null  int64  \n",
      "dtypes: float64(6), int64(2), object(2)\n",
      "memory usage: 1.0+ MB\n"
     ]
    }
   ],
   "source": [
    "mass_drop(['permit','admin','prepawn','redemption','return','rentals'],df)\n",
    "df.info()"
   ]
  },
  {
   "cell_type": "markdown",
   "metadata": {},
   "source": [
    ">**I will sum the number of background checks for private sales with the number of background checks of related gun type so that I have the data of guns sold in one column. After that I will drop private-related columns and change the totals column.**\n",
    "\n",
    ">**But before doing that I need to be handle NaN values first. As I can see from the original data source (see <a href=\"https://www.fbi.gov/file-repository/nics_firearm_checks_-_month_year_by_state_type.pdf/view\">Link</a></li></n>) there are a lot of 0s in the table so it's better to replace NaNs with 0s.**"
   ]
  },
  {
   "cell_type": "code",
   "execution_count": 55,
   "metadata": {
    "scrolled": false
   },
   "outputs": [
    {
     "data": {
      "text/plain": [
       "0"
      ]
     },
     "execution_count": 55,
     "metadata": {},
     "output_type": "execute_result"
    }
   ],
   "source": [
    "df.fillna(0,inplace=True)\n",
    "df.isnull().sum().sum()"
   ]
  },
  {
   "cell_type": "code",
   "execution_count": 56,
   "metadata": {},
   "outputs": [],
   "source": [
    "df.handgun = df.handgun + df.private_sale_handgun\n",
    "df.long_gun = df.long_gun + df.private_sale_long_gun\n",
    "df.other = df.other + df.private_sale_other"
   ]
  },
  {
   "cell_type": "code",
   "execution_count": 57,
   "metadata": {
    "scrolled": false
   },
   "outputs": [
    {
     "name": "stdout",
     "output_type": "stream",
     "text": [
      "<class 'pandas.core.frame.DataFrame'>\n",
      "Int64Index: 12485 entries, 0 to 12484\n",
      "Data columns (total 10 columns):\n",
      " #   Column                 Non-Null Count  Dtype  \n",
      "---  ------                 --------------  -----  \n",
      " 0   month                  12485 non-null  object \n",
      " 1   state                  12485 non-null  object \n",
      " 2   handgun                12485 non-null  float64\n",
      " 3   long_gun               12485 non-null  float64\n",
      " 4   other                  12485 non-null  float64\n",
      " 5   multiple               12485 non-null  int64  \n",
      " 6   private_sale_handgun   12485 non-null  float64\n",
      " 7   private_sale_long_gun  12485 non-null  float64\n",
      " 8   private_sale_other     12485 non-null  float64\n",
      " 9   totals                 12485 non-null  float64\n",
      "dtypes: float64(7), int64(1), object(2)\n",
      "memory usage: 1.0+ MB\n"
     ]
    }
   ],
   "source": [
    "df.totals = df.handgun+df.long_gun+df.other+df.multiple\n",
    "df.info()"
   ]
  },
  {
   "cell_type": "code",
   "execution_count": 58,
   "metadata": {
    "scrolled": false
   },
   "outputs": [
    {
     "name": "stdout",
     "output_type": "stream",
     "text": [
      "<class 'pandas.core.frame.DataFrame'>\n",
      "Int64Index: 12485 entries, 0 to 12484\n",
      "Data columns (total 7 columns):\n",
      " #   Column    Non-Null Count  Dtype  \n",
      "---  ------    --------------  -----  \n",
      " 0   month     12485 non-null  object \n",
      " 1   state     12485 non-null  object \n",
      " 2   handgun   12485 non-null  float64\n",
      " 3   long_gun  12485 non-null  float64\n",
      " 4   other     12485 non-null  float64\n",
      " 5   multiple  12485 non-null  int64  \n",
      " 6   totals    12485 non-null  float64\n",
      "dtypes: float64(4), int64(1), object(2)\n",
      "memory usage: 780.3+ KB\n"
     ]
    }
   ],
   "source": [
    "df.drop(df.columns[df.columns.str.contains('^private')], axis =1, inplace = True)\n",
    "df.info()"
   ]
  },
  {
   "cell_type": "markdown",
   "metadata": {},
   "source": [
    ">**I'll change the data types in the gun dataset columns to the correct ones.**"
   ]
  },
  {
   "cell_type": "code",
   "execution_count": 59,
   "metadata": {},
   "outputs": [],
   "source": [
    "def change_dtype(col_list,dframe,dtype):\n",
    "#this function takes a list of columns, dataframe name,data type as the arguments and \n",
    "#converts the data in columns according to specified arguments.\n",
    "    for i in col_list:\n",
    "        dframe[i] = dframe[i].astype(dtype)"
   ]
  },
  {
   "cell_type": "code",
   "execution_count": 60,
   "metadata": {
    "scrolled": false
   },
   "outputs": [],
   "source": [
    "change_dtype(['handgun','long_gun','other','totals'],df,int)"
   ]
  },
  {
   "cell_type": "markdown",
   "metadata": {},
   "source": [
    ">**'month' column also needs to be converted.**"
   ]
  },
  {
   "cell_type": "code",
   "execution_count": 61,
   "metadata": {
    "scrolled": false
   },
   "outputs": [],
   "source": [
    "df['month'] = pd.to_datetime(df['month'],format = '%Y-%m');"
   ]
  },
  {
   "cell_type": "markdown",
   "metadata": {},
   "source": [
    ">**I'll delete the unnecessary fields for census data. First, I will drop 'Fact Note' row since it's meaningless for the analysis.**"
   ]
  },
  {
   "cell_type": "code",
   "execution_count": 62,
   "metadata": {},
   "outputs": [
    {
     "data": {
      "text/html": [
       "<div>\n",
       "<style scoped>\n",
       "    .dataframe tbody tr th:only-of-type {\n",
       "        vertical-align: middle;\n",
       "    }\n",
       "\n",
       "    .dataframe tbody tr th {\n",
       "        vertical-align: top;\n",
       "    }\n",
       "\n",
       "    .dataframe thead th {\n",
       "        text-align: right;\n",
       "    }\n",
       "</style>\n",
       "<table border=\"1\" class=\"dataframe\">\n",
       "  <thead>\n",
       "    <tr style=\"text-align: right;\">\n",
       "      <th>Fact</th>\n",
       "      <th>Population estimates, July 1, 2016,  (V2016)</th>\n",
       "      <th>Population estimates base, April 1, 2010,  (V2016)</th>\n",
       "      <th>Population, percent change - April 1, 2010 (estimates base) to July 1, 2016,  (V2016)</th>\n",
       "      <th>Population, Census, April 1, 2010</th>\n",
       "      <th>Persons under 5 years, percent, July 1, 2016,  (V2016)</th>\n",
       "      <th>Persons under 5 years, percent, April 1, 2010</th>\n",
       "      <th>Persons under 18 years, percent, July 1, 2016,  (V2016)</th>\n",
       "      <th>Persons under 18 years, percent, April 1, 2010</th>\n",
       "      <th>Persons 65 years and over, percent,  July 1, 2016,  (V2016)</th>\n",
       "      <th>Persons 65 years and over, percent, April 1, 2010</th>\n",
       "      <th>...</th>\n",
       "      <th>NaN</th>\n",
       "      <th>Value Flags</th>\n",
       "      <th>-</th>\n",
       "      <th>D</th>\n",
       "      <th>F</th>\n",
       "      <th>FN</th>\n",
       "      <th>NaN</th>\n",
       "      <th>S</th>\n",
       "      <th>X</th>\n",
       "      <th>Z</th>\n",
       "    </tr>\n",
       "  </thead>\n",
       "  <tbody>\n",
       "    <tr>\n",
       "      <th>Alabama</th>\n",
       "      <td>4,863,300</td>\n",
       "      <td>4,780,131</td>\n",
       "      <td>1.70%</td>\n",
       "      <td>4,779,736</td>\n",
       "      <td>6.00%</td>\n",
       "      <td>6.40%</td>\n",
       "      <td>22.60%</td>\n",
       "      <td>23.70%</td>\n",
       "      <td>16.10%</td>\n",
       "      <td>13.80%</td>\n",
       "      <td>...</td>\n",
       "      <td>NaN</td>\n",
       "      <td>NaN</td>\n",
       "      <td>NaN</td>\n",
       "      <td>NaN</td>\n",
       "      <td>NaN</td>\n",
       "      <td>NaN</td>\n",
       "      <td>NaN</td>\n",
       "      <td>NaN</td>\n",
       "      <td>NaN</td>\n",
       "      <td>NaN</td>\n",
       "    </tr>\n",
       "    <tr>\n",
       "      <th>Alaska</th>\n",
       "      <td>741,894</td>\n",
       "      <td>710,249</td>\n",
       "      <td>4.50%</td>\n",
       "      <td>710,231</td>\n",
       "      <td>7.30%</td>\n",
       "      <td>7.60%</td>\n",
       "      <td>25.20%</td>\n",
       "      <td>26.40%</td>\n",
       "      <td>10.40%</td>\n",
       "      <td>7.70%</td>\n",
       "      <td>...</td>\n",
       "      <td>NaN</td>\n",
       "      <td>NaN</td>\n",
       "      <td>NaN</td>\n",
       "      <td>NaN</td>\n",
       "      <td>NaN</td>\n",
       "      <td>NaN</td>\n",
       "      <td>NaN</td>\n",
       "      <td>NaN</td>\n",
       "      <td>NaN</td>\n",
       "      <td>NaN</td>\n",
       "    </tr>\n",
       "    <tr>\n",
       "      <th>Arizona</th>\n",
       "      <td>6,931,071</td>\n",
       "      <td>6,392,301</td>\n",
       "      <td>8.40%</td>\n",
       "      <td>6,392,017</td>\n",
       "      <td>6.30%</td>\n",
       "      <td>7.10%</td>\n",
       "      <td>23.50%</td>\n",
       "      <td>25.50%</td>\n",
       "      <td>16.90%</td>\n",
       "      <td>13.80%</td>\n",
       "      <td>...</td>\n",
       "      <td>NaN</td>\n",
       "      <td>NaN</td>\n",
       "      <td>NaN</td>\n",
       "      <td>NaN</td>\n",
       "      <td>NaN</td>\n",
       "      <td>NaN</td>\n",
       "      <td>NaN</td>\n",
       "      <td>NaN</td>\n",
       "      <td>NaN</td>\n",
       "      <td>NaN</td>\n",
       "    </tr>\n",
       "    <tr>\n",
       "      <th>Arkansas</th>\n",
       "      <td>2,988,248</td>\n",
       "      <td>2,916,025</td>\n",
       "      <td>2.50%</td>\n",
       "      <td>2,915,918</td>\n",
       "      <td>6.40%</td>\n",
       "      <td>6.80%</td>\n",
       "      <td>23.60%</td>\n",
       "      <td>24.40%</td>\n",
       "      <td>16.30%</td>\n",
       "      <td>14.40%</td>\n",
       "      <td>...</td>\n",
       "      <td>NaN</td>\n",
       "      <td>NaN</td>\n",
       "      <td>NaN</td>\n",
       "      <td>NaN</td>\n",
       "      <td>NaN</td>\n",
       "      <td>NaN</td>\n",
       "      <td>NaN</td>\n",
       "      <td>NaN</td>\n",
       "      <td>NaN</td>\n",
       "      <td>NaN</td>\n",
       "    </tr>\n",
       "    <tr>\n",
       "      <th>California</th>\n",
       "      <td>39,250,017</td>\n",
       "      <td>37,254,522</td>\n",
       "      <td>5.40%</td>\n",
       "      <td>37,253,956</td>\n",
       "      <td>6.30%</td>\n",
       "      <td>6.80%</td>\n",
       "      <td>23.20%</td>\n",
       "      <td>25.00%</td>\n",
       "      <td>13.60%</td>\n",
       "      <td>11.40%</td>\n",
       "      <td>...</td>\n",
       "      <td>NaN</td>\n",
       "      <td>NaN</td>\n",
       "      <td>NaN</td>\n",
       "      <td>NaN</td>\n",
       "      <td>NaN</td>\n",
       "      <td>NaN</td>\n",
       "      <td>NaN</td>\n",
       "      <td>NaN</td>\n",
       "      <td>NaN</td>\n",
       "      <td>NaN</td>\n",
       "    </tr>\n",
       "  </tbody>\n",
       "</table>\n",
       "<p>5 rows × 85 columns</p>\n",
       "</div>"
      ],
      "text/plain": [
       "Fact       Population estimates, July 1, 2016,  (V2016)  \\\n",
       "Alabama                                       4,863,300   \n",
       "Alaska                                          741,894   \n",
       "Arizona                                       6,931,071   \n",
       "Arkansas                                      2,988,248   \n",
       "California                                   39,250,017   \n",
       "\n",
       "Fact       Population estimates base, April 1, 2010,  (V2016)  \\\n",
       "Alabama                                             4,780,131   \n",
       "Alaska                                                710,249   \n",
       "Arizona                                             6,392,301   \n",
       "Arkansas                                            2,916,025   \n",
       "California                                         37,254,522   \n",
       "\n",
       "Fact       Population, percent change - April 1, 2010 (estimates base) to July 1, 2016,  (V2016)  \\\n",
       "Alabama                                                 1.70%                                      \n",
       "Alaska                                                  4.50%                                      \n",
       "Arizona                                                 8.40%                                      \n",
       "Arkansas                                                2.50%                                      \n",
       "California                                              5.40%                                      \n",
       "\n",
       "Fact       Population, Census, April 1, 2010  \\\n",
       "Alabama                            4,779,736   \n",
       "Alaska                               710,231   \n",
       "Arizona                            6,392,017   \n",
       "Arkansas                           2,915,918   \n",
       "California                        37,253,956   \n",
       "\n",
       "Fact       Persons under 5 years, percent, July 1, 2016,  (V2016)  \\\n",
       "Alabama                                                 6.00%       \n",
       "Alaska                                                  7.30%       \n",
       "Arizona                                                 6.30%       \n",
       "Arkansas                                                6.40%       \n",
       "California                                              6.30%       \n",
       "\n",
       "Fact       Persons under 5 years, percent, April 1, 2010  \\\n",
       "Alabama                                            6.40%   \n",
       "Alaska                                             7.60%   \n",
       "Arizona                                            7.10%   \n",
       "Arkansas                                           6.80%   \n",
       "California                                         6.80%   \n",
       "\n",
       "Fact       Persons under 18 years, percent, July 1, 2016,  (V2016)  \\\n",
       "Alabama                                                22.60%        \n",
       "Alaska                                                 25.20%        \n",
       "Arizona                                                23.50%        \n",
       "Arkansas                                               23.60%        \n",
       "California                                             23.20%        \n",
       "\n",
       "Fact       Persons under 18 years, percent, April 1, 2010  \\\n",
       "Alabama                                            23.70%   \n",
       "Alaska                                             26.40%   \n",
       "Arizona                                            25.50%   \n",
       "Arkansas                                           24.40%   \n",
       "California                                         25.00%   \n",
       "\n",
       "Fact       Persons 65 years and over, percent,  July 1, 2016,  (V2016)  \\\n",
       "Alabama                                                16.10%            \n",
       "Alaska                                                 10.40%            \n",
       "Arizona                                                16.90%            \n",
       "Arkansas                                               16.30%            \n",
       "California                                             13.60%            \n",
       "\n",
       "Fact       Persons 65 years and over, percent, April 1, 2010  ...  NaN  \\\n",
       "Alabama                                               13.80%  ...  NaN   \n",
       "Alaska                                                 7.70%  ...  NaN   \n",
       "Arizona                                               13.80%  ...  NaN   \n",
       "Arkansas                                              14.40%  ...  NaN   \n",
       "California                                            11.40%  ...  NaN   \n",
       "\n",
       "Fact       Value Flags    -    D    F   FN  NaN    S    X    Z  \n",
       "Alabama            NaN  NaN  NaN  NaN  NaN  NaN  NaN  NaN  NaN  \n",
       "Alaska             NaN  NaN  NaN  NaN  NaN  NaN  NaN  NaN  NaN  \n",
       "Arizona            NaN  NaN  NaN  NaN  NaN  NaN  NaN  NaN  NaN  \n",
       "Arkansas           NaN  NaN  NaN  NaN  NaN  NaN  NaN  NaN  NaN  \n",
       "California         NaN  NaN  NaN  NaN  NaN  NaN  NaN  NaN  NaN  \n",
       "\n",
       "[5 rows x 85 columns]"
      ]
     },
     "execution_count": 62,
     "metadata": {},
     "output_type": "execute_result"
    }
   ],
   "source": [
    "df2.drop(index = 'Fact Note',inplace = True)\n",
    "df2.head()"
   ]
  },
  {
   "cell_type": "markdown",
   "metadata": {},
   "source": [
    ">**I'll drop the fields that won't be used in the analysis. As I can see from looking at the unique valus of columns I won't need the columns starting from 'FIPS Code' so I will get the position of this column and delete all columns starting from that one.**"
   ]
  },
  {
   "cell_type": "code",
   "execution_count": 63,
   "metadata": {
    "scrolled": true
   },
   "outputs": [
    {
     "data": {
      "text/plain": [
       "64"
      ]
     },
     "execution_count": 63,
     "metadata": {},
     "output_type": "execute_result"
    }
   ],
   "source": [
    "df2.columns.get_loc('FIPS Code')"
   ]
  },
  {
   "cell_type": "code",
   "execution_count": 64,
   "metadata": {},
   "outputs": [
    {
     "name": "stdout",
     "output_type": "stream",
     "text": [
      "<class 'pandas.core.frame.DataFrame'>\n",
      "Index: 50 entries, Alabama to Wyoming\n",
      "Data columns (total 64 columns):\n",
      " #   Column                                                                                  Non-Null Count  Dtype \n",
      "---  ------                                                                                  --------------  ----- \n",
      " 0   Population estimates, July 1, 2016,  (V2016)                                            50 non-null     object\n",
      " 1   Population estimates base, April 1, 2010,  (V2016)                                      50 non-null     object\n",
      " 2   Population, percent change - April 1, 2010 (estimates base) to July 1, 2016,  (V2016)   50 non-null     object\n",
      " 3   Population, Census, April 1, 2010                                                       50 non-null     object\n",
      " 4   Persons under 5 years, percent, July 1, 2016,  (V2016)                                  50 non-null     object\n",
      " 5   Persons under 5 years, percent, April 1, 2010                                           50 non-null     object\n",
      " 6   Persons under 18 years, percent, July 1, 2016,  (V2016)                                 50 non-null     object\n",
      " 7   Persons under 18 years, percent, April 1, 2010                                          50 non-null     object\n",
      " 8   Persons 65 years and over, percent,  July 1, 2016,  (V2016)                             50 non-null     object\n",
      " 9   Persons 65 years and over, percent, April 1, 2010                                       50 non-null     object\n",
      " 10  Female persons, percent,  July 1, 2016,  (V2016)                                        50 non-null     object\n",
      " 11  Female persons, percent, April 1, 2010                                                  50 non-null     object\n",
      " 12  White alone, percent, July 1, 2016,  (V2016)                                            50 non-null     object\n",
      " 13  Black or African American alone, percent, July 1, 2016,  (V2016)                        50 non-null     object\n",
      " 14  American Indian and Alaska Native alone, percent, July 1, 2016,  (V2016)                50 non-null     object\n",
      " 15  Asian alone, percent, July 1, 2016,  (V2016)                                            50 non-null     object\n",
      " 16  Native Hawaiian and Other Pacific Islander alone, percent, July 1, 2016,  (V2016)       50 non-null     object\n",
      " 17  Two or More Races, percent, July 1, 2016,  (V2016)                                      50 non-null     object\n",
      " 18  Hispanic or Latino, percent, July 1, 2016,  (V2016)                                     50 non-null     object\n",
      " 19  White alone, not Hispanic or Latino, percent, July 1, 2016,  (V2016)                    50 non-null     object\n",
      " 20  Veterans, 2011-2015                                                                     50 non-null     object\n",
      " 21  Foreign born persons, percent, 2011-2015                                                50 non-null     object\n",
      " 22  Housing units,  July 1, 2016,  (V2016)                                                  50 non-null     object\n",
      " 23  Housing units, April 1, 2010                                                            50 non-null     object\n",
      " 24  Owner-occupied housing unit rate, 2011-2015                                             50 non-null     object\n",
      " 25  Median value of owner-occupied housing units, 2011-2015                                 50 non-null     object\n",
      " 26  Median selected monthly owner costs -with a mortgage, 2011-2015                         50 non-null     object\n",
      " 27  Median selected monthly owner costs -without a mortgage, 2011-2015                      50 non-null     object\n",
      " 28  Median gross rent, 2011-2015                                                            50 non-null     object\n",
      " 29  Building permits, 2016                                                                  50 non-null     object\n",
      " 30  Households, 2011-2015                                                                   50 non-null     object\n",
      " 31  Persons per household, 2011-2015                                                        50 non-null     object\n",
      " 32  Living in same house 1 year ago, percent of persons age 1 year+, 2011-2015              50 non-null     object\n",
      " 33  Language other than English spoken at home, percent of persons age 5 years+, 2011-2015  50 non-null     object\n",
      " 34  High school graduate or higher, percent of persons age 25 years+, 2011-2015             50 non-null     object\n",
      " 35  Bachelor's degree or higher, percent of persons age 25 years+, 2011-2015                50 non-null     object\n",
      " 36  With a disability, under age 65 years, percent, 2011-2015                               50 non-null     object\n",
      " 37  Persons  without health insurance, under age 65 years, percent                          50 non-null     object\n",
      " 38  In civilian labor force, total, percent of population age 16 years+, 2011-2015          50 non-null     object\n",
      " 39  In civilian labor force, female, percent of population age 16 years+, 2011-2015         50 non-null     object\n",
      " 40  Total accommodation and food services sales, 2012 ($1,000)                              50 non-null     object\n",
      " 41  Total health care and social assistance receipts/revenue, 2012 ($1,000)                 50 non-null     object\n",
      " 42  Total manufacturers shipments, 2012 ($1,000)                                            50 non-null     object\n",
      " 43  Total merchant wholesaler sales, 2012 ($1,000)                                          50 non-null     object\n",
      " 44  Total retail sales, 2012 ($1,000)                                                       50 non-null     object\n",
      " 45  Total retail sales per capita, 2012                                                     50 non-null     object\n",
      " 46  Mean travel time to work (minutes), workers age 16 years+, 2011-2015                    50 non-null     object\n",
      " 47  Median household income (in 2015 dollars), 2011-2015                                    50 non-null     object\n",
      " 48  Per capita income in past 12 months (in 2015 dollars), 2011-2015                        50 non-null     object\n",
      " 49  Persons in poverty, percent                                                             50 non-null     object\n",
      " 50  Total employer establishments, 2015                                                     50 non-null     object\n",
      " 51  Total employment, 2015                                                                  50 non-null     object\n",
      " 52  Total annual payroll, 2015 ($1,000)                                                     50 non-null     object\n",
      " 53  Total employment, percent change, 2014-2015                                             50 non-null     object\n",
      " 54  Total nonemployer establishments, 2015                                                  50 non-null     object\n",
      " 55  All firms, 2012                                                                         50 non-null     object\n",
      " 56  Men-owned firms, 2012                                                                   50 non-null     object\n",
      " 57  Women-owned firms, 2012                                                                 50 non-null     object\n",
      " 58  Minority-owned firms, 2012                                                              50 non-null     object\n",
      " 59  Nonminority-owned firms, 2012                                                           50 non-null     object\n",
      " 60  Veteran-owned firms, 2012                                                               50 non-null     object\n",
      " 61  Nonveteran-owned firms, 2012                                                            50 non-null     object\n",
      " 62  Population per square mile, 2010                                                        50 non-null     object\n",
      " 63  Land area in square miles, 2010                                                         50 non-null     object\n",
      "dtypes: object(64)\n",
      "memory usage: 25.4+ KB\n"
     ]
    }
   ],
   "source": [
    "df2.drop(df2.columns[64:],axis = 1,inplace = True)\n",
    "df2.info()"
   ]
  },
  {
   "cell_type": "markdown",
   "metadata": {},
   "source": [
    ">**The columns I will need for my analysis are 'Per capita income in past 12 months (in 2015 dollars), 2011-2015' and 'Population estimates, July 1, 2016,  (V2016)' since I will need the population to calculate the average number of application and income to measure this average number against income.**\n",
    "\n",
    ">**I will drop the rest of the columns.**"
   ]
  },
  {
   "cell_type": "code",
   "execution_count": 65,
   "metadata": {
    "scrolled": true
   },
   "outputs": [],
   "source": [
    "df2 = df2.filter(['Population estimates, July 1, 2016,  (V2016)','Per capita income in past 12 months (in 2015 dollars), 2011-2015'])"
   ]
  },
  {
   "cell_type": "code",
   "execution_count": 66,
   "metadata": {
    "scrolled": false
   },
   "outputs": [
    {
     "data": {
      "text/html": [
       "<div>\n",
       "<style scoped>\n",
       "    .dataframe tbody tr th:only-of-type {\n",
       "        vertical-align: middle;\n",
       "    }\n",
       "\n",
       "    .dataframe tbody tr th {\n",
       "        vertical-align: top;\n",
       "    }\n",
       "\n",
       "    .dataframe thead th {\n",
       "        text-align: right;\n",
       "    }\n",
       "</style>\n",
       "<table border=\"1\" class=\"dataframe\">\n",
       "  <thead>\n",
       "    <tr style=\"text-align: right;\">\n",
       "      <th>Fact</th>\n",
       "      <th>Population estimates, July 1, 2016,  (V2016)</th>\n",
       "      <th>Per capita income in past 12 months (in 2015 dollars), 2011-2015</th>\n",
       "    </tr>\n",
       "  </thead>\n",
       "  <tbody>\n",
       "    <tr>\n",
       "      <th>Alabama</th>\n",
       "      <td>4,863,300</td>\n",
       "      <td>$24,091</td>\n",
       "    </tr>\n",
       "    <tr>\n",
       "      <th>Alaska</th>\n",
       "      <td>741,894</td>\n",
       "      <td>$33,413</td>\n",
       "    </tr>\n",
       "    <tr>\n",
       "      <th>Arizona</th>\n",
       "      <td>6,931,071</td>\n",
       "      <td>$25,848</td>\n",
       "    </tr>\n",
       "    <tr>\n",
       "      <th>Arkansas</th>\n",
       "      <td>2,988,248</td>\n",
       "      <td>$22,798</td>\n",
       "    </tr>\n",
       "    <tr>\n",
       "      <th>California</th>\n",
       "      <td>39,250,017</td>\n",
       "      <td>$30,318</td>\n",
       "    </tr>\n",
       "  </tbody>\n",
       "</table>\n",
       "</div>"
      ],
      "text/plain": [
       "Fact       Population estimates, July 1, 2016,  (V2016)  \\\n",
       "Alabama                                       4,863,300   \n",
       "Alaska                                          741,894   \n",
       "Arizona                                       6,931,071   \n",
       "Arkansas                                      2,988,248   \n",
       "California                                   39,250,017   \n",
       "\n",
       "Fact       Per capita income in past 12 months (in 2015 dollars), 2011-2015  \n",
       "Alabama                                              $24,091                 \n",
       "Alaska                                               $33,413                 \n",
       "Arizona                                              $25,848                 \n",
       "Arkansas                                             $22,798                 \n",
       "California                                           $30,318                 "
      ]
     },
     "execution_count": 66,
     "metadata": {},
     "output_type": "execute_result"
    }
   ],
   "source": [
    "df2.head()"
   ]
  },
  {
   "cell_type": "markdown",
   "metadata": {},
   "source": [
    ">**I will reset the index and change the type of the fields since I will need to use states in the analysis.**"
   ]
  },
  {
   "cell_type": "code",
   "execution_count": 67,
   "metadata": {},
   "outputs": [],
   "source": [
    "df2.reset_index(inplace = True)"
   ]
  },
  {
   "cell_type": "code",
   "execution_count": 68,
   "metadata": {},
   "outputs": [],
   "source": [
    "df2.rename(columns = {'index':'state','Population estimates, July 1, 2016,  (V2016)':'population', 'Per capita income in past 12 months (in 2015 dollars), 2011-2015':'income'},inplace = True)"
   ]
  },
  {
   "cell_type": "markdown",
   "metadata": {},
   "source": [
    ">**I'll change data types since those numbers are represented as objects. But this time the column values need to be stripped of string characters like ',' or '$'.**"
   ]
  },
  {
   "cell_type": "code",
   "execution_count": 69,
   "metadata": {
    "scrolled": true
   },
   "outputs": [],
   "source": [
    "df2['income'] = df2['income'].apply(lambda x: x.strip('$'))"
   ]
  },
  {
   "cell_type": "code",
   "execution_count": 70,
   "metadata": {},
   "outputs": [],
   "source": [
    "def remove_d2(col,sym):\n",
    "#this function takes a column name and a character as the arguments and replaces the specified character with\n",
    "#an empty space in the census data.\n",
    "    df2[col] = df2[col].replace(sym,'', regex=True)"
   ]
  },
  {
   "cell_type": "code",
   "execution_count": 71,
   "metadata": {},
   "outputs": [],
   "source": [
    "remove_d2('income',',')\n",
    "remove_d2('population',',')"
   ]
  },
  {
   "cell_type": "code",
   "execution_count": 72,
   "metadata": {
    "scrolled": false
   },
   "outputs": [
    {
     "data": {
      "text/html": [
       "<div>\n",
       "<style scoped>\n",
       "    .dataframe tbody tr th:only-of-type {\n",
       "        vertical-align: middle;\n",
       "    }\n",
       "\n",
       "    .dataframe tbody tr th {\n",
       "        vertical-align: top;\n",
       "    }\n",
       "\n",
       "    .dataframe thead th {\n",
       "        text-align: right;\n",
       "    }\n",
       "</style>\n",
       "<table border=\"1\" class=\"dataframe\">\n",
       "  <thead>\n",
       "    <tr style=\"text-align: right;\">\n",
       "      <th>Fact</th>\n",
       "      <th>state</th>\n",
       "      <th>population</th>\n",
       "      <th>income</th>\n",
       "    </tr>\n",
       "  </thead>\n",
       "  <tbody>\n",
       "    <tr>\n",
       "      <th>0</th>\n",
       "      <td>Alabama</td>\n",
       "      <td>4863300</td>\n",
       "      <td>24091</td>\n",
       "    </tr>\n",
       "    <tr>\n",
       "      <th>1</th>\n",
       "      <td>Alaska</td>\n",
       "      <td>741894</td>\n",
       "      <td>33413</td>\n",
       "    </tr>\n",
       "    <tr>\n",
       "      <th>2</th>\n",
       "      <td>Arizona</td>\n",
       "      <td>6931071</td>\n",
       "      <td>25848</td>\n",
       "    </tr>\n",
       "    <tr>\n",
       "      <th>3</th>\n",
       "      <td>Arkansas</td>\n",
       "      <td>2988248</td>\n",
       "      <td>22798</td>\n",
       "    </tr>\n",
       "    <tr>\n",
       "      <th>4</th>\n",
       "      <td>California</td>\n",
       "      <td>39250017</td>\n",
       "      <td>30318</td>\n",
       "    </tr>\n",
       "  </tbody>\n",
       "</table>\n",
       "</div>"
      ],
      "text/plain": [
       "Fact       state population  income\n",
       "0        Alabama    4863300  24091 \n",
       "1         Alaska     741894  33413 \n",
       "2        Arizona    6931071  25848 \n",
       "3       Arkansas    2988248  22798 \n",
       "4     California   39250017  30318 "
      ]
     },
     "execution_count": 72,
     "metadata": {},
     "output_type": "execute_result"
    }
   ],
   "source": [
    "df2.head()"
   ]
  },
  {
   "cell_type": "code",
   "execution_count": 73,
   "metadata": {
    "scrolled": true
   },
   "outputs": [],
   "source": [
    "change_dtype(['income','population'],df2,int)"
   ]
  },
  {
   "cell_type": "code",
   "execution_count": 74,
   "metadata": {
    "scrolled": false
   },
   "outputs": [
    {
     "data": {
      "text/plain": [
       "Fact\n",
       "state         object\n",
       "population     int64\n",
       "income         int64\n",
       "dtype: object"
      ]
     },
     "execution_count": 74,
     "metadata": {},
     "output_type": "execute_result"
    }
   ],
   "source": [
    "df2.dtypes"
   ]
  },
  {
   "cell_type": "markdown",
   "metadata": {},
   "source": [
    ">**I'll add the columns describing gun laws in each state:**\n",
    ">>**if a permit required to buy a handgun or a long gun in a particular state;**\n",
    "\n",
    ">>**if a particular state adopted 'Stand Your Ground' (which means that a person may defend one's self by applying lethal force regardless of if retreating is possible) or 'Duty to Retreat' doctrine (which means that a person can't harm another in self-defense (especially lethal force) when it's possible to retreat) marked as 'Stand' or 'Retreat' respectively.**\n",
    "\n",
    ">**The lists of states where I with that information can be found <a href=\"https://en.wikipedia.org/wiki/Gun_laws_in_the_United_States_by_state\">here</a> and <a href=\"https://en.wikipedia.org/wiki/Stand-your-ground_law\">here</a>.**"
   ]
  },
  {
   "cell_type": "code",
   "execution_count": 75,
   "metadata": {
    "scrolled": true
   },
   "outputs": [],
   "source": [
    "df2['Handgun_Permit_Required'] = ['Yes' if x in (['California','Connecticut','Hawaii','Illinois','Iowa',\n",
    "                                                    'Maryland','Massachusetts','Minnesota','Nebraska','New Jersey','New York',\n",
    "                                                    'North Carolina','Rhode Island','Wisconsin']) else 'No' for x in df2['state']]"
   ]
  },
  {
   "cell_type": "code",
   "execution_count": 76,
   "metadata": {
    "scrolled": false
   },
   "outputs": [],
   "source": [
    "df2['Long_Gun_Permit_Required'] = ['Yes' if x in (['California','Connecticut','Hawaii','Illinois','Iowa',\n",
    "                                                  'Massachusetts','New Jersey','Washington']) else 'No' for x in df2['state']]"
   ]
  },
  {
   "cell_type": "code",
   "execution_count": 77,
   "metadata": {},
   "outputs": [],
   "source": [
    "df2['Stand_or_Retreat'] = ['Retreat' if x in (['Arkansas','Connecticut','Delaware','Hawaii','Maine','Maryland',\n",
    "                                         'Massachusetts','Minnesota','Nebraska','New Jersey','New York',\n",
    "                                         'North Dakota','Ohio','Rhode Island','Wisconsin']) else 'Stand' for x in df2['state']]"
   ]
  },
  {
   "cell_type": "markdown",
   "metadata": {},
   "source": [
    ">**Checking the tables before proceeding to the analysis.**"
   ]
  },
  {
   "cell_type": "code",
   "execution_count": 78,
   "metadata": {},
   "outputs": [
    {
     "data": {
      "text/html": [
       "<div>\n",
       "<style scoped>\n",
       "    .dataframe tbody tr th:only-of-type {\n",
       "        vertical-align: middle;\n",
       "    }\n",
       "\n",
       "    .dataframe tbody tr th {\n",
       "        vertical-align: top;\n",
       "    }\n",
       "\n",
       "    .dataframe thead th {\n",
       "        text-align: right;\n",
       "    }\n",
       "</style>\n",
       "<table border=\"1\" class=\"dataframe\">\n",
       "  <thead>\n",
       "    <tr style=\"text-align: right;\">\n",
       "      <th>Fact</th>\n",
       "      <th>state</th>\n",
       "      <th>population</th>\n",
       "      <th>income</th>\n",
       "      <th>Handgun_Permit_Required</th>\n",
       "      <th>Long_Gun_Permit_Required</th>\n",
       "      <th>Stand_or_Retreat</th>\n",
       "    </tr>\n",
       "  </thead>\n",
       "  <tbody>\n",
       "    <tr>\n",
       "      <th>0</th>\n",
       "      <td>Alabama</td>\n",
       "      <td>4863300</td>\n",
       "      <td>24091</td>\n",
       "      <td>No</td>\n",
       "      <td>No</td>\n",
       "      <td>Stand</td>\n",
       "    </tr>\n",
       "    <tr>\n",
       "      <th>1</th>\n",
       "      <td>Alaska</td>\n",
       "      <td>741894</td>\n",
       "      <td>33413</td>\n",
       "      <td>No</td>\n",
       "      <td>No</td>\n",
       "      <td>Stand</td>\n",
       "    </tr>\n",
       "    <tr>\n",
       "      <th>2</th>\n",
       "      <td>Arizona</td>\n",
       "      <td>6931071</td>\n",
       "      <td>25848</td>\n",
       "      <td>No</td>\n",
       "      <td>No</td>\n",
       "      <td>Stand</td>\n",
       "    </tr>\n",
       "    <tr>\n",
       "      <th>3</th>\n",
       "      <td>Arkansas</td>\n",
       "      <td>2988248</td>\n",
       "      <td>22798</td>\n",
       "      <td>No</td>\n",
       "      <td>No</td>\n",
       "      <td>Retreat</td>\n",
       "    </tr>\n",
       "    <tr>\n",
       "      <th>4</th>\n",
       "      <td>California</td>\n",
       "      <td>39250017</td>\n",
       "      <td>30318</td>\n",
       "      <td>Yes</td>\n",
       "      <td>Yes</td>\n",
       "      <td>Stand</td>\n",
       "    </tr>\n",
       "  </tbody>\n",
       "</table>\n",
       "</div>"
      ],
      "text/plain": [
       "Fact       state  population  income Handgun_Permit_Required  \\\n",
       "0        Alabama     4863300   24091                      No   \n",
       "1         Alaska      741894   33413                      No   \n",
       "2        Arizona     6931071   25848                      No   \n",
       "3       Arkansas     2988248   22798                      No   \n",
       "4     California    39250017   30318                     Yes   \n",
       "\n",
       "Fact Long_Gun_Permit_Required Stand_or_Retreat  \n",
       "0                          No            Stand  \n",
       "1                          No            Stand  \n",
       "2                          No            Stand  \n",
       "3                          No          Retreat  \n",
       "4                         Yes            Stand  "
      ]
     },
     "execution_count": 78,
     "metadata": {},
     "output_type": "execute_result"
    }
   ],
   "source": [
    "df2.head(5)"
   ]
  },
  {
   "cell_type": "code",
   "execution_count": 79,
   "metadata": {
    "scrolled": false
   },
   "outputs": [
    {
     "data": {
      "text/html": [
       "<div>\n",
       "<style scoped>\n",
       "    .dataframe tbody tr th:only-of-type {\n",
       "        vertical-align: middle;\n",
       "    }\n",
       "\n",
       "    .dataframe tbody tr th {\n",
       "        vertical-align: top;\n",
       "    }\n",
       "\n",
       "    .dataframe thead th {\n",
       "        text-align: right;\n",
       "    }\n",
       "</style>\n",
       "<table border=\"1\" class=\"dataframe\">\n",
       "  <thead>\n",
       "    <tr style=\"text-align: right;\">\n",
       "      <th></th>\n",
       "      <th>month</th>\n",
       "      <th>state</th>\n",
       "      <th>handgun</th>\n",
       "      <th>long_gun</th>\n",
       "      <th>other</th>\n",
       "      <th>multiple</th>\n",
       "      <th>totals</th>\n",
       "    </tr>\n",
       "  </thead>\n",
       "  <tbody>\n",
       "    <tr>\n",
       "      <th>0</th>\n",
       "      <td>2017-09-01</td>\n",
       "      <td>Alabama</td>\n",
       "      <td>5743</td>\n",
       "      <td>6336</td>\n",
       "      <td>224</td>\n",
       "      <td>317</td>\n",
       "      <td>12620</td>\n",
       "    </tr>\n",
       "    <tr>\n",
       "      <th>1</th>\n",
       "      <td>2017-09-01</td>\n",
       "      <td>Alaska</td>\n",
       "      <td>2337</td>\n",
       "      <td>2954</td>\n",
       "      <td>220</td>\n",
       "      <td>160</td>\n",
       "      <td>5671</td>\n",
       "    </tr>\n",
       "    <tr>\n",
       "      <th>2</th>\n",
       "      <td>2017-09-01</td>\n",
       "      <td>Arizona</td>\n",
       "      <td>11101</td>\n",
       "      <td>7958</td>\n",
       "      <td>922</td>\n",
       "      <td>631</td>\n",
       "      <td>20612</td>\n",
       "    </tr>\n",
       "    <tr>\n",
       "      <th>3</th>\n",
       "      <td>2017-09-01</td>\n",
       "      <td>Arkansas</td>\n",
       "      <td>4360</td>\n",
       "      <td>6086</td>\n",
       "      <td>165</td>\n",
       "      <td>366</td>\n",
       "      <td>10977</td>\n",
       "    </tr>\n",
       "    <tr>\n",
       "      <th>4</th>\n",
       "      <td>2017-09-01</td>\n",
       "      <td>California</td>\n",
       "      <td>37165</td>\n",
       "      <td>24581</td>\n",
       "      <td>2984</td>\n",
       "      <td>0</td>\n",
       "      <td>64730</td>\n",
       "    </tr>\n",
       "  </tbody>\n",
       "</table>\n",
       "</div>"
      ],
      "text/plain": [
       "       month       state  handgun  long_gun  other  multiple  totals\n",
       "0 2017-09-01     Alabama     5743      6336    224       317   12620\n",
       "1 2017-09-01      Alaska     2337      2954    220       160    5671\n",
       "2 2017-09-01     Arizona    11101      7958    922       631   20612\n",
       "3 2017-09-01    Arkansas     4360      6086    165       366   10977\n",
       "4 2017-09-01  California    37165     24581   2984         0   64730"
      ]
     },
     "execution_count": 79,
     "metadata": {},
     "output_type": "execute_result"
    }
   ],
   "source": [
    "df.head(5)"
   ]
  },
  {
   "cell_type": "markdown",
   "metadata": {},
   "source": [
    "<a id='eda'></a>\n",
    "## Exploratory Data Analysis"
   ]
  },
  {
   "cell_type": "markdown",
   "metadata": {},
   "source": [
    ">**Before proceeding to asking questions let's have a quick look on the data and it's distribution**"
   ]
  },
  {
   "cell_type": "code",
   "execution_count": 80,
   "metadata": {},
   "outputs": [],
   "source": [
    "pd.options.display.float_format = '{:.2f}'.format #I changed the format to suppress scientific notation."
   ]
  },
  {
   "cell_type": "code",
   "execution_count": 81,
   "metadata": {
    "scrolled": true
   },
   "outputs": [
    {
     "data": {
      "text/html": [
       "<div>\n",
       "<style scoped>\n",
       "    .dataframe tbody tr th:only-of-type {\n",
       "        vertical-align: middle;\n",
       "    }\n",
       "\n",
       "    .dataframe tbody tr th {\n",
       "        vertical-align: top;\n",
       "    }\n",
       "\n",
       "    .dataframe thead th {\n",
       "        text-align: right;\n",
       "    }\n",
       "</style>\n",
       "<table border=\"1\" class=\"dataframe\">\n",
       "  <thead>\n",
       "    <tr style=\"text-align: right;\">\n",
       "      <th></th>\n",
       "      <th>handgun</th>\n",
       "      <th>long_gun</th>\n",
       "      <th>other</th>\n",
       "      <th>multiple</th>\n",
       "      <th>totals</th>\n",
       "    </tr>\n",
       "  </thead>\n",
       "  <tbody>\n",
       "    <tr>\n",
       "      <th>count</th>\n",
       "      <td>12485.00</td>\n",
       "      <td>12485.00</td>\n",
       "      <td>12485.00</td>\n",
       "      <td>12485.00</td>\n",
       "      <td>12485.00</td>\n",
       "    </tr>\n",
       "    <tr>\n",
       "      <th>mean</th>\n",
       "      <td>5934.65</td>\n",
       "      <td>7801.52</td>\n",
       "      <td>159.02</td>\n",
       "      <td>268.60</td>\n",
       "      <td>14163.80</td>\n",
       "    </tr>\n",
       "    <tr>\n",
       "      <th>std</th>\n",
       "      <td>8618.55</td>\n",
       "      <td>9309.12</td>\n",
       "      <td>913.60</td>\n",
       "      <td>783.19</td>\n",
       "      <td>16615.56</td>\n",
       "    </tr>\n",
       "    <tr>\n",
       "      <th>min</th>\n",
       "      <td>0.00</td>\n",
       "      <td>0.00</td>\n",
       "      <td>0.00</td>\n",
       "      <td>0.00</td>\n",
       "      <td>0.00</td>\n",
       "    </tr>\n",
       "    <tr>\n",
       "      <th>25%</th>\n",
       "      <td>857.00</td>\n",
       "      <td>2063.00</td>\n",
       "      <td>0.00</td>\n",
       "      <td>15.00</td>\n",
       "      <td>3438.00</td>\n",
       "    </tr>\n",
       "    <tr>\n",
       "      <th>50%</th>\n",
       "      <td>3046.00</td>\n",
       "      <td>5115.00</td>\n",
       "      <td>0.00</td>\n",
       "      <td>125.00</td>\n",
       "      <td>9091.00</td>\n",
       "    </tr>\n",
       "    <tr>\n",
       "      <th>75%</th>\n",
       "      <td>7278.00</td>\n",
       "      <td>10380.00</td>\n",
       "      <td>89.00</td>\n",
       "      <td>301.00</td>\n",
       "      <td>18707.00</td>\n",
       "    </tr>\n",
       "    <tr>\n",
       "      <th>max</th>\n",
       "      <td>107284.00</td>\n",
       "      <td>108058.00</td>\n",
       "      <td>77929.00</td>\n",
       "      <td>38907.00</td>\n",
       "      <td>234802.00</td>\n",
       "    </tr>\n",
       "  </tbody>\n",
       "</table>\n",
       "</div>"
      ],
      "text/plain": [
       "        handgun  long_gun    other  multiple    totals\n",
       "count  12485.00  12485.00 12485.00  12485.00  12485.00\n",
       "mean    5934.65   7801.52   159.02    268.60  14163.80\n",
       "std     8618.55   9309.12   913.60    783.19  16615.56\n",
       "min        0.00      0.00     0.00      0.00      0.00\n",
       "25%      857.00   2063.00     0.00     15.00   3438.00\n",
       "50%     3046.00   5115.00     0.00    125.00   9091.00\n",
       "75%     7278.00  10380.00    89.00    301.00  18707.00\n",
       "max   107284.00 108058.00 77929.00  38907.00 234802.00"
      ]
     },
     "execution_count": 81,
     "metadata": {},
     "output_type": "execute_result"
    }
   ],
   "source": [
    "df.describe()"
   ]
  },
  {
   "cell_type": "code",
   "execution_count": 82,
   "metadata": {
    "scrolled": true
   },
   "outputs": [
    {
     "data": {
      "text/html": [
       "<div>\n",
       "<style scoped>\n",
       "    .dataframe tbody tr th:only-of-type {\n",
       "        vertical-align: middle;\n",
       "    }\n",
       "\n",
       "    .dataframe tbody tr th {\n",
       "        vertical-align: top;\n",
       "    }\n",
       "\n",
       "    .dataframe thead th {\n",
       "        text-align: right;\n",
       "    }\n",
       "</style>\n",
       "<table border=\"1\" class=\"dataframe\">\n",
       "  <thead>\n",
       "    <tr style=\"text-align: right;\">\n",
       "      <th>Fact</th>\n",
       "      <th>population</th>\n",
       "      <th>income</th>\n",
       "    </tr>\n",
       "  </thead>\n",
       "  <tbody>\n",
       "    <tr>\n",
       "      <th>count</th>\n",
       "      <td>50.00</td>\n",
       "      <td>50.00</td>\n",
       "    </tr>\n",
       "    <tr>\n",
       "      <th>mean</th>\n",
       "      <td>6448926.86</td>\n",
       "      <td>28491.78</td>\n",
       "    </tr>\n",
       "    <tr>\n",
       "      <th>std</th>\n",
       "      <td>7271769.11</td>\n",
       "      <td>4103.28</td>\n",
       "    </tr>\n",
       "    <tr>\n",
       "      <th>min</th>\n",
       "      <td>585501.00</td>\n",
       "      <td>21057.00</td>\n",
       "    </tr>\n",
       "    <tr>\n",
       "      <th>25%</th>\n",
       "      <td>1850105.50</td>\n",
       "      <td>25443.75</td>\n",
       "    </tr>\n",
       "    <tr>\n",
       "      <th>50%</th>\n",
       "      <td>4559320.00</td>\n",
       "      <td>27669.50</td>\n",
       "    </tr>\n",
       "    <tr>\n",
       "      <th>75%</th>\n",
       "      <td>7198767.75</td>\n",
       "      <td>30977.00</td>\n",
       "    </tr>\n",
       "    <tr>\n",
       "      <th>max</th>\n",
       "      <td>39250017.00</td>\n",
       "      <td>38803.00</td>\n",
       "    </tr>\n",
       "  </tbody>\n",
       "</table>\n",
       "</div>"
      ],
      "text/plain": [
       "Fact   population   income\n",
       "count       50.00    50.00\n",
       "mean   6448926.86 28491.78\n",
       "std    7271769.11  4103.28\n",
       "min     585501.00 21057.00\n",
       "25%    1850105.50 25443.75\n",
       "50%    4559320.00 27669.50\n",
       "75%    7198767.75 30977.00\n",
       "max   39250017.00 38803.00"
      ]
     },
     "execution_count": 82,
     "metadata": {},
     "output_type": "execute_result"
    }
   ],
   "source": [
    "df2.describe()"
   ]
  },
  {
   "cell_type": "code",
   "execution_count": 83,
   "metadata": {
    "scrolled": false
   },
   "outputs": [
    {
     "data": {
      "image/png": "[encoded data removed]",
      "text/plain": [
       "<Figure size 432x288 with 1 Axes>"
      ]
     },
     "metadata": {
      "needs_background": "light"
     },
     "output_type": "display_data"
    }
   ],
   "source": [
    "df.totals.hist();"
   ]
  },
  {
   "cell_type": "code",
   "execution_count": 84,
   "metadata": {
    "scrolled": true
   },
   "outputs": [
    {
     "data": {
      "image/png": "[encoded data removed]",
      "text/plain": [
       "<Figure size 432x288 with 1 Axes>"
      ]
     },
     "metadata": {
      "needs_background": "light"
     },
     "output_type": "display_data"
    }
   ],
   "source": [
    "df2.population.hist();"
   ]
  },
  {
   "cell_type": "code",
   "execution_count": 85,
   "metadata": {
    "scrolled": true
   },
   "outputs": [
    {
     "data": {
      "image/png": "[encoded data removed]",
      "text/plain": [
       "<Figure size 432x288 with 1 Axes>"
      ]
     },
     "metadata": {
      "needs_background": "light"
     },
     "output_type": "display_data"
    }
   ],
   "source": [
    "df2.income.hist();"
   ]
  },
  {
   "cell_type": "markdown",
   "metadata": {},
   "source": [
    ">**As I can see from the charts the data for totals and population is right-skewed and the for of the data for income is more symmetrical.**"
   ]
  },
  {
   "cell_type": "markdown",
   "metadata": {},
   "source": [
    "### Question 1: How the number of gun applications has changed over years?"
   ]
  },
  {
   "cell_type": "markdown",
   "metadata": {},
   "source": [
    ">**I will create a line chart in order to see the trend in gun applications over time. Before doing that I will create a new dataframe from the census dataset.**"
   ]
  },
  {
   "cell_type": "code",
   "execution_count": 86,
   "metadata": {},
   "outputs": [
    {
     "data": {
      "text/html": [
       "<div>\n",
       "<style scoped>\n",
       "    .dataframe tbody tr th:only-of-type {\n",
       "        vertical-align: middle;\n",
       "    }\n",
       "\n",
       "    .dataframe tbody tr th {\n",
       "        vertical-align: top;\n",
       "    }\n",
       "\n",
       "    .dataframe thead th {\n",
       "        text-align: right;\n",
       "    }\n",
       "</style>\n",
       "<table border=\"1\" class=\"dataframe\">\n",
       "  <thead>\n",
       "    <tr style=\"text-align: right;\">\n",
       "      <th></th>\n",
       "      <th>month</th>\n",
       "      <th>state</th>\n",
       "      <th>handgun</th>\n",
       "      <th>long_gun</th>\n",
       "      <th>other</th>\n",
       "      <th>multiple</th>\n",
       "      <th>totals</th>\n",
       "    </tr>\n",
       "  </thead>\n",
       "  <tbody>\n",
       "    <tr>\n",
       "      <th>0</th>\n",
       "      <td>2017-09-01</td>\n",
       "      <td>Alabama</td>\n",
       "      <td>5743</td>\n",
       "      <td>6336</td>\n",
       "      <td>224</td>\n",
       "      <td>317</td>\n",
       "      <td>12620</td>\n",
       "    </tr>\n",
       "    <tr>\n",
       "      <th>1</th>\n",
       "      <td>2017-09-01</td>\n",
       "      <td>Alaska</td>\n",
       "      <td>2337</td>\n",
       "      <td>2954</td>\n",
       "      <td>220</td>\n",
       "      <td>160</td>\n",
       "      <td>5671</td>\n",
       "    </tr>\n",
       "    <tr>\n",
       "      <th>2</th>\n",
       "      <td>2017-09-01</td>\n",
       "      <td>Arizona</td>\n",
       "      <td>11101</td>\n",
       "      <td>7958</td>\n",
       "      <td>922</td>\n",
       "      <td>631</td>\n",
       "      <td>20612</td>\n",
       "    </tr>\n",
       "    <tr>\n",
       "      <th>3</th>\n",
       "      <td>2017-09-01</td>\n",
       "      <td>Arkansas</td>\n",
       "      <td>4360</td>\n",
       "      <td>6086</td>\n",
       "      <td>165</td>\n",
       "      <td>366</td>\n",
       "      <td>10977</td>\n",
       "    </tr>\n",
       "    <tr>\n",
       "      <th>4</th>\n",
       "      <td>2017-09-01</td>\n",
       "      <td>California</td>\n",
       "      <td>37165</td>\n",
       "      <td>24581</td>\n",
       "      <td>2984</td>\n",
       "      <td>0</td>\n",
       "      <td>64730</td>\n",
       "    </tr>\n",
       "  </tbody>\n",
       "</table>\n",
       "</div>"
      ],
      "text/plain": [
       "       month       state  handgun  long_gun  other  multiple  totals\n",
       "0 2017-09-01     Alabama     5743      6336    224       317   12620\n",
       "1 2017-09-01      Alaska     2337      2954    220       160    5671\n",
       "2 2017-09-01     Arizona    11101      7958    922       631   20612\n",
       "3 2017-09-01    Arkansas     4360      6086    165       366   10977\n",
       "4 2017-09-01  California    37165     24581   2984         0   64730"
      ]
     },
     "execution_count": 86,
     "metadata": {},
     "output_type": "execute_result"
    }
   ],
   "source": [
    "df.head()"
   ]
  },
  {
   "cell_type": "code",
   "execution_count": 56,
   "metadata": {},
   "outputs": [],
   "source": [
    "frame = {'month':df['month'],'total':df['totals']}\n",
    "years = pd.DataFrame(frame)\n",
    "years.insert(1,'year',df['month'].dt.year)"
   ]
  },
  {
   "cell_type": "markdown",
   "metadata": {},
   "source": [
    ">**Since I'm focusing on years in this analysis I will exclude the data where a year is not complete (i.e. where not all 12 months are represented).**"
   ]
  },
  {
   "cell_type": "code",
   "execution_count": 57,
   "metadata": {},
   "outputs": [],
   "source": [
    "years = years[(years.year > 1998) & (years.year < 2017)]"
   ]
  },
  {
   "cell_type": "markdown",
   "metadata": {},
   "source": [
    ">**Now, I will group the data by year and change the data type of years column for the purpose of creating the chart. Since I'm interested to see the changes in number of applications I will be using sum as an aggregation.**"
   ]
  },
  {
   "cell_type": "code",
   "execution_count": 58,
   "metadata": {
    "scrolled": true
   },
   "outputs": [],
   "source": [
    "years_grp = years.groupby('year')['total'].sum()\n",
    "frame2 = {'year':range(1999,2017),'app_number':years_grp}\n",
    "time_chart = pd.DataFrame(frame2)\n",
    "time_chart['year'] = pd.to_datetime(time_chart['year'], format = '%Y')"
   ]
  },
  {
   "cell_type": "code",
   "execution_count": 59,
   "metadata": {},
   "outputs": [
    {
     "data": {
      "text/html": [
       "<div>\n",
       "<style scoped>\n",
       "    .dataframe tbody tr th:only-of-type {\n",
       "        vertical-align: middle;\n",
       "    }\n",
       "\n",
       "    .dataframe tbody tr th {\n",
       "        vertical-align: top;\n",
       "    }\n",
       "\n",
       "    .dataframe thead th {\n",
       "        text-align: right;\n",
       "    }\n",
       "</style>\n",
       "<table border=\"1\" class=\"dataframe\">\n",
       "  <thead>\n",
       "    <tr style=\"text-align: right;\">\n",
       "      <th></th>\n",
       "      <th>year</th>\n",
       "      <th>app_number</th>\n",
       "    </tr>\n",
       "    <tr>\n",
       "      <th>year</th>\n",
       "      <th></th>\n",
       "      <th></th>\n",
       "    </tr>\n",
       "  </thead>\n",
       "  <tbody>\n",
       "    <tr>\n",
       "      <th>1999</th>\n",
       "      <td>1999-01-01</td>\n",
       "      <td>7857932</td>\n",
       "    </tr>\n",
       "    <tr>\n",
       "      <th>2000</th>\n",
       "      <td>2000-01-01</td>\n",
       "      <td>7067634</td>\n",
       "    </tr>\n",
       "    <tr>\n",
       "      <th>2001</th>\n",
       "      <td>2001-01-01</td>\n",
       "      <td>7207720</td>\n",
       "    </tr>\n",
       "    <tr>\n",
       "      <th>2002</th>\n",
       "      <td>2002-01-01</td>\n",
       "      <td>6347492</td>\n",
       "    </tr>\n",
       "    <tr>\n",
       "      <th>2003</th>\n",
       "      <td>2003-01-01</td>\n",
       "      <td>6333371</td>\n",
       "    </tr>\n",
       "    <tr>\n",
       "      <th>2004</th>\n",
       "      <td>2004-01-01</td>\n",
       "      <td>6599292</td>\n",
       "    </tr>\n",
       "    <tr>\n",
       "      <th>2005</th>\n",
       "      <td>2005-01-01</td>\n",
       "      <td>6935952</td>\n",
       "    </tr>\n",
       "    <tr>\n",
       "      <th>2006</th>\n",
       "      <td>2006-01-01</td>\n",
       "      <td>7361033</td>\n",
       "    </tr>\n",
       "    <tr>\n",
       "      <th>2007</th>\n",
       "      <td>2007-01-01</td>\n",
       "      <td>7530727</td>\n",
       "    </tr>\n",
       "    <tr>\n",
       "      <th>2008</th>\n",
       "      <td>2008-01-01</td>\n",
       "      <td>8426245</td>\n",
       "    </tr>\n",
       "    <tr>\n",
       "      <th>2009</th>\n",
       "      <td>2009-01-01</td>\n",
       "      <td>8927138</td>\n",
       "    </tr>\n",
       "    <tr>\n",
       "      <th>2010</th>\n",
       "      <td>2010-01-01</td>\n",
       "      <td>8753555</td>\n",
       "    </tr>\n",
       "    <tr>\n",
       "      <th>2011</th>\n",
       "      <td>2011-01-01</td>\n",
       "      <td>10037110</td>\n",
       "    </tr>\n",
       "    <tr>\n",
       "      <th>2012</th>\n",
       "      <td>2012-01-01</td>\n",
       "      <td>12942281</td>\n",
       "    </tr>\n",
       "    <tr>\n",
       "      <th>2013</th>\n",
       "      <td>2013-01-01</td>\n",
       "      <td>13971298</td>\n",
       "    </tr>\n",
       "    <tr>\n",
       "      <th>2014</th>\n",
       "      <td>2014-01-01</td>\n",
       "      <td>12239516</td>\n",
       "    </tr>\n",
       "    <tr>\n",
       "      <th>2015</th>\n",
       "      <td>2015-01-01</td>\n",
       "      <td>13398580</td>\n",
       "    </tr>\n",
       "    <tr>\n",
       "      <th>2016</th>\n",
       "      <td>2016-01-01</td>\n",
       "      <td>14944510</td>\n",
       "    </tr>\n",
       "  </tbody>\n",
       "</table>\n",
       "</div>"
      ],
      "text/plain": [
       "           year  app_number\n",
       "year                       \n",
       "1999 1999-01-01     7857932\n",
       "2000 2000-01-01     7067634\n",
       "2001 2001-01-01     7207720\n",
       "2002 2002-01-01     6347492\n",
       "2003 2003-01-01     6333371\n",
       "2004 2004-01-01     6599292\n",
       "2005 2005-01-01     6935952\n",
       "2006 2006-01-01     7361033\n",
       "2007 2007-01-01     7530727\n",
       "2008 2008-01-01     8426245\n",
       "2009 2009-01-01     8927138\n",
       "2010 2010-01-01     8753555\n",
       "2011 2011-01-01    10037110\n",
       "2012 2012-01-01    12942281\n",
       "2013 2013-01-01    13971298\n",
       "2014 2014-01-01    12239516\n",
       "2015 2015-01-01    13398580\n",
       "2016 2016-01-01    14944510"
      ]
     },
     "execution_count": 59,
     "metadata": {},
     "output_type": "execute_result"
    }
   ],
   "source": [
    "time_chart"
   ]
  },
  {
   "cell_type": "code",
   "execution_count": 60,
   "metadata": {
    "scrolled": true
   },
   "outputs": [
    {
     "data": {
      "image/png": "[encoded data removed]",
      "text/plain": [
       "<Figure size 360x360 with 1 Axes>"
      ]
     },
     "metadata": {
      "needs_background": "light"
     },
     "output_type": "display_data"
    }
   ],
   "source": [
    "plt.subplots(figsize=(5, 5))\n",
    "plt.plot_date(x=time_chart['year'],y=time_chart['app_number'], fmt=\"r-\")\n",
    "plt.title('The number of gun applications per year')\n",
    "plt.ylabel('The number of gun applications')\n",
    "plt.xlabel('Years')\n",
    "plt.ticklabel_format(style='plain', axis='y', scilimits=(0, 0))\n",
    "plt.grid(True);"
   ]
  },
  {
   "cell_type": "markdown",
   "metadata": {},
   "source": [
    ">**I chose the line chart since it's the best option to compare the changes of trends over time.**"
   ]
  },
  {
   "cell_type": "markdown",
   "metadata": {},
   "source": [
    ">**Looking at the chart I can conclude that the number of gun application has grown over the years.**"
   ]
  },
  {
   "cell_type": "markdown",
   "metadata": {},
   "source": [
    "### Question 2: Which state has the highest number of applictions?"
   ]
  },
  {
   "cell_type": "markdown",
   "metadata": {},
   "source": [
    ">**Since the census data is up to 1st of July 2016 I need to exclude the gun dataset with month starting from 2016-Jul. I'll convert 'month' column to date first.**"
   ]
  },
  {
   "cell_type": "code",
   "execution_count": 61,
   "metadata": {},
   "outputs": [],
   "source": [
    "dfq2 = df[df['month']<'2016-07']"
   ]
  },
  {
   "cell_type": "markdown",
   "metadata": {},
   "source": [
    ">**I chose a sum for the aggregation because this data be averaged during the analysis, i.e. not to average the data twice.**"
   ]
  },
  {
   "cell_type": "code",
   "execution_count": 62,
   "metadata": {
    "scrolled": true
   },
   "outputs": [],
   "source": [
    "dfq2_grp = dfq2.groupby('state')['totals'].sum()"
   ]
  },
  {
   "cell_type": "markdown",
   "metadata": {},
   "source": [
    ">**I'll prepare the dataframes for merging so that I can gather all the columns in one table.**"
   ]
  },
  {
   "cell_type": "code",
   "execution_count": 63,
   "metadata": {
    "scrolled": true
   },
   "outputs": [],
   "source": [
    "frame3 = {'state':df['state'].unique(),'app_num':dfq2_grp}\n",
    "dfmerge = pd.DataFrame(frame3)\n",
    "dfmerge.reset_index(drop = True, inplace = True)"
   ]
  },
  {
   "cell_type": "code",
   "execution_count": 64,
   "metadata": {
    "scrolled": false
   },
   "outputs": [
    {
     "data": {
      "text/html": [
       "<div>\n",
       "<style scoped>\n",
       "    .dataframe tbody tr th:only-of-type {\n",
       "        vertical-align: middle;\n",
       "    }\n",
       "\n",
       "    .dataframe tbody tr th {\n",
       "        vertical-align: top;\n",
       "    }\n",
       "\n",
       "    .dataframe thead th {\n",
       "        text-align: right;\n",
       "    }\n",
       "</style>\n",
       "<table border=\"1\" class=\"dataframe\">\n",
       "  <thead>\n",
       "    <tr style=\"text-align: right;\">\n",
       "      <th>Fact</th>\n",
       "      <th>state</th>\n",
       "      <th>population</th>\n",
       "      <th>income</th>\n",
       "      <th>Handgun_Permit_Required</th>\n",
       "      <th>Long_Gun_Permit_Required</th>\n",
       "      <th>Stand_or_Retreat</th>\n",
       "    </tr>\n",
       "  </thead>\n",
       "  <tbody>\n",
       "    <tr>\n",
       "      <th>0</th>\n",
       "      <td>Alabama</td>\n",
       "      <td>4863300</td>\n",
       "      <td>24091</td>\n",
       "      <td>No</td>\n",
       "      <td>No</td>\n",
       "      <td>Stand</td>\n",
       "    </tr>\n",
       "    <tr>\n",
       "      <th>1</th>\n",
       "      <td>Alaska</td>\n",
       "      <td>741894</td>\n",
       "      <td>33413</td>\n",
       "      <td>No</td>\n",
       "      <td>No</td>\n",
       "      <td>Stand</td>\n",
       "    </tr>\n",
       "    <tr>\n",
       "      <th>2</th>\n",
       "      <td>Arizona</td>\n",
       "      <td>6931071</td>\n",
       "      <td>25848</td>\n",
       "      <td>No</td>\n",
       "      <td>No</td>\n",
       "      <td>Stand</td>\n",
       "    </tr>\n",
       "    <tr>\n",
       "      <th>3</th>\n",
       "      <td>Arkansas</td>\n",
       "      <td>2988248</td>\n",
       "      <td>22798</td>\n",
       "      <td>No</td>\n",
       "      <td>No</td>\n",
       "      <td>Retreat</td>\n",
       "    </tr>\n",
       "    <tr>\n",
       "      <th>4</th>\n",
       "      <td>California</td>\n",
       "      <td>39250017</td>\n",
       "      <td>30318</td>\n",
       "      <td>Yes</td>\n",
       "      <td>Yes</td>\n",
       "      <td>Stand</td>\n",
       "    </tr>\n",
       "  </tbody>\n",
       "</table>\n",
       "</div>"
      ],
      "text/plain": [
       "Fact       state  population  income Handgun_Permit_Required  \\\n",
       "0        Alabama     4863300   24091                      No   \n",
       "1         Alaska      741894   33413                      No   \n",
       "2        Arizona     6931071   25848                      No   \n",
       "3       Arkansas     2988248   22798                      No   \n",
       "4     California    39250017   30318                     Yes   \n",
       "\n",
       "Fact Long_Gun_Permit_Required Stand_or_Retreat  \n",
       "0                          No            Stand  \n",
       "1                          No            Stand  \n",
       "2                          No            Stand  \n",
       "3                          No          Retreat  \n",
       "4                         Yes            Stand  "
      ]
     },
     "execution_count": 64,
     "metadata": {},
     "output_type": "execute_result"
    }
   ],
   "source": [
    "df2.head()"
   ]
  },
  {
   "cell_type": "code",
   "execution_count": 65,
   "metadata": {},
   "outputs": [],
   "source": [
    "frame4 = {'state':df2['state'],'population':df2['population']}\n",
    "df2merge = pd.DataFrame(frame4)"
   ]
  },
  {
   "cell_type": "code",
   "execution_count": 66,
   "metadata": {},
   "outputs": [],
   "source": [
    "def merge_state(left,right):\n",
    "#this function takes 2 table name as the arguments as merges the specified tables in inner join style.\n",
    "    frame = pd.merge(left,right,how='inner',left_on = 'state',right_on = 'state')\n",
    "    return frame"
   ]
  },
  {
   "cell_type": "code",
   "execution_count": 67,
   "metadata": {
    "scrolled": true
   },
   "outputs": [
    {
     "data": {
      "text/html": [
       "<div>\n",
       "<style scoped>\n",
       "    .dataframe tbody tr th:only-of-type {\n",
       "        vertical-align: middle;\n",
       "    }\n",
       "\n",
       "    .dataframe tbody tr th {\n",
       "        vertical-align: top;\n",
       "    }\n",
       "\n",
       "    .dataframe thead th {\n",
       "        text-align: right;\n",
       "    }\n",
       "</style>\n",
       "<table border=\"1\" class=\"dataframe\">\n",
       "  <thead>\n",
       "    <tr style=\"text-align: right;\">\n",
       "      <th></th>\n",
       "      <th>state</th>\n",
       "      <th>app_num</th>\n",
       "      <th>population</th>\n",
       "    </tr>\n",
       "  </thead>\n",
       "  <tbody>\n",
       "    <tr>\n",
       "      <th>0</th>\n",
       "      <td>Alabama</td>\n",
       "      <td>4741400</td>\n",
       "      <td>4863300</td>\n",
       "    </tr>\n",
       "    <tr>\n",
       "      <th>1</th>\n",
       "      <td>Alaska</td>\n",
       "      <td>957662</td>\n",
       "      <td>741894</td>\n",
       "    </tr>\n",
       "    <tr>\n",
       "      <th>2</th>\n",
       "      <td>Arizona</td>\n",
       "      <td>3054484</td>\n",
       "      <td>6931071</td>\n",
       "    </tr>\n",
       "    <tr>\n",
       "      <th>3</th>\n",
       "      <td>Arkansas</td>\n",
       "      <td>2509528</td>\n",
       "      <td>2988248</td>\n",
       "    </tr>\n",
       "    <tr>\n",
       "      <th>4</th>\n",
       "      <td>California</td>\n",
       "      <td>10939766</td>\n",
       "      <td>39250017</td>\n",
       "    </tr>\n",
       "  </tbody>\n",
       "</table>\n",
       "</div>"
      ],
      "text/plain": [
       "        state   app_num  population\n",
       "0     Alabama   4741400     4863300\n",
       "1      Alaska    957662      741894\n",
       "2     Arizona   3054484     6931071\n",
       "3    Arkansas   2509528     2988248\n",
       "4  California  10939766    39250017"
      ]
     },
     "execution_count": 67,
     "metadata": {},
     "output_type": "execute_result"
    }
   ],
   "source": [
    "main_frame = merge_state(dfmerge,df2merge)\n",
    "main_frame.head()"
   ]
  },
  {
   "cell_type": "markdown",
   "metadata": {},
   "source": [
    ">**I'll use the number of applications divided by the number of population to caclulate the average number of applications per person since some states are less populated than other.**"
   ]
  },
  {
   "cell_type": "code",
   "execution_count": 68,
   "metadata": {
    "scrolled": true
   },
   "outputs": [],
   "source": [
    "main_frame['ratio'] = main_frame['app_num']/main_frame['population']\n",
    "pd.options.display.float_format = '{:.6f}'.format#increasing the number of digits after the decimal point \n",
    "#to show the values."
   ]
  },
  {
   "cell_type": "code",
   "execution_count": 69,
   "metadata": {
    "scrolled": true
   },
   "outputs": [
    {
     "data": {
      "image/png": "[encoded data removed]",
      "text/plain": [
       "<Figure size 432x288 with 1 Axes>"
      ]
     },
     "metadata": {
      "needs_background": "light"
     },
     "output_type": "display_data"
    }
   ],
   "source": [
    "main_frame['ratio'].hist();"
   ]
  },
  {
   "cell_type": "markdown",
   "metadata": {},
   "source": [
    ">**The distribution of ratio column values looks closer to normal now so it can be analyzed with .mean() function.** "
   ]
  },
  {
   "cell_type": "markdown",
   "metadata": {},
   "source": [
    ">**I'll add state codes so that it displays better.**"
   ]
  },
  {
   "cell_type": "code",
   "execution_count": 70,
   "metadata": {
    "scrolled": true
   },
   "outputs": [],
   "source": [
    "main_frame['state_code'] = ['AL', 'AK', 'AZ', 'AR', 'CA', 'CO', 'CT', 'DE', 'FL', 'GA', 'HI', 'ID', 'IL', 'IN', 'IA', 'KS', 'KY', 'LA', 'ME', 'MD', 'MA', 'MI','MT', 'MS', 'MO', 'MT', 'NE','NV', 'NH', 'NJ', 'NM', 'NY', 'NC', 'ND', 'OH', 'OK', 'OR', 'PA', 'RI', 'SC', 'SD', 'TN', 'TX', 'UT', 'VT', 'VA', 'WA', 'WV', 'WI', 'WY']"
   ]
  },
  {
   "cell_type": "code",
   "execution_count": 71,
   "metadata": {
    "scrolled": true
   },
   "outputs": [
    {
     "data": {
      "image/png": "[encoded data removed]",
      "text/plain": [
       "<Figure size 1296x360 with 1 Axes>"
      ]
     },
     "metadata": {
      "needs_background": "light"
     },
     "output_type": "display_data"
    }
   ],
   "source": [
    "state_barchart = main_frame.sort_values('ratio',ascending = False)\n",
    "plt.subplots(figsize=(18, 5))\n",
    "plt.title('Ratio of applications by state')\n",
    "plt.xlabel('State')\n",
    "plt.ylabel('Ratio')\n",
    "plt.xticks(range(50),state_barchart['state_code'])\n",
    "plt.bar(range(50),state_barchart['ratio'],align = 'center',alpha = 1);"
   ]
  },
  {
   "cell_type": "markdown",
   "metadata": {},
   "source": [
    ">**I chose bar chart to compare the number of applications by state since it's best to compare the rate across so many state.**"
   ]
  },
  {
   "cell_type": "markdown",
   "metadata": {},
   "source": [
    ">**The chart shows that West Virginia, Montana, Alaska, South Dakota and Wyoming have the highest gun applications ratio while other states as New York, Massachusetts, New Jersey and Hawaii have the lowest rate.**"
   ]
  },
  {
   "cell_type": "markdown",
   "metadata": {},
   "source": [
    "### Question 3: Do gun laws impact the number of applications?"
   ]
  },
  {
   "cell_type": "code",
   "execution_count": 72,
   "metadata": {},
   "outputs": [
    {
     "data": {
      "text/html": [
       "<div>\n",
       "<style scoped>\n",
       "    .dataframe tbody tr th:only-of-type {\n",
       "        vertical-align: middle;\n",
       "    }\n",
       "\n",
       "    .dataframe tbody tr th {\n",
       "        vertical-align: top;\n",
       "    }\n",
       "\n",
       "    .dataframe thead th {\n",
       "        text-align: right;\n",
       "    }\n",
       "</style>\n",
       "<table border=\"1\" class=\"dataframe\">\n",
       "  <thead>\n",
       "    <tr style=\"text-align: right;\">\n",
       "      <th></th>\n",
       "      <th>state</th>\n",
       "      <th>app_num</th>\n",
       "      <th>population</th>\n",
       "      <th>ratio</th>\n",
       "      <th>state_code</th>\n",
       "    </tr>\n",
       "  </thead>\n",
       "  <tbody>\n",
       "    <tr>\n",
       "      <th>0</th>\n",
       "      <td>Alabama</td>\n",
       "      <td>4741400</td>\n",
       "      <td>4863300</td>\n",
       "      <td>0.974935</td>\n",
       "      <td>AL</td>\n",
       "    </tr>\n",
       "    <tr>\n",
       "      <th>1</th>\n",
       "      <td>Alaska</td>\n",
       "      <td>957662</td>\n",
       "      <td>741894</td>\n",
       "      <td>1.290834</td>\n",
       "      <td>AK</td>\n",
       "    </tr>\n",
       "    <tr>\n",
       "      <th>2</th>\n",
       "      <td>Arizona</td>\n",
       "      <td>3054484</td>\n",
       "      <td>6931071</td>\n",
       "      <td>0.440694</td>\n",
       "      <td>AZ</td>\n",
       "    </tr>\n",
       "    <tr>\n",
       "      <th>3</th>\n",
       "      <td>Arkansas</td>\n",
       "      <td>2509528</td>\n",
       "      <td>2988248</td>\n",
       "      <td>0.839799</td>\n",
       "      <td>AR</td>\n",
       "    </tr>\n",
       "    <tr>\n",
       "      <th>4</th>\n",
       "      <td>California</td>\n",
       "      <td>10939766</td>\n",
       "      <td>39250017</td>\n",
       "      <td>0.278720</td>\n",
       "      <td>CA</td>\n",
       "    </tr>\n",
       "  </tbody>\n",
       "</table>\n",
       "</div>"
      ],
      "text/plain": [
       "        state   app_num  population    ratio state_code\n",
       "0     Alabama   4741400     4863300 0.974935         AL\n",
       "1      Alaska    957662      741894 1.290834         AK\n",
       "2     Arizona   3054484     6931071 0.440694         AZ\n",
       "3    Arkansas   2509528     2988248 0.839799         AR\n",
       "4  California  10939766    39250017 0.278720         CA"
      ]
     },
     "execution_count": 72,
     "metadata": {},
     "output_type": "execute_result"
    }
   ],
   "source": [
    "main_frame.head()"
   ]
  },
  {
   "cell_type": "markdown",
   "metadata": {},
   "source": [
    ">**In order to answer this question I will add new columns containing the data regarding gun laws to the dataframe.**"
   ]
  },
  {
   "cell_type": "code",
   "execution_count": 73,
   "metadata": {},
   "outputs": [],
   "source": [
    "main_frame.insert(1,'handgun_permit',df2['Handgun_Permit_Required'])\n",
    "main_frame.insert(2,'long_gun_permit',df2['Long_Gun_Permit_Required'])\n",
    "main_frame.insert(3,'stand_or_retreat',df2['Stand_or_Retreat'])"
   ]
  },
  {
   "cell_type": "markdown",
   "metadata": {},
   "source": [
    ">**I will create a dataframe since it's more effective to create a bar chart from a separate dataframe.**\n",
    "\n",
    ">**I chose mean here since the ratio distribution is close to normal.**"
   ]
  },
  {
   "cell_type": "code",
   "execution_count": 74,
   "metadata": {
    "scrolled": true
   },
   "outputs": [
    {
     "data": {
      "text/plain": [
       "stand_or_retreat\n",
       "Retreat   0.434997\n",
       "Stand     0.717493\n",
       "Name: ratio, dtype: float64"
      ]
     },
     "execution_count": 74,
     "metadata": {},
     "output_type": "execute_result"
    }
   ],
   "source": [
    "q3_grp = main_frame.groupby('stand_or_retreat')['ratio'].mean()\n",
    "q3_grp"
   ]
  },
  {
   "cell_type": "code",
   "execution_count": 75,
   "metadata": {},
   "outputs": [],
   "source": [
    "frame5 = {'stand_or_retreat':['Duty to Retreat','Stand Your Ground'],'ratio':q3_grp}\n",
    "SoR_barchart = pd.DataFrame(frame5)"
   ]
  },
  {
   "cell_type": "code",
   "execution_count": 76,
   "metadata": {
    "scrolled": true
   },
   "outputs": [
    {
     "data": {
      "text/html": [
       "<div>\n",
       "<style scoped>\n",
       "    .dataframe tbody tr th:only-of-type {\n",
       "        vertical-align: middle;\n",
       "    }\n",
       "\n",
       "    .dataframe tbody tr th {\n",
       "        vertical-align: top;\n",
       "    }\n",
       "\n",
       "    .dataframe thead th {\n",
       "        text-align: right;\n",
       "    }\n",
       "</style>\n",
       "<table border=\"1\" class=\"dataframe\">\n",
       "  <thead>\n",
       "    <tr style=\"text-align: right;\">\n",
       "      <th></th>\n",
       "      <th>stand_or_retreat</th>\n",
       "      <th>ratio</th>\n",
       "    </tr>\n",
       "  </thead>\n",
       "  <tbody>\n",
       "    <tr>\n",
       "      <th>0</th>\n",
       "      <td>Duty to Retreat</td>\n",
       "      <td>0.434997</td>\n",
       "    </tr>\n",
       "    <tr>\n",
       "      <th>1</th>\n",
       "      <td>Stand Your Ground</td>\n",
       "      <td>0.717493</td>\n",
       "    </tr>\n",
       "  </tbody>\n",
       "</table>\n",
       "</div>"
      ],
      "text/plain": [
       "    stand_or_retreat    ratio\n",
       "0    Duty to Retreat 0.434997\n",
       "1  Stand Your Ground 0.717493"
      ]
     },
     "execution_count": 76,
     "metadata": {},
     "output_type": "execute_result"
    }
   ],
   "source": [
    "SoR_barchart.reset_index(drop = True, inplace = True)\n",
    "SoR_barchart"
   ]
  },
  {
   "cell_type": "code",
   "execution_count": 77,
   "metadata": {
    "scrolled": true
   },
   "outputs": [
    {
     "data": {
      "image/png": "[encoded data removed]",
      "text/plain": [
       "<Figure size 1296x360 with 1 Axes>"
      ]
     },
     "metadata": {
      "needs_background": "light"
     },
     "output_type": "display_data"
    }
   ],
   "source": [
    "plt.subplots(figsize=(18, 5))\n",
    "plt.title('Ratio of applications by stand or retreat doctrine')\n",
    "plt.xlabel('Stand or Retreat')\n",
    "plt.ylabel('Ratio')\n",
    "plt.xticks([2,4],SoR_barchart['stand_or_retreat'])\n",
    "plt.bar([2,4],SoR_barchart['ratio'],align = 'center',alpha = 1);"
   ]
  },
  {
   "cell_type": "markdown",
   "metadata": {},
   "source": [
    ">**I chose the bar chart to show the distribution of doctrines data since the rates for yeach category can be easily compared.**"
   ]
  },
  {
   "cell_type": "markdown",
   "metadata": {},
   "source": [
    ">**I can conclude from this bar chart that average ratio of gun applications is higher in the states where 'Stand Your Ground' doctrine is adopted.**"
   ]
  },
  {
   "cell_type": "markdown",
   "metadata": {},
   "source": [
    ">**Again, I will create a separate dataframe for the charts then I will create a bar chart with a column for each of 4 possible gun law options.**"
   ]
  },
  {
   "cell_type": "code",
   "execution_count": 78,
   "metadata": {
    "scrolled": false
   },
   "outputs": [
    {
     "data": {
      "text/plain": [
       "handgun_permit  long_gun_permit\n",
       "No              No                0.774514\n",
       "                Yes               0.522211\n",
       "Yes             No                0.358491\n",
       "                Yes               0.213935\n",
       "Name: ratio, dtype: float64"
      ]
     },
     "execution_count": 78,
     "metadata": {},
     "output_type": "execute_result"
    }
   ],
   "source": [
    "q3_grp2 = main_frame.groupby(['handgun_permit','long_gun_permit'])['ratio'].mean()\n",
    "q3_grp2"
   ]
  },
  {
   "cell_type": "code",
   "execution_count": 79,
   "metadata": {
    "scrolled": true
   },
   "outputs": [],
   "source": [
    "frame6 = {'gun_permit':['No Pemit','For Long Gun','For Hand Gun','Permit Required'],'ratio':q3_grp2}\n",
    "gunlaw_barchart = pd.DataFrame(frame6)"
   ]
  },
  {
   "cell_type": "code",
   "execution_count": 80,
   "metadata": {},
   "outputs": [],
   "source": [
    "gunlaw_barchart.reset_index(drop = True, inplace = True)"
   ]
  },
  {
   "cell_type": "code",
   "execution_count": 81,
   "metadata": {
    "scrolled": true
   },
   "outputs": [
    {
     "data": {
      "text/html": [
       "<div>\n",
       "<style scoped>\n",
       "    .dataframe tbody tr th:only-of-type {\n",
       "        vertical-align: middle;\n",
       "    }\n",
       "\n",
       "    .dataframe tbody tr th {\n",
       "        vertical-align: top;\n",
       "    }\n",
       "\n",
       "    .dataframe thead th {\n",
       "        text-align: right;\n",
       "    }\n",
       "</style>\n",
       "<table border=\"1\" class=\"dataframe\">\n",
       "  <thead>\n",
       "    <tr style=\"text-align: right;\">\n",
       "      <th></th>\n",
       "      <th>gun_permit</th>\n",
       "      <th>ratio</th>\n",
       "    </tr>\n",
       "  </thead>\n",
       "  <tbody>\n",
       "    <tr>\n",
       "      <th>0</th>\n",
       "      <td>No Pemit</td>\n",
       "      <td>0.774514</td>\n",
       "    </tr>\n",
       "    <tr>\n",
       "      <th>1</th>\n",
       "      <td>For Long Gun</td>\n",
       "      <td>0.522211</td>\n",
       "    </tr>\n",
       "    <tr>\n",
       "      <th>2</th>\n",
       "      <td>For Hand Gun</td>\n",
       "      <td>0.358491</td>\n",
       "    </tr>\n",
       "    <tr>\n",
       "      <th>3</th>\n",
       "      <td>Permit Required</td>\n",
       "      <td>0.213935</td>\n",
       "    </tr>\n",
       "  </tbody>\n",
       "</table>\n",
       "</div>"
      ],
      "text/plain": [
       "        gun_permit    ratio\n",
       "0         No Pemit 0.774514\n",
       "1     For Long Gun 0.522211\n",
       "2     For Hand Gun 0.358491\n",
       "3  Permit Required 0.213935"
      ]
     },
     "execution_count": 81,
     "metadata": {},
     "output_type": "execute_result"
    }
   ],
   "source": [
    "gunlaw_barchart"
   ]
  },
  {
   "cell_type": "code",
   "execution_count": 82,
   "metadata": {
    "scrolled": false
   },
   "outputs": [
    {
     "data": {
      "image/png": "[encoded data removed]",
      "text/plain": [
       "<Figure size 1296x360 with 1 Axes>"
      ]
     },
     "metadata": {
      "needs_background": "light"
     },
     "output_type": "display_data"
    }
   ],
   "source": [
    "plt.subplots(figsize=(18, 5))\n",
    "plt.title('Ratio of applications by gun permit')\n",
    "plt.xlabel('Permit for hand or long guns?')\n",
    "plt.ylabel('Ratio')\n",
    "plt.xticks([2,4,6,8],gunlaw_barchart['gun_permit'])\n",
    "plt.bar([2,4,6,8],gunlaw_barchart['ratio'],align = 'center',alpha = 1);"
   ]
  },
  {
   "cell_type": "markdown",
   "metadata": {},
   "source": [
    ">**I chose the bar chart to show the distribution of gun permit data since the rates for yeach category can be easily compared.**"
   ]
  },
  {
   "cell_type": "markdown",
   "metadata": {},
   "source": [
    ">**I can conclude from the bar chart the states without a permit for both types of guns has the highest rate of gun applications. The second one is the state without permit for hand guns. The lowest rate of gun applications is observed where the permit for buying both guns is required.**"
   ]
  },
  {
   "cell_type": "markdown",
   "metadata": {},
   "source": [
    ">**I will look at the list of the states with no permit required and with the 'Stand Your Ground' doctrine adopted.** "
   ]
  },
  {
   "cell_type": "code",
   "execution_count": 88,
   "metadata": {
    "scrolled": false
   },
   "outputs": [
    {
     "name": "stdout",
     "output_type": "stream",
     "text": [
      "list of states with no permit: \n",
      "['Alabama', 'Alaska', 'Arizona', 'Arkansas', 'Colorado', 'Delaware', 'Florida', 'Georgia', 'Idaho', 'Indiana', 'Kansas', 'Kentucky', 'Louisiana', 'Maine', 'Michigan', 'Mississippi', 'Missouri', 'Montana', 'Nevada', 'New Hampshire', 'New Mexico', 'North Dakota', 'Ohio', 'Oklahoma', 'Oregon', 'Pennsylvania', 'South Carolina', 'South Dakota', 'Tennessee', 'Texas', 'Utah', 'Vermont', 'Virginia', 'West Virginia', 'Wyoming']\n",
      "--------------------------------------------------\n",
      "list of states with SYG: \n",
      "['Alabama', 'Alaska', 'Arizona', 'Arkansas', 'Colorado', 'Delaware', 'Florida', 'Georgia', 'Idaho', 'Indiana', 'Kansas', 'Kentucky', 'Louisiana', 'Maine', 'Michigan', 'Mississippi', 'Missouri', 'Montana', 'Nevada', 'New Hampshire', 'New Mexico', 'North Dakota', 'Ohio', 'Oklahoma', 'Oregon', 'Pennsylvania', 'South Carolina', 'South Dakota', 'Tennessee', 'Texas', 'Utah', 'Vermont', 'Virginia', 'West Virginia', 'Wyoming']\n"
     ]
    }
   ],
   "source": [
    "no_permit = []\n",
    "for n,i in enumerate(df2['state']):\n",
    "    if df2.loc[n,'Handgun_Permit_Required'] == 'No' and df2.loc[n,'Long_Gun_Permit_Required'] == 'No':\n",
    "        no_permit.append(i)\n",
    "print('list of states with no permit: ')\n",
    "print(no_permit)\n",
    "print('-'*50)\n",
    "syg = []\n",
    "for n,i in enumerate(df2['state']):\n",
    "    if df2.loc[n,'Stand_or_Retreat'] == 'SYG':\n",
    "        syg.append(i)\n",
    "print('list of states with SYG: ')\n",
    "print(no_permit)"
   ]
  },
  {
   "cell_type": "markdown",
   "metadata": {},
   "source": [
    ">**It can be seen from the table above that the states with the highest rates of gun applications are in both lists of states with no gun permit and with 'Stand Your Ground' doctrine adopted.**"
   ]
  },
  {
   "cell_type": "markdown",
   "metadata": {},
   "source": [
    "### Question 4: Does the level of income impacts the number of applications?"
   ]
  },
  {
   "cell_type": "markdown",
   "metadata": {},
   "source": [
    ">**To answer this question I will adjust the data from the gun data so that it was it the same timeframe as the income column in the census data (2011-2015), calculate the ratio and create a new dataframe for more effective plotting.**"
   ]
  },
  {
   "cell_type": "code",
   "execution_count": 368,
   "metadata": {},
   "outputs": [],
   "source": [
    "income_filter = df[(df.month < '2016-01') & (df.month > '2010-12')]"
   ]
  },
  {
   "cell_type": "code",
   "execution_count": 369,
   "metadata": {
    "scrolled": true
   },
   "outputs": [],
   "source": [
    "income_filter.reset_index(drop = True, inplace = True)"
   ]
  },
  {
   "cell_type": "code",
   "execution_count": 370,
   "metadata": {
    "scrolled": true
   },
   "outputs": [
    {
     "data": {
      "text/html": [
       "<div>\n",
       "<style scoped>\n",
       "    .dataframe tbody tr th:only-of-type {\n",
       "        vertical-align: middle;\n",
       "    }\n",
       "\n",
       "    .dataframe tbody tr th {\n",
       "        vertical-align: top;\n",
       "    }\n",
       "\n",
       "    .dataframe thead th {\n",
       "        text-align: right;\n",
       "    }\n",
       "</style>\n",
       "<table border=\"1\" class=\"dataframe\">\n",
       "  <thead>\n",
       "    <tr style=\"text-align: right;\">\n",
       "      <th></th>\n",
       "      <th>month</th>\n",
       "      <th>state</th>\n",
       "      <th>handgun</th>\n",
       "      <th>long_gun</th>\n",
       "      <th>other</th>\n",
       "      <th>multiple</th>\n",
       "      <th>totals</th>\n",
       "    </tr>\n",
       "  </thead>\n",
       "  <tbody>\n",
       "    <tr>\n",
       "      <th>0</th>\n",
       "      <td>2015-12-01</td>\n",
       "      <td>Alabama</td>\n",
       "      <td>47617</td>\n",
       "      <td>33724</td>\n",
       "      <td>1702</td>\n",
       "      <td>1752</td>\n",
       "      <td>84795</td>\n",
       "    </tr>\n",
       "    <tr>\n",
       "      <th>1</th>\n",
       "      <td>2015-12-01</td>\n",
       "      <td>Alaska</td>\n",
       "      <td>5266</td>\n",
       "      <td>4641</td>\n",
       "      <td>356</td>\n",
       "      <td>214</td>\n",
       "      <td>10477</td>\n",
       "    </tr>\n",
       "    <tr>\n",
       "      <th>2</th>\n",
       "      <td>2015-12-01</td>\n",
       "      <td>Arizona</td>\n",
       "      <td>25568</td>\n",
       "      <td>14727</td>\n",
       "      <td>1329</td>\n",
       "      <td>995</td>\n",
       "      <td>42619</td>\n",
       "    </tr>\n",
       "    <tr>\n",
       "      <th>3</th>\n",
       "      <td>2015-12-01</td>\n",
       "      <td>Arkansas</td>\n",
       "      <td>13789</td>\n",
       "      <td>15248</td>\n",
       "      <td>366</td>\n",
       "      <td>521</td>\n",
       "      <td>29924</td>\n",
       "    </tr>\n",
       "    <tr>\n",
       "      <th>4</th>\n",
       "      <td>2015-12-01</td>\n",
       "      <td>California</td>\n",
       "      <td>74399</td>\n",
       "      <td>48762</td>\n",
       "      <td>9583</td>\n",
       "      <td>0</td>\n",
       "      <td>132744</td>\n",
       "    </tr>\n",
       "  </tbody>\n",
       "</table>\n",
       "</div>"
      ],
      "text/plain": [
       "       month       state  handgun  long_gun  other  multiple  totals\n",
       "0 2015-12-01     Alabama    47617     33724   1702      1752   84795\n",
       "1 2015-12-01      Alaska     5266      4641    356       214   10477\n",
       "2 2015-12-01     Arizona    25568     14727   1329       995   42619\n",
       "3 2015-12-01    Arkansas    13789     15248    366       521   29924\n",
       "4 2015-12-01  California    74399     48762   9583         0  132744"
      ]
     },
     "execution_count": 370,
     "metadata": {},
     "output_type": "execute_result"
    }
   ],
   "source": [
    "income_filter.head()"
   ]
  },
  {
   "cell_type": "code",
   "execution_count": 371,
   "metadata": {
    "scrolled": false
   },
   "outputs": [],
   "source": [
    "q4_grp = income_filter.groupby('state')['totals'].sum()"
   ]
  },
  {
   "cell_type": "code",
   "execution_count": 372,
   "metadata": {},
   "outputs": [
    {
     "data": {
      "text/html": [
       "<div>\n",
       "<style scoped>\n",
       "    .dataframe tbody tr th:only-of-type {\n",
       "        vertical-align: middle;\n",
       "    }\n",
       "\n",
       "    .dataframe tbody tr th {\n",
       "        vertical-align: top;\n",
       "    }\n",
       "\n",
       "    .dataframe thead th {\n",
       "        text-align: right;\n",
       "    }\n",
       "</style>\n",
       "<table border=\"1\" class=\"dataframe\">\n",
       "  <thead>\n",
       "    <tr style=\"text-align: right;\">\n",
       "      <th></th>\n",
       "      <th>state</th>\n",
       "      <th>sum_app</th>\n",
       "    </tr>\n",
       "  </thead>\n",
       "  <tbody>\n",
       "    <tr>\n",
       "      <th>0</th>\n",
       "      <td>Alabama</td>\n",
       "      <td>1879119</td>\n",
       "    </tr>\n",
       "    <tr>\n",
       "      <th>1</th>\n",
       "      <td>Alaska</td>\n",
       "      <td>389555</td>\n",
       "    </tr>\n",
       "    <tr>\n",
       "      <th>2</th>\n",
       "      <td>Arizona</td>\n",
       "      <td>1203340</td>\n",
       "    </tr>\n",
       "  </tbody>\n",
       "</table>\n",
       "</div>"
      ],
      "text/plain": [
       "     state  sum_app\n",
       "0  Alabama  1879119\n",
       "1   Alaska   389555\n",
       "2  Arizona  1203340"
      ]
     },
     "execution_count": 372,
     "metadata": {},
     "output_type": "execute_result"
    }
   ],
   "source": [
    "frame7 = {'state':income_filter['state'].unique(),'sum_app':q4_grp}\n",
    "income_gun = pd.DataFrame(frame7)\n",
    "income_gun.reset_index(drop = True, inplace = True)\n",
    "income_gun.head(3)"
   ]
  },
  {
   "cell_type": "code",
   "execution_count": 373,
   "metadata": {},
   "outputs": [],
   "source": [
    "frame8 = {'state':df2['state'],'population':df2['population'],'income':df2['income']}\n",
    "income_census = pd.DataFrame(frame8)"
   ]
  },
  {
   "cell_type": "code",
   "execution_count": 374,
   "metadata": {
    "scrolled": false
   },
   "outputs": [],
   "source": [
    "q4_main = merge_state(income_gun,income_census)"
   ]
  },
  {
   "cell_type": "code",
   "execution_count": 375,
   "metadata": {},
   "outputs": [
    {
     "data": {
      "text/html": [
       "<div>\n",
       "<style scoped>\n",
       "    .dataframe tbody tr th:only-of-type {\n",
       "        vertical-align: middle;\n",
       "    }\n",
       "\n",
       "    .dataframe tbody tr th {\n",
       "        vertical-align: top;\n",
       "    }\n",
       "\n",
       "    .dataframe thead th {\n",
       "        text-align: right;\n",
       "    }\n",
       "</style>\n",
       "<table border=\"1\" class=\"dataframe\">\n",
       "  <thead>\n",
       "    <tr style=\"text-align: right;\">\n",
       "      <th></th>\n",
       "      <th>state</th>\n",
       "      <th>sum_app</th>\n",
       "      <th>population</th>\n",
       "      <th>income</th>\n",
       "    </tr>\n",
       "  </thead>\n",
       "  <tbody>\n",
       "    <tr>\n",
       "      <th>0</th>\n",
       "      <td>Alabama</td>\n",
       "      <td>1879119</td>\n",
       "      <td>4863300</td>\n",
       "      <td>24091</td>\n",
       "    </tr>\n",
       "    <tr>\n",
       "      <th>1</th>\n",
       "      <td>Alaska</td>\n",
       "      <td>389555</td>\n",
       "      <td>741894</td>\n",
       "      <td>33413</td>\n",
       "    </tr>\n",
       "    <tr>\n",
       "      <th>2</th>\n",
       "      <td>Arizona</td>\n",
       "      <td>1203340</td>\n",
       "      <td>6931071</td>\n",
       "      <td>25848</td>\n",
       "    </tr>\n",
       "    <tr>\n",
       "      <th>3</th>\n",
       "      <td>Arkansas</td>\n",
       "      <td>798915</td>\n",
       "      <td>2988248</td>\n",
       "      <td>22798</td>\n",
       "    </tr>\n",
       "    <tr>\n",
       "      <th>4</th>\n",
       "      <td>California</td>\n",
       "      <td>4147316</td>\n",
       "      <td>39250017</td>\n",
       "      <td>30318</td>\n",
       "    </tr>\n",
       "  </tbody>\n",
       "</table>\n",
       "</div>"
      ],
      "text/plain": [
       "        state  sum_app  population  income\n",
       "0     Alabama  1879119     4863300   24091\n",
       "1      Alaska   389555      741894   33413\n",
       "2     Arizona  1203340     6931071   25848\n",
       "3    Arkansas   798915     2988248   22798\n",
       "4  California  4147316    39250017   30318"
      ]
     },
     "execution_count": 375,
     "metadata": {},
     "output_type": "execute_result"
    }
   ],
   "source": [
    "q4_main.head()"
   ]
  },
  {
   "cell_type": "code",
   "execution_count": 376,
   "metadata": {
    "scrolled": false
   },
   "outputs": [
    {
     "data": {
      "text/html": [
       "<div>\n",
       "<style scoped>\n",
       "    .dataframe tbody tr th:only-of-type {\n",
       "        vertical-align: middle;\n",
       "    }\n",
       "\n",
       "    .dataframe tbody tr th {\n",
       "        vertical-align: top;\n",
       "    }\n",
       "\n",
       "    .dataframe thead th {\n",
       "        text-align: right;\n",
       "    }\n",
       "</style>\n",
       "<table border=\"1\" class=\"dataframe\">\n",
       "  <thead>\n",
       "    <tr style=\"text-align: right;\">\n",
       "      <th></th>\n",
       "      <th>state</th>\n",
       "      <th>sum_app</th>\n",
       "      <th>population</th>\n",
       "      <th>income</th>\n",
       "      <th>ratio</th>\n",
       "    </tr>\n",
       "  </thead>\n",
       "  <tbody>\n",
       "    <tr>\n",
       "      <th>0</th>\n",
       "      <td>Alabama</td>\n",
       "      <td>1879119</td>\n",
       "      <td>4863300</td>\n",
       "      <td>24091</td>\n",
       "      <td>0.386388</td>\n",
       "    </tr>\n",
       "    <tr>\n",
       "      <th>1</th>\n",
       "      <td>Alaska</td>\n",
       "      <td>389555</td>\n",
       "      <td>741894</td>\n",
       "      <td>33413</td>\n",
       "      <td>0.525082</td>\n",
       "    </tr>\n",
       "    <tr>\n",
       "      <th>2</th>\n",
       "      <td>Arizona</td>\n",
       "      <td>1203340</td>\n",
       "      <td>6931071</td>\n",
       "      <td>25848</td>\n",
       "      <td>0.173615</td>\n",
       "    </tr>\n",
       "    <tr>\n",
       "      <th>3</th>\n",
       "      <td>Arkansas</td>\n",
       "      <td>798915</td>\n",
       "      <td>2988248</td>\n",
       "      <td>22798</td>\n",
       "      <td>0.267352</td>\n",
       "    </tr>\n",
       "  </tbody>\n",
       "</table>\n",
       "</div>"
      ],
      "text/plain": [
       "      state  sum_app  population  income    ratio\n",
       "0   Alabama  1879119     4863300   24091 0.386388\n",
       "1    Alaska   389555      741894   33413 0.525082\n",
       "2   Arizona  1203340     6931071   25848 0.173615\n",
       "3  Arkansas   798915     2988248   22798 0.267352"
      ]
     },
     "execution_count": 376,
     "metadata": {},
     "output_type": "execute_result"
    }
   ],
   "source": [
    "q4_main['ratio'] = q4_main['sum_app']/q4_main['population']\n",
    "q4_main.head(4)"
   ]
  },
  {
   "cell_type": "code",
   "execution_count": 377,
   "metadata": {
    "scrolled": true
   },
   "outputs": [
    {
     "data": {
      "image/png": "[encoded data removed]",
      "text/plain": [
       "<matplotlib.figure.Figure at 0x7f93409415c0>"
      ]
     },
     "metadata": {
      "needs_background": "light"
     },
     "output_type": "display_data"
    }
   ],
   "source": [
    "plt.subplots(figsize=(5, 5))\n",
    "plt.title('Income and ratio dependency')\n",
    "plt.xlabel('income')\n",
    "plt.ylabel('ratio')\n",
    "plt.scatter(q4_main['income'],q4_main['ratio'],c=(0,0,0),alpha = 1);"
   ]
  },
  {
   "cell_type": "markdown",
   "metadata": {},
   "source": [
    ">**I chose the scatterplot for that data since this plot is the best to compare 2 quantitative variables.**"
   ]
  },
  {
   "cell_type": "code",
   "execution_count": 378,
   "metadata": {
    "scrolled": true
   },
   "outputs": [
    {
     "data": {
      "text/plain": [
       "array([[ 1.        , -0.27043798],\n",
       "       [-0.27043798,  1.        ]])"
      ]
     },
     "execution_count": 378,
     "metadata": {},
     "output_type": "execute_result"
    }
   ],
   "source": [
    "np.corrcoef(q4_main['income'],q4_main['ratio'])"
   ]
  },
  {
   "cell_type": "markdown",
   "metadata": {},
   "source": [
    ">**As it can be seen from the chart even though the correlation coefficient shows a slight negative correlation the data is dispersed so I can tell for sure that the average in a particular state influences the number of gun applications.**"
   ]
  },
  {
   "cell_type": "markdown",
   "metadata": {},
   "source": [
    "<a id='conclusions'></a>\n",
    "## Conclusions\n",
    "\n",
    "> **Limitations of the Data**\n",
    "\n",
    ">**Summary**:\n",
    "\n",
    ">The main conclusion from the data is that the number of gun applications is steadily growing even though there have been some declines.\n",
    "\n",
    ">After investigating gun application data set I came to a conclusion that the most influental factor on gun purchases is the gun-related and self-defense laws. Based on the ratio of gun applications to populaiton it can be observed that the states without any permit required to purchase a gun and adopted 'Stand Your Ground' doctrine allowing to apply lethal force in order to defense one's self have the highest gun applications ratio.\n",
    "\n",
    ">The other fact that drew my attention is thata there are more applictions in the states where a permit is required to buy long guns only then in the states where a permit is required for hand guns.\n",
    "\n",
    ">I obtained no substantial evidence of the level of income impacting the number of gun applications even though there were a slight negative correlation it's not enough to conclude that income impact the number of gun applications.\n",
    "\n",
    "> **Tip**: Once you are satisfied with your work here, check over your report to make sure that it is satisfies all the areas of the rubric (found on the project submission page at the end of the lesson). You should also probably remove all of the \"Tips\" like this one so that the presentation is as polished as possible.\n",
    "\n",
    "> **Limitations of the Data**: \n",
    "\n",
    ">As it was said <a href=\"https://github.com/BuzzFeedNews/nics-firearm-background-checks/blob/master/README.md\">here</a> the number of firearm applications doesn't reflect the number of firearm purchases since a large proportion of firearms are bought withoug conducting a background check.\n",
    "\n",
    ">The population and income obtained form the census data are estimations which means they may not reflect the actual population.\n",
    "\n",
    ">In the census data there were no data for DC and US territories.\n",
    "\n",
    "## Submitting your Project \n",
    "\n",
    "> Before you submit your project, you need to create a .html or .pdf version of this notebook in the workspace here. To do that, run the code cell below. If it worked correctly, you should get a return code of 0, and you should see the generated .html file in the workspace directory (click on the orange Jupyter icon in the upper left).\n",
    "\n",
    "> Alternatively, you can download this report as .html via the **File** > **Download as** submenu, and then manually upload it into the workspace directory by clicking on the orange Jupyter icon in the upper left, then using the Upload button.\n",
    "\n",
    "> Once you've done this, you can submit your project by clicking on the \"Submit Project\" button in the lower right here. This will create and submit a zip file with this .ipynb doc and the .html or .pdf version you created. Congratulations!\n",
    "\n"
   ]
  },
  {
   "cell_type": "code",
   "execution_count": 379,
   "metadata": {},
   "outputs": [
    {
     "data": {
      "text/plain": [
       "0"
      ]
     },
     "execution_count": 379,
     "metadata": {},
     "output_type": "execute_result"
    }
   ],
   "source": [
    "from subprocess import call\n",
    "call(['python', '-m', 'nbconvert', 'Investigate_a_Dataset.ipynb'])"
   ]
  }
 ],
 "metadata": {
  "kernelspec": {
   "display_name": "Python 3",
   "language": "python",
   "name": "python3"
  },
  "language_info": {
   "codemirror_mode": {
    "name": "ipython",
    "version": 3
   },
   "file_extension": ".py",
   "mimetype": "text/x-python",
   "name": "python",
   "nbconvert_exporter": "python",
   "pygments_lexer": "ipython3",
   "version": "3.7.7"
  }
 },
 "nbformat": 4,
 "nbformat_minor": 2
}
